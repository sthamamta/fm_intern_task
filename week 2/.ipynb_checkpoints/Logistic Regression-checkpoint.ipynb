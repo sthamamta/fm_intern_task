{
 "cells": [
  {
   "cell_type": "code",
   "execution_count": 1,
   "metadata": {
    "ExecuteTime": {
     "end_time": "2021-06-09T13:06:28.433586Z",
     "start_time": "2021-06-09T13:06:28.296907Z"
    }
   },
   "outputs": [],
   "source": [
    "import numpy as np\n",
    "import pandas as pd\n",
    "from sklearn.datasets import load_breast_cancer\n",
    "from sklearn.model_selection import train_test_split\n",
    "from sklearn.preprocessing import StandardScaler"
   ]
  },
  {
   "cell_type": "markdown",
   "metadata": {},
   "source": [
    "# Implement Logistic Regression"
   ]
  },
  {
   "cell_type": "markdown",
   "metadata": {},
   "source": [
    "This will be helpful to further familiarize yourself with Numpy and how Logistic Regression actually works.\n",
    "If you face any problems, feel free to contact us in Slack"
   ]
  },
  {
   "cell_type": "markdown",
   "metadata": {},
   "source": [
    "### Load the breast cancer dataset (from sklearn)"
   ]
  },
  {
   "cell_type": "code",
   "execution_count": 2,
   "metadata": {
    "ExecuteTime": {
     "end_time": "2021-06-09T12:42:06.585347Z",
     "start_time": "2021-06-09T12:42:06.577169Z"
    }
   },
   "outputs": [],
   "source": [
    "# Code here\n",
    "dataset = load_breast_cancer()"
   ]
  },
  {
   "cell_type": "code",
   "execution_count": 3,
   "metadata": {},
   "outputs": [],
   "source": [
    "# df_cancer\n",
    "\n",
    "X = dataset.data\n",
    "Y = dataset.target\n",
    "\n",
    "df_cancer = pd.DataFrame(dataset.data, columns=dataset.feature_names)  \n",
    "df_cancer['class'] = dataset.target\n"
   ]
  },
  {
   "cell_type": "code",
   "execution_count": 4,
   "metadata": {},
   "outputs": [],
   "source": [
    "Y = df_cancer['class']              \n",
    "X = df_cancer.drop('class', axis=1) "
   ]
  },
  {
   "cell_type": "markdown",
   "metadata": {},
   "source": [
    "### Train test split"
   ]
  },
  {
   "cell_type": "code",
   "execution_count": 5,
   "metadata": {
    "ExecuteTime": {
     "end_time": "2021-06-09T12:42:07.291757Z",
     "start_time": "2021-06-09T12:42:07.285931Z"
    }
   },
   "outputs": [],
   "source": [
    "# Code here\n",
    "X_train, X_test, Y_train, Y_test = train_test_split(X, Y, test_size=0.2, stratify = Y, random_state=1)"
   ]
  },
  {
   "cell_type": "code",
   "execution_count": 6,
   "metadata": {},
   "outputs": [
    {
     "name": "stdout",
     "output_type": "stream",
     "text": [
      "(455, 30)\n",
      "(114, 30)\n",
      "(455,)\n",
      "(114,)\n"
     ]
    }
   ],
   "source": [
    "print(X_train.shape)\n",
    "print(X_test.shape)\n",
    "print(Y_train.shape)\n",
    "print(Y_test.shape)"
   ]
  },
  {
   "cell_type": "markdown",
   "metadata": {},
   "source": [
    "### Apply feature scaling on the data"
   ]
  },
  {
   "cell_type": "code",
   "execution_count": 7,
   "metadata": {
    "ExecuteTime": {
     "end_time": "2021-06-09T12:42:09.129434Z",
     "start_time": "2021-06-09T12:42:09.121016Z"
    }
   },
   "outputs": [],
   "source": [
    "# Code here\n",
    "scaler = StandardScaler()\n",
    "X_train = scaler.fit_transform( X_train )\n",
    "X_test = scaler.transform( X_test )"
   ]
  },
  {
   "cell_type": "code",
   "execution_count": 9,
   "metadata": {},
   "outputs": [],
   "source": [
    "# X_train"
   ]
  },
  {
   "cell_type": "markdown",
   "metadata": {},
   "source": [
    "### Define the Parameters (W or Θ) here\n",
    "Create an appropriate shape numpy array for W"
   ]
  },
  {
   "cell_type": "code",
   "execution_count": 10,
   "metadata": {
    "ExecuteTime": {
     "end_time": "2021-06-09T12:42:17.483898Z",
     "start_time": "2021-06-09T12:42:17.479146Z"
    }
   },
   "outputs": [
    {
     "data": {
      "text/plain": [
       "(31,)"
      ]
     },
     "execution_count": 10,
     "metadata": {},
     "output_type": "execute_result"
    }
   ],
   "source": [
    "W = np.random.uniform(low=-1, high=0.5, size=(X_train.shape[1]+1) )\n",
    "# mu, sigma = 0, 3\n",
    "# W = np.random.normal(mu, sigma, X_train.shape[1]+1)\n",
    "alpha =  0.1\n",
    "W.shape\n",
    "# np.amax(W)"
   ]
  },
  {
   "cell_type": "code",
   "execution_count": 11,
   "metadata": {},
   "outputs": [
    {
     "data": {
      "text/plain": [
       "(455, 31)"
      ]
     },
     "execution_count": 11,
     "metadata": {},
     "output_type": "execute_result"
    }
   ],
   "source": [
    "X_train = np.c_[np.ones(len(X_train),dtype='int64'),X_train]\n",
    "X_train.shape"
   ]
  },
  {
   "cell_type": "code",
   "execution_count": 12,
   "metadata": {},
   "outputs": [
    {
     "data": {
      "text/plain": [
       "(114, 31)"
      ]
     },
     "execution_count": 12,
     "metadata": {},
     "output_type": "execute_result"
    }
   ],
   "source": [
    "X_test = np.c_[np.ones(len(X_test),dtype='int64'),X_test]\n",
    "X_test.shape"
   ]
  },
  {
   "cell_type": "code",
   "execution_count": 13,
   "metadata": {},
   "outputs": [
    {
     "data": {
      "text/plain": [
       "array([ 1.        ,  2.61000862,  0.1225521 ,  2.52828812,  2.98779119,\n",
       "       -0.246294  ,  0.41836533,  0.96744715,  1.33001241, -1.17864093,\n",
       "       -1.15882827,  3.1954026 , -0.91268854,  3.29944663,  3.00350777,\n",
       "       -0.43424236,  0.45200786,  0.23588386,  1.58666423,  0.17599892,\n",
       "       -0.35334621,  3.08116817, -0.311521  ,  3.16105383,  3.41006432,\n",
       "       -0.57967795,  0.6288585 ,  0.46658863,  1.66841578, -0.02869461,\n",
       "       -0.63749022])"
      ]
     },
     "execution_count": 13,
     "metadata": {},
     "output_type": "execute_result"
    }
   ],
   "source": [
    "X_train[5]"
   ]
  },
  {
   "cell_type": "code",
   "execution_count": 14,
   "metadata": {},
   "outputs": [
    {
     "data": {
      "text/plain": [
       "(455,)"
      ]
     },
     "execution_count": 14,
     "metadata": {},
     "output_type": "execute_result"
    }
   ],
   "source": [
    "Y_train.shape"
   ]
  },
  {
   "attachments": {
    "image.png": {
     "image/png": "[encoded data removed]"
    }
   },
   "cell_type": "markdown",
   "metadata": {},
   "source": [
    "### Define sigmoid and its derivative\n",
    "![image.png](attachment:image.png)"
   ]
  },
  {
   "cell_type": "code",
   "execution_count": 15,
   "metadata": {
    "ExecuteTime": {
     "end_time": "2021-06-09T13:06:30.556499Z",
     "start_time": "2021-06-09T13:06:30.546273Z"
    }
   },
   "outputs": [],
   "source": [
    "def sigmoid(X: np.array):\n",
    "    # Apply sigmoid to X and return \n",
    "    s = 1 / (1 + np.exp(-X))\n",
    "    return s\n",
    "\n",
    "def sigmoid_(X: np.array):\n",
    "    # return derivative of sigmoid\n",
    "    d = sigmoid(X)*(1-sigmoid(X))\n",
    "    return d"
   ]
  },
  {
   "cell_type": "code",
   "execution_count": 16,
   "metadata": {},
   "outputs": [
    {
     "data": {
      "text/plain": [
       "9.85967654375977e-305"
      ]
     },
     "execution_count": 16,
     "metadata": {},
     "output_type": "execute_result"
    }
   ],
   "source": [
    "sigmoid(-700)"
   ]
  },
  {
   "cell_type": "code",
   "execution_count": 17,
   "metadata": {},
   "outputs": [
    {
     "data": {
      "text/plain": [
       "1.0"
      ]
     },
     "execution_count": 17,
     "metadata": {},
     "output_type": "execute_result"
    }
   ],
   "source": [
    "sigmoid(37)"
   ]
  },
  {
   "cell_type": "markdown",
   "metadata": {},
   "source": [
    "### Prediction methods"
   ]
  },
  {
   "cell_type": "code",
   "execution_count": 18,
   "metadata": {
    "ExecuteTime": {
     "end_time": "2021-06-09T13:02:43.868900Z",
     "start_time": "2021-06-09T13:02:43.861414Z"
    }
   },
   "outputs": [],
   "source": [
    "def predict_prob(X, W):\n",
    "    # Return the class probabilities here\n",
    "    scores = np.dot(W,X.T)\n",
    "    predictions = sigmoid(scores)\n",
    "    return predictions"
   ]
  },
  {
   "attachments": {
    "image.png": {
     "image/png": "[encoded data removed]"
    }
   },
   "cell_type": "markdown",
   "metadata": {},
   "source": [
    "### Define the Cross entropy loss function\n",
    "\n",
    "![image.png](attachment:image.png)"
   ]
  },
  {
   "cell_type": "code",
   "execution_count": 19,
   "metadata": {
    "ExecuteTime": {
     "end_time": "2021-06-09T12:45:11.548167Z",
     "start_time": "2021-06-09T12:45:11.536323Z"
    }
   },
   "outputs": [],
   "source": [
    "# Code here\n",
    "def binary_cross_entropy(y, yhat):\n",
    "    m = yhat.shape[0]\n",
    "    result = (- 1 / m) * np.sum(y * np.log(yhat) + (1 - y) * (np.log(1 - yhat))) \n",
    "#     first_term = - y*np.log(yhat)\n",
    "#     second_term = -(1-y)*np.log(1-yhat)\n",
    "#     result = - np.sum(y * np.log(yhat) + (1 - y) * np.log(1 - yhat))\n",
    "    return (result)\n"
   ]
  },
  {
   "cell_type": "code",
   "execution_count": 20,
   "metadata": {},
   "outputs": [
    {
     "name": "stdout",
     "output_type": "stream",
     "text": [
      "(455, 31)\n",
      "(31,)\n"
     ]
    }
   ],
   "source": [
    "print(X_train.shape)\n",
    "print(W.shape)"
   ]
  },
  {
   "cell_type": "code",
   "execution_count": 21,
   "metadata": {
    "ExecuteTime": {
     "end_time": "2021-06-08T03:10:49.247090Z",
     "start_time": "2021-06-08T03:10:49.212Z"
    }
   },
   "outputs": [],
   "source": [
    "yhat = predict_prob(X_train, W)"
   ]
  },
  {
   "cell_type": "code",
   "execution_count": 22,
   "metadata": {
    "ExecuteTime": {
     "end_time": "2021-06-08T03:10:49.248996Z",
     "start_time": "2021-06-08T03:10:49.216Z"
    }
   },
   "outputs": [
    {
     "data": {
      "text/plain": [
       "0.34174977375501403"
      ]
     },
     "execution_count": 22,
     "metadata": {},
     "output_type": "execute_result"
    }
   ],
   "source": [
    "loss = binary_cross_entropy(Y_train, yhat)\n",
    "\n",
    "loss"
   ]
  },
  {
   "cell_type": "markdown",
   "metadata": {},
   "source": [
    "# Solve using Gradient Descent"
   ]
  },
  {
   "cell_type": "markdown",
   "metadata": {},
   "source": [
    "### Calculate gradient\n",
    "For practice, you can try to derive the gradient using pen and paper"
   ]
  },
  {
   "cell_type": "code",
   "execution_count": 23,
   "metadata": {
    "ExecuteTime": {
     "end_time": "2021-06-08T03:10:49.252566Z",
     "start_time": "2021-06-08T03:10:49.204031Z"
    }
   },
   "outputs": [],
   "source": [
    "def compute_gradient(X, y, W):\n",
    "    m = X.shape[0]\n",
    "    \n",
    "    h = predict_prob(X, W)\n",
    "    loss = h - y\n",
    "    \n",
    "    # Gradient Calculation\n",
    "    dW = X.T.dot(loss) / m\n",
    "    return dW"
   ]
  },
  {
   "cell_type": "markdown",
   "metadata": {},
   "source": [
    "### Update Weights"
   ]
  },
  {
   "cell_type": "code",
   "execution_count": 24,
   "metadata": {
    "ExecuteTime": {
     "end_time": "2021-06-08T03:10:49.252566Z",
     "start_time": "2021-06-08T03:10:49.204031Z"
    }
   },
   "outputs": [],
   "source": [
    "# Code here\n",
    "W = W - alpha*compute_gradient(X_train, Y_train, W)"
   ]
  },
  {
   "cell_type": "markdown",
   "metadata": {},
   "source": [
    "### Repeat for N- Iterations"
   ]
  },
  {
   "cell_type": "code",
   "execution_count": 25,
   "metadata": {
    "ExecuteTime": {
     "end_time": "2021-06-08T03:10:49.254612Z",
     "start_time": "2021-06-08T03:10:49.228Z"
    }
   },
   "outputs": [],
   "source": [
    "N = 1000\n",
    "losses = []\n",
    "for i in range(N):\n",
    "    # Predict\n",
    "    yhat = predict_prob(X_train, W)\n",
    "    \n",
    "    # Calculate Loss\n",
    "    loss = binary_cross_entropy(Y_train, yhat)\n",
    "    \n",
    "    # Compute gradient dL/dW\n",
    "    dW = compute_gradient(X_train, Y_train,W)\n",
    "    \n",
    "    # Update the weights\n",
    "    W = W - alpha*dW\n",
    "    \n",
    "    losses.append(loss)"
   ]
  },
  {
   "cell_type": "markdown",
   "metadata": {},
   "source": [
    "### Plot the loss curve"
   ]
  },
  {
   "cell_type": "code",
   "execution_count": 26,
   "metadata": {
    "ExecuteTime": {
     "end_time": "2021-06-08T03:10:49.256637Z",
     "start_time": "2021-06-08T03:10:49.233Z"
    }
   },
   "outputs": [
    {
     "data": {
      "image/png": "[encoded data removed]",
      "text/plain": [
       "<Figure size 432x288 with 1 Axes>"
      ]
     },
     "metadata": {
      "needs_background": "light"
     },
     "output_type": "display_data"
    }
   ],
   "source": [
    "# Loss curve here\n",
    "# losses\n",
    "import matplotlib.pyplot as plt\n",
    "\n",
    "x = np.arange(1000)\n",
    " \n",
    "# plotting\n",
    "plt.title(\"Line graph\")\n",
    "plt.xlabel(\"training iteration\")\n",
    "plt.ylabel(\"loss\")\n",
    "plt.plot(x,losses, color =\"blue\")\n",
    "plt.show()"
   ]
  },
  {
   "cell_type": "code",
   "execution_count": 27,
   "metadata": {},
   "outputs": [],
   "source": [
    "Y_pred = np.round( predict_prob(X_test, W))"
   ]
  },
  {
   "cell_type": "markdown",
   "metadata": {},
   "source": [
    "### Calculate the classification report and the confusion matrix"
   ]
  },
  {
   "cell_type": "code",
   "execution_count": 28,
   "metadata": {
    "ExecuteTime": {
     "end_time": "2021-06-09T13:03:52.812396Z",
     "start_time": "2021-06-09T13:03:52.804969Z"
    }
   },
   "outputs": [],
   "source": [
    "from sklearn.metrics import classification_report, confusion_matrix\n",
    "from sklearn.metrics import confusion_matrix\n",
    "from sklearn.metrics import precision_recall_fscore_support as score, precision_score, recall_score, f1_score"
   ]
  },
  {
   "cell_type": "code",
   "execution_count": 29,
   "metadata": {},
   "outputs": [
    {
     "name": "stdout",
     "output_type": "stream",
     "text": [
      "Precision: 0.986111\n",
      "Recall: 0.986111\n",
      "F1 score: 0.986111\n"
     ]
    }
   ],
   "source": [
    "# Scores here\n",
    "precision = precision_score(Y_test, Y_pred)\n",
    "print('Precision: %f' % precision)\n",
    "\n",
    "recall = recall_score(Y_test, Y_pred)\n",
    "print('Recall: %f' % recall)\n",
    "\n",
    "# f1: tp / (tp + fp + fn)\n",
    "f1 = f1_score(Y_test, Y_pred)\n",
    "print('F1 score: %f' % f1)\n",
    "\n"
   ]
  },
  {
   "cell_type": "code",
   "execution_count": 30,
   "metadata": {},
   "outputs": [
    {
     "name": "stdout",
     "output_type": "stream",
     "text": [
      "[[41  1]\n",
      " [ 1 71]]\n"
     ]
    },
    {
     "data": {
      "image/png": "[encoded data removed]",
      "text/plain": [
       "<Figure size 432x288 with 2 Axes>"
      ]
     },
     "metadata": {
      "needs_background": "light"
     },
     "output_type": "display_data"
    }
   ],
   "source": [
    "import warnings\n",
    "warnings.filterwarnings(\"ignore\")\n",
    "\n",
    "\n",
    "labels=['not cancer','cancer']\n",
    "cm = confusion_matrix(Y_test, Y_pred)\n",
    "print(cm)\n",
    "\n",
    "fig = plt.figure()\n",
    "ax = fig.add_subplot(111)\n",
    "cax = ax.matshow(cm)\n",
    "plt.title('Confusion matrix')\n",
    "fig.colorbar(cax)\n",
    "ax.set_xticklabels([''] + labels)\n",
    "ax.set_yticklabels([''] + labels)\n",
    "plt.xlabel('Predicted Values')\n",
    "plt.ylabel('Actual Values')\n",
    "plt.show()"
   ]
  },
  {
   "cell_type": "markdown",
   "metadata": {},
   "source": [
    "# BONUS: Create a LogisticRegression Class [OPTIONAL]\n",
    "Create a Sklearn-like API"
   ]
  },
  {
   "cell_type": "code",
   "execution_count": 31,
   "metadata": {
    "ExecuteTime": {
     "end_time": "2021-06-08T03:10:49.363615Z",
     "start_time": "2021-06-08T03:10:49.359276Z"
    }
   },
   "outputs": [],
   "source": [
    "class LogisticRegression:\n",
    "    # You can define additional functions as per your need\n",
    "    def __init__(self, alpha=0.001, n_iter=1000):\n",
    "        self.W = None\n",
    "        self.alpha = alpha\n",
    "        self.n_iter = n_iter\n",
    "\n",
    "    def fit(self, X, y):\n",
    "        pass\n",
    "\n",
    "    def predict(self, X):\n",
    "        pass"
   ]
  },
  {
   "cell_type": "code",
   "execution_count": 34,
   "metadata": {},
   "outputs": [],
   "source": [
    "model = LogisticRegression()\n",
    "model.fit(X, y)\n",
    "predictions = model.predict(X)"
   ]
  },
  {
   "cell_type": "markdown",
   "metadata": {},
   "source": [
    "### Compare metrics with Sklearn's implementation"
   ]
  },
  {
   "cell_type": "code",
   "execution_count": null,
   "metadata": {
    "ExecuteTime": {
     "end_time": "2021-06-08T03:13:38.648135Z",
     "start_time": "2021-06-08T03:13:38.640657Z"
    }
   },
   "outputs": [],
   "source": [
    "from sklearn.linear_model import LogisticRegression as SKLogisticRegression"
   ]
  },
  {
   "cell_type": "code",
   "execution_count": null,
   "metadata": {},
   "outputs": [],
   "source": [
    "sklearn_model = SKLogisticRegression()\n",
    "sklearn_model.fit(X, y)\n",
    "sklearn_predictions = sklearn_model.predict(X)"
   ]
  },
  {
   "cell_type": "code",
   "execution_count": null,
   "metadata": {},
   "outputs": [],
   "source": [
    "### compare classification report and confusion matrix here"
   ]
  },
  {
   "cell_type": "code",
   "execution_count": null,
   "metadata": {},
   "outputs": [],
   "source": []
  }
 ],
 "metadata": {
  "kernelspec": {
   "display_name": "Python 3",
   "language": "python",
   "name": "python3"
  },
  "language_info": {
   "codemirror_mode": {
    "name": "ipython",
    "version": 3
   },
   "file_extension": ".py",
   "mimetype": "text/x-python",
   "name": "python",
   "nbconvert_exporter": "python",
   "pygments_lexer": "ipython3",
   "version": "3.8.5"
  },
  "toc": {
   "base_numbering": 1,
   "nav_menu": {},
   "number_sections": true,
   "sideBar": true,
   "skip_h1_title": false,
   "title_cell": "Table of Contents",
   "title_sidebar": "Contents",
   "toc_cell": false,
   "toc_position": {},
   "toc_section_display": true,
   "toc_window_display": false
  }
 },
 "nbformat": 4,
 "nbformat_minor": 4
}
