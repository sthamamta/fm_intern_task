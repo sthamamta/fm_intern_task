{
  "nbformat": 4,
  "nbformat_minor": 0,
  "metadata": {
    "colab": {
      "name": "EDA.ipynb",
      "provenance": [],
      "collapsed_sections": [],
      "authorship_tag": "ABX9TyPZrI8ErcuCRdAreJIl6Qqa",
      "include_colab_link": true
    },
    "kernelspec": {
      "name": "python3",
      "display_name": "Python 3"
    },
    "language_info": {
      "name": "python"
    },
    "accelerator": "GPU"
  },
  "cells": [
    {
      "cell_type": "markdown",
      "metadata": {
        "id": "view-in-github",
        "colab_type": "text"
      },
      "source": [
        "<a href=\"https://colab.research.google.com/github/sthamamta/fm_intern_task/blob/main/EDA.ipynb\" target=\"_parent\"><img src=\"https://colab.research.google.com/assets/colab-badge.svg\" alt=\"Open In Colab\"/></a>"
      ]
    },
    {
      "cell_type": "code",
      "metadata": {
        "id": "u2knlHm1KCZM"
      },
      "source": [
        "#imports\n",
        "import pandas as pd\n",
        "import numpy as np\n",
        "import matplotlib.pyplot as plt\n",
        "import seaborn as sns\n",
        "from sklearn.preprocessing import LabelEncoder\n",
        "\n",
        "import warnings\n",
        "warnings.filterwarnings('ignore')"
      ],
      "execution_count": 185,
      "outputs": []
    },
    {
      "cell_type": "code",
      "metadata": {
        "id": "-0awhCqTNsEG"
      },
      "source": [
        "#loading data\n",
        "!pip install -U -q PyDrive\n",
        "from pydrive.auth import GoogleAuth\n",
        "from pydrive.drive import GoogleDrive\n",
        "from google.colab import auth\n",
        "from oauth2client.client import GoogleCredentials\n",
        "# Authenticate and create the PyDrive client.\n",
        "auth.authenticate_user()\n",
        "gauth = GoogleAuth()\n",
        "gauth.credentials = GoogleCredentials.get_application_default()\n",
        "drive = GoogleDrive(gauth)\n",
        "\n"
      ],
      "execution_count": 186,
      "outputs": []
    },
    {
      "cell_type": "code",
      "metadata": {
        "id": "312x36RtNzLb"
      },
      "source": [
        "link =\"https://drive.google.com/file/d/1vmHrT9VXix5TKdx-PBsOtxeAjqEP9fks/view?usp=sharing\"\n",
        "id = \"1vmHrT9VXix5TKdx-PBsOtxeAjqEP9fks\"\n",
        "\n",
        "import pandas as pd\n",
        "downloaded = drive.CreateFile({'id':id}) \n",
        "downloaded.GetContentFile('Filename.csv')  \n",
        "df = pd.read_csv('Filename.csv')"
      ],
      "execution_count": 187,
      "outputs": []
    },
    {
      "cell_type": "code",
      "metadata": {
        "id": "YPic9FchOaFT"
      },
      "source": [
        "percent_missing = df.isnull().sum() * 100 / len(df)\n",
        "missing_value_df = pd.DataFrame({'column_name': df.columns,\n",
        "                                 'percent_missing': percent_missing})"
      ],
      "execution_count": 188,
      "outputs": []
    },
    {
      "cell_type": "code",
      "metadata": {
        "colab": {
          "base_uri": "https://localhost:8080/",
          "height": 204
        },
        "id": "ltS9_iqSOebA",
        "outputId": "123a6ce9-518d-429d-cea0-7ee99ae6058d"
      },
      "source": [
        "missing_value_df.sort_values('percent_missing', inplace=True, ascending= False)\n",
        "missing_value_df.head()"
      ],
      "execution_count": 189,
      "outputs": [
        {
          "output_type": "execute_result",
          "data": {
            "text/html": [
              "<div>\n",
              "<style scoped>\n",
              "    .dataframe tbody tr th:only-of-type {\n",
              "        vertical-align: middle;\n",
              "    }\n",
              "\n",
              "    .dataframe tbody tr th {\n",
              "        vertical-align: top;\n",
              "    }\n",
              "\n",
              "    .dataframe thead th {\n",
              "        text-align: right;\n",
              "    }\n",
              "</style>\n",
              "<table border=\"1\" class=\"dataframe\">\n",
              "  <thead>\n",
              "    <tr style=\"text-align: right;\">\n",
              "      <th></th>\n",
              "      <th>column_name</th>\n",
              "      <th>percent_missing</th>\n",
              "    </tr>\n",
              "  </thead>\n",
              "  <tbody>\n",
              "    <tr>\n",
              "      <th>COMMONAREA_MEDI</th>\n",
              "      <td>COMMONAREA_MEDI</td>\n",
              "      <td>69.872297</td>\n",
              "    </tr>\n",
              "    <tr>\n",
              "      <th>COMMONAREA_AVG</th>\n",
              "      <td>COMMONAREA_AVG</td>\n",
              "      <td>69.872297</td>\n",
              "    </tr>\n",
              "    <tr>\n",
              "      <th>COMMONAREA_MODE</th>\n",
              "      <td>COMMONAREA_MODE</td>\n",
              "      <td>69.872297</td>\n",
              "    </tr>\n",
              "    <tr>\n",
              "      <th>NONLIVINGAPARTMENTS_MODE</th>\n",
              "      <td>NONLIVINGAPARTMENTS_MODE</td>\n",
              "      <td>69.432963</td>\n",
              "    </tr>\n",
              "    <tr>\n",
              "      <th>NONLIVINGAPARTMENTS_AVG</th>\n",
              "      <td>NONLIVINGAPARTMENTS_AVG</td>\n",
              "      <td>69.432963</td>\n",
              "    </tr>\n",
              "  </tbody>\n",
              "</table>\n",
              "</div>"
            ],
            "text/plain": [
              "                                       column_name  percent_missing\n",
              "COMMONAREA_MEDI                    COMMONAREA_MEDI        69.872297\n",
              "COMMONAREA_AVG                      COMMONAREA_AVG        69.872297\n",
              "COMMONAREA_MODE                    COMMONAREA_MODE        69.872297\n",
              "NONLIVINGAPARTMENTS_MODE  NONLIVINGAPARTMENTS_MODE        69.432963\n",
              "NONLIVINGAPARTMENTS_AVG    NONLIVINGAPARTMENTS_AVG        69.432963"
            ]
          },
          "metadata": {
            "tags": []
          },
          "execution_count": 189
        }
      ]
    },
    {
      "cell_type": "code",
      "metadata": {
        "id": "6SPJOxvYOhtr"
      },
      "source": [
        "#dropping columns that have more than 50% of missing value\n",
        "missing_cols=[]\n",
        "for index, row in missing_value_df.iterrows():\n",
        "    if row['percent_missing'] > 50:\n",
        "        missing_cols.append(index)\n",
        "df.drop(missing_cols, axis=1, inplace=True)"
      ],
      "execution_count": 190,
      "outputs": []
    },
    {
      "cell_type": "code",
      "metadata": {
        "colab": {
          "base_uri": "https://localhost:8080/"
        },
        "id": "hd6dSY-_OpM7",
        "outputId": "8320c272-3258-4790-d0ba-5da7db4297c1"
      },
      "source": [
        "df.shape"
      ],
      "execution_count": 191,
      "outputs": [
        {
          "output_type": "execute_result",
          "data": {
            "text/plain": [
              "(307511, 81)"
            ]
          },
          "metadata": {
            "tags": []
          },
          "execution_count": 191
        }
      ]
    },
    {
      "cell_type": "code",
      "metadata": {
        "colab": {
          "base_uri": "https://localhost:8080/",
          "height": 317
        },
        "id": "mwJRS2XUOsym",
        "outputId": "1e366730-a177-4c95-a6c0-7354ed2765c2"
      },
      "source": [
        "df.describe()"
      ],
      "execution_count": 192,
      "outputs": [
        {
          "output_type": "execute_result",
          "data": {
            "text/html": [
              "<div>\n",
              "<style scoped>\n",
              "    .dataframe tbody tr th:only-of-type {\n",
              "        vertical-align: middle;\n",
              "    }\n",
              "\n",
              "    .dataframe tbody tr th {\n",
              "        vertical-align: top;\n",
              "    }\n",
              "\n",
              "    .dataframe thead th {\n",
              "        text-align: right;\n",
              "    }\n",
              "</style>\n",
              "<table border=\"1\" class=\"dataframe\">\n",
              "  <thead>\n",
              "    <tr style=\"text-align: right;\">\n",
              "      <th></th>\n",
              "      <th>SK_ID_CURR</th>\n",
              "      <th>TARGET</th>\n",
              "      <th>CNT_CHILDREN</th>\n",
              "      <th>AMT_INCOME_TOTAL</th>\n",
              "      <th>AMT_CREDIT</th>\n",
              "      <th>AMT_ANNUITY</th>\n",
              "      <th>AMT_GOODS_PRICE</th>\n",
              "      <th>REGION_POPULATION_RELATIVE</th>\n",
              "      <th>DAYS_BIRTH</th>\n",
              "      <th>DAYS_EMPLOYED</th>\n",
              "      <th>DAYS_REGISTRATION</th>\n",
              "      <th>DAYS_ID_PUBLISH</th>\n",
              "      <th>FLAG_MOBIL</th>\n",
              "      <th>FLAG_EMP_PHONE</th>\n",
              "      <th>FLAG_WORK_PHONE</th>\n",
              "      <th>FLAG_CONT_MOBILE</th>\n",
              "      <th>FLAG_PHONE</th>\n",
              "      <th>FLAG_EMAIL</th>\n",
              "      <th>CNT_FAM_MEMBERS</th>\n",
              "      <th>REGION_RATING_CLIENT</th>\n",
              "      <th>REGION_RATING_CLIENT_W_CITY</th>\n",
              "      <th>HOUR_APPR_PROCESS_START</th>\n",
              "      <th>REG_REGION_NOT_LIVE_REGION</th>\n",
              "      <th>REG_REGION_NOT_WORK_REGION</th>\n",
              "      <th>LIVE_REGION_NOT_WORK_REGION</th>\n",
              "      <th>REG_CITY_NOT_LIVE_CITY</th>\n",
              "      <th>REG_CITY_NOT_WORK_CITY</th>\n",
              "      <th>LIVE_CITY_NOT_WORK_CITY</th>\n",
              "      <th>EXT_SOURCE_2</th>\n",
              "      <th>EXT_SOURCE_3</th>\n",
              "      <th>YEARS_BEGINEXPLUATATION_AVG</th>\n",
              "      <th>FLOORSMAX_AVG</th>\n",
              "      <th>YEARS_BEGINEXPLUATATION_MODE</th>\n",
              "      <th>FLOORSMAX_MODE</th>\n",
              "      <th>YEARS_BEGINEXPLUATATION_MEDI</th>\n",
              "      <th>FLOORSMAX_MEDI</th>\n",
              "      <th>TOTALAREA_MODE</th>\n",
              "      <th>OBS_30_CNT_SOCIAL_CIRCLE</th>\n",
              "      <th>DEF_30_CNT_SOCIAL_CIRCLE</th>\n",
              "      <th>OBS_60_CNT_SOCIAL_CIRCLE</th>\n",
              "      <th>DEF_60_CNT_SOCIAL_CIRCLE</th>\n",
              "      <th>DAYS_LAST_PHONE_CHANGE</th>\n",
              "      <th>FLAG_DOCUMENT_2</th>\n",
              "      <th>FLAG_DOCUMENT_3</th>\n",
              "      <th>FLAG_DOCUMENT_4</th>\n",
              "      <th>FLAG_DOCUMENT_5</th>\n",
              "      <th>FLAG_DOCUMENT_6</th>\n",
              "      <th>FLAG_DOCUMENT_7</th>\n",
              "      <th>FLAG_DOCUMENT_8</th>\n",
              "      <th>FLAG_DOCUMENT_9</th>\n",
              "      <th>FLAG_DOCUMENT_10</th>\n",
              "      <th>FLAG_DOCUMENT_11</th>\n",
              "      <th>FLAG_DOCUMENT_12</th>\n",
              "      <th>FLAG_DOCUMENT_13</th>\n",
              "      <th>FLAG_DOCUMENT_14</th>\n",
              "      <th>FLAG_DOCUMENT_15</th>\n",
              "      <th>FLAG_DOCUMENT_16</th>\n",
              "      <th>FLAG_DOCUMENT_17</th>\n",
              "      <th>FLAG_DOCUMENT_18</th>\n",
              "      <th>FLAG_DOCUMENT_19</th>\n",
              "      <th>FLAG_DOCUMENT_20</th>\n",
              "      <th>FLAG_DOCUMENT_21</th>\n",
              "      <th>AMT_REQ_CREDIT_BUREAU_HOUR</th>\n",
              "      <th>AMT_REQ_CREDIT_BUREAU_DAY</th>\n",
              "      <th>AMT_REQ_CREDIT_BUREAU_WEEK</th>\n",
              "      <th>AMT_REQ_CREDIT_BUREAU_MON</th>\n",
              "      <th>AMT_REQ_CREDIT_BUREAU_QRT</th>\n",
              "      <th>AMT_REQ_CREDIT_BUREAU_YEAR</th>\n",
              "    </tr>\n",
              "  </thead>\n",
              "  <tbody>\n",
              "    <tr>\n",
              "      <th>count</th>\n",
              "      <td>307511.000000</td>\n",
              "      <td>307511.000000</td>\n",
              "      <td>307511.000000</td>\n",
              "      <td>3.075110e+05</td>\n",
              "      <td>3.075110e+05</td>\n",
              "      <td>307499.000000</td>\n",
              "      <td>3.072330e+05</td>\n",
              "      <td>307511.000000</td>\n",
              "      <td>307511.000000</td>\n",
              "      <td>307511.000000</td>\n",
              "      <td>307511.000000</td>\n",
              "      <td>307511.000000</td>\n",
              "      <td>307511.000000</td>\n",
              "      <td>307511.000000</td>\n",
              "      <td>307511.000000</td>\n",
              "      <td>307511.000000</td>\n",
              "      <td>307511.000000</td>\n",
              "      <td>307511.000000</td>\n",
              "      <td>307509.000000</td>\n",
              "      <td>307511.000000</td>\n",
              "      <td>307511.000000</td>\n",
              "      <td>307511.000000</td>\n",
              "      <td>307511.000000</td>\n",
              "      <td>307511.000000</td>\n",
              "      <td>307511.000000</td>\n",
              "      <td>307511.000000</td>\n",
              "      <td>307511.000000</td>\n",
              "      <td>307511.000000</td>\n",
              "      <td>3.068510e+05</td>\n",
              "      <td>246546.000000</td>\n",
              "      <td>157504.000000</td>\n",
              "      <td>154491.000000</td>\n",
              "      <td>157504.000000</td>\n",
              "      <td>154491.000000</td>\n",
              "      <td>157504.000000</td>\n",
              "      <td>154491.000000</td>\n",
              "      <td>159080.000000</td>\n",
              "      <td>306490.000000</td>\n",
              "      <td>306490.000000</td>\n",
              "      <td>306490.000000</td>\n",
              "      <td>306490.000000</td>\n",
              "      <td>307510.000000</td>\n",
              "      <td>307511.000000</td>\n",
              "      <td>307511.000000</td>\n",
              "      <td>307511.000000</td>\n",
              "      <td>307511.000000</td>\n",
              "      <td>307511.000000</td>\n",
              "      <td>307511.000000</td>\n",
              "      <td>307511.000000</td>\n",
              "      <td>307511.000000</td>\n",
              "      <td>307511.000000</td>\n",
              "      <td>307511.000000</td>\n",
              "      <td>307511.000000</td>\n",
              "      <td>307511.000000</td>\n",
              "      <td>307511.000000</td>\n",
              "      <td>307511.00000</td>\n",
              "      <td>307511.000000</td>\n",
              "      <td>307511.000000</td>\n",
              "      <td>307511.000000</td>\n",
              "      <td>307511.000000</td>\n",
              "      <td>307511.000000</td>\n",
              "      <td>307511.000000</td>\n",
              "      <td>265992.000000</td>\n",
              "      <td>265992.000000</td>\n",
              "      <td>265992.000000</td>\n",
              "      <td>265992.000000</td>\n",
              "      <td>265992.000000</td>\n",
              "      <td>265992.000000</td>\n",
              "    </tr>\n",
              "    <tr>\n",
              "      <th>mean</th>\n",
              "      <td>278180.518577</td>\n",
              "      <td>0.080729</td>\n",
              "      <td>0.417052</td>\n",
              "      <td>1.687979e+05</td>\n",
              "      <td>5.990260e+05</td>\n",
              "      <td>27108.573909</td>\n",
              "      <td>5.383962e+05</td>\n",
              "      <td>0.020868</td>\n",
              "      <td>-16036.995067</td>\n",
              "      <td>63815.045904</td>\n",
              "      <td>-4986.120328</td>\n",
              "      <td>-2994.202373</td>\n",
              "      <td>0.999997</td>\n",
              "      <td>0.819889</td>\n",
              "      <td>0.199368</td>\n",
              "      <td>0.998133</td>\n",
              "      <td>0.281066</td>\n",
              "      <td>0.056720</td>\n",
              "      <td>2.152665</td>\n",
              "      <td>2.052463</td>\n",
              "      <td>2.031521</td>\n",
              "      <td>12.063419</td>\n",
              "      <td>0.015144</td>\n",
              "      <td>0.050769</td>\n",
              "      <td>0.040659</td>\n",
              "      <td>0.078173</td>\n",
              "      <td>0.230454</td>\n",
              "      <td>0.179555</td>\n",
              "      <td>5.143927e-01</td>\n",
              "      <td>0.510853</td>\n",
              "      <td>0.977735</td>\n",
              "      <td>0.226282</td>\n",
              "      <td>0.977065</td>\n",
              "      <td>0.222315</td>\n",
              "      <td>0.977752</td>\n",
              "      <td>0.225897</td>\n",
              "      <td>0.102547</td>\n",
              "      <td>1.422245</td>\n",
              "      <td>0.143421</td>\n",
              "      <td>1.405292</td>\n",
              "      <td>0.100049</td>\n",
              "      <td>-962.858788</td>\n",
              "      <td>0.000042</td>\n",
              "      <td>0.710023</td>\n",
              "      <td>0.000081</td>\n",
              "      <td>0.015115</td>\n",
              "      <td>0.088055</td>\n",
              "      <td>0.000192</td>\n",
              "      <td>0.081376</td>\n",
              "      <td>0.003896</td>\n",
              "      <td>0.000023</td>\n",
              "      <td>0.003912</td>\n",
              "      <td>0.000007</td>\n",
              "      <td>0.003525</td>\n",
              "      <td>0.002936</td>\n",
              "      <td>0.00121</td>\n",
              "      <td>0.009928</td>\n",
              "      <td>0.000267</td>\n",
              "      <td>0.008130</td>\n",
              "      <td>0.000595</td>\n",
              "      <td>0.000507</td>\n",
              "      <td>0.000335</td>\n",
              "      <td>0.006402</td>\n",
              "      <td>0.007000</td>\n",
              "      <td>0.034362</td>\n",
              "      <td>0.267395</td>\n",
              "      <td>0.265474</td>\n",
              "      <td>1.899974</td>\n",
              "    </tr>\n",
              "    <tr>\n",
              "      <th>std</th>\n",
              "      <td>102790.175348</td>\n",
              "      <td>0.272419</td>\n",
              "      <td>0.722121</td>\n",
              "      <td>2.371231e+05</td>\n",
              "      <td>4.024908e+05</td>\n",
              "      <td>14493.737315</td>\n",
              "      <td>3.694465e+05</td>\n",
              "      <td>0.013831</td>\n",
              "      <td>4363.988632</td>\n",
              "      <td>141275.766519</td>\n",
              "      <td>3522.886321</td>\n",
              "      <td>1509.450419</td>\n",
              "      <td>0.001803</td>\n",
              "      <td>0.384280</td>\n",
              "      <td>0.399526</td>\n",
              "      <td>0.043164</td>\n",
              "      <td>0.449521</td>\n",
              "      <td>0.231307</td>\n",
              "      <td>0.910682</td>\n",
              "      <td>0.509034</td>\n",
              "      <td>0.502737</td>\n",
              "      <td>3.265832</td>\n",
              "      <td>0.122126</td>\n",
              "      <td>0.219526</td>\n",
              "      <td>0.197499</td>\n",
              "      <td>0.268444</td>\n",
              "      <td>0.421124</td>\n",
              "      <td>0.383817</td>\n",
              "      <td>1.910602e-01</td>\n",
              "      <td>0.194844</td>\n",
              "      <td>0.059223</td>\n",
              "      <td>0.144641</td>\n",
              "      <td>0.064575</td>\n",
              "      <td>0.143709</td>\n",
              "      <td>0.059897</td>\n",
              "      <td>0.145067</td>\n",
              "      <td>0.107462</td>\n",
              "      <td>2.400989</td>\n",
              "      <td>0.446698</td>\n",
              "      <td>2.379803</td>\n",
              "      <td>0.362291</td>\n",
              "      <td>826.808487</td>\n",
              "      <td>0.006502</td>\n",
              "      <td>0.453752</td>\n",
              "      <td>0.009016</td>\n",
              "      <td>0.122010</td>\n",
              "      <td>0.283376</td>\n",
              "      <td>0.013850</td>\n",
              "      <td>0.273412</td>\n",
              "      <td>0.062295</td>\n",
              "      <td>0.004771</td>\n",
              "      <td>0.062424</td>\n",
              "      <td>0.002550</td>\n",
              "      <td>0.059268</td>\n",
              "      <td>0.054110</td>\n",
              "      <td>0.03476</td>\n",
              "      <td>0.099144</td>\n",
              "      <td>0.016327</td>\n",
              "      <td>0.089798</td>\n",
              "      <td>0.024387</td>\n",
              "      <td>0.022518</td>\n",
              "      <td>0.018299</td>\n",
              "      <td>0.083849</td>\n",
              "      <td>0.110757</td>\n",
              "      <td>0.204685</td>\n",
              "      <td>0.916002</td>\n",
              "      <td>0.794056</td>\n",
              "      <td>1.869295</td>\n",
              "    </tr>\n",
              "    <tr>\n",
              "      <th>min</th>\n",
              "      <td>100002.000000</td>\n",
              "      <td>0.000000</td>\n",
              "      <td>0.000000</td>\n",
              "      <td>2.565000e+04</td>\n",
              "      <td>4.500000e+04</td>\n",
              "      <td>1615.500000</td>\n",
              "      <td>4.050000e+04</td>\n",
              "      <td>0.000290</td>\n",
              "      <td>-25229.000000</td>\n",
              "      <td>-17912.000000</td>\n",
              "      <td>-24672.000000</td>\n",
              "      <td>-7197.000000</td>\n",
              "      <td>0.000000</td>\n",
              "      <td>0.000000</td>\n",
              "      <td>0.000000</td>\n",
              "      <td>0.000000</td>\n",
              "      <td>0.000000</td>\n",
              "      <td>0.000000</td>\n",
              "      <td>1.000000</td>\n",
              "      <td>1.000000</td>\n",
              "      <td>1.000000</td>\n",
              "      <td>0.000000</td>\n",
              "      <td>0.000000</td>\n",
              "      <td>0.000000</td>\n",
              "      <td>0.000000</td>\n",
              "      <td>0.000000</td>\n",
              "      <td>0.000000</td>\n",
              "      <td>0.000000</td>\n",
              "      <td>8.173617e-08</td>\n",
              "      <td>0.000527</td>\n",
              "      <td>0.000000</td>\n",
              "      <td>0.000000</td>\n",
              "      <td>0.000000</td>\n",
              "      <td>0.000000</td>\n",
              "      <td>0.000000</td>\n",
              "      <td>0.000000</td>\n",
              "      <td>0.000000</td>\n",
              "      <td>0.000000</td>\n",
              "      <td>0.000000</td>\n",
              "      <td>0.000000</td>\n",
              "      <td>0.000000</td>\n",
              "      <td>-4292.000000</td>\n",
              "      <td>0.000000</td>\n",
              "      <td>0.000000</td>\n",
              "      <td>0.000000</td>\n",
              "      <td>0.000000</td>\n",
              "      <td>0.000000</td>\n",
              "      <td>0.000000</td>\n",
              "      <td>0.000000</td>\n",
              "      <td>0.000000</td>\n",
              "      <td>0.000000</td>\n",
              "      <td>0.000000</td>\n",
              "      <td>0.000000</td>\n",
              "      <td>0.000000</td>\n",
              "      <td>0.000000</td>\n",
              "      <td>0.00000</td>\n",
              "      <td>0.000000</td>\n",
              "      <td>0.000000</td>\n",
              "      <td>0.000000</td>\n",
              "      <td>0.000000</td>\n",
              "      <td>0.000000</td>\n",
              "      <td>0.000000</td>\n",
              "      <td>0.000000</td>\n",
              "      <td>0.000000</td>\n",
              "      <td>0.000000</td>\n",
              "      <td>0.000000</td>\n",
              "      <td>0.000000</td>\n",
              "      <td>0.000000</td>\n",
              "    </tr>\n",
              "    <tr>\n",
              "      <th>25%</th>\n",
              "      <td>189145.500000</td>\n",
              "      <td>0.000000</td>\n",
              "      <td>0.000000</td>\n",
              "      <td>1.125000e+05</td>\n",
              "      <td>2.700000e+05</td>\n",
              "      <td>16524.000000</td>\n",
              "      <td>2.385000e+05</td>\n",
              "      <td>0.010006</td>\n",
              "      <td>-19682.000000</td>\n",
              "      <td>-2760.000000</td>\n",
              "      <td>-7479.500000</td>\n",
              "      <td>-4299.000000</td>\n",
              "      <td>1.000000</td>\n",
              "      <td>1.000000</td>\n",
              "      <td>0.000000</td>\n",
              "      <td>1.000000</td>\n",
              "      <td>0.000000</td>\n",
              "      <td>0.000000</td>\n",
              "      <td>2.000000</td>\n",
              "      <td>2.000000</td>\n",
              "      <td>2.000000</td>\n",
              "      <td>10.000000</td>\n",
              "      <td>0.000000</td>\n",
              "      <td>0.000000</td>\n",
              "      <td>0.000000</td>\n",
              "      <td>0.000000</td>\n",
              "      <td>0.000000</td>\n",
              "      <td>0.000000</td>\n",
              "      <td>3.924574e-01</td>\n",
              "      <td>0.370650</td>\n",
              "      <td>0.976700</td>\n",
              "      <td>0.166700</td>\n",
              "      <td>0.976700</td>\n",
              "      <td>0.166700</td>\n",
              "      <td>0.976700</td>\n",
              "      <td>0.166700</td>\n",
              "      <td>0.041200</td>\n",
              "      <td>0.000000</td>\n",
              "      <td>0.000000</td>\n",
              "      <td>0.000000</td>\n",
              "      <td>0.000000</td>\n",
              "      <td>-1570.000000</td>\n",
              "      <td>0.000000</td>\n",
              "      <td>0.000000</td>\n",
              "      <td>0.000000</td>\n",
              "      <td>0.000000</td>\n",
              "      <td>0.000000</td>\n",
              "      <td>0.000000</td>\n",
              "      <td>0.000000</td>\n",
              "      <td>0.000000</td>\n",
              "      <td>0.000000</td>\n",
              "      <td>0.000000</td>\n",
              "      <td>0.000000</td>\n",
              "      <td>0.000000</td>\n",
              "      <td>0.000000</td>\n",
              "      <td>0.00000</td>\n",
              "      <td>0.000000</td>\n",
              "      <td>0.000000</td>\n",
              "      <td>0.000000</td>\n",
              "      <td>0.000000</td>\n",
              "      <td>0.000000</td>\n",
              "      <td>0.000000</td>\n",
              "      <td>0.000000</td>\n",
              "      <td>0.000000</td>\n",
              "      <td>0.000000</td>\n",
              "      <td>0.000000</td>\n",
              "      <td>0.000000</td>\n",
              "      <td>0.000000</td>\n",
              "    </tr>\n",
              "    <tr>\n",
              "      <th>50%</th>\n",
              "      <td>278202.000000</td>\n",
              "      <td>0.000000</td>\n",
              "      <td>0.000000</td>\n",
              "      <td>1.471500e+05</td>\n",
              "      <td>5.135310e+05</td>\n",
              "      <td>24903.000000</td>\n",
              "      <td>4.500000e+05</td>\n",
              "      <td>0.018850</td>\n",
              "      <td>-15750.000000</td>\n",
              "      <td>-1213.000000</td>\n",
              "      <td>-4504.000000</td>\n",
              "      <td>-3254.000000</td>\n",
              "      <td>1.000000</td>\n",
              "      <td>1.000000</td>\n",
              "      <td>0.000000</td>\n",
              "      <td>1.000000</td>\n",
              "      <td>0.000000</td>\n",
              "      <td>0.000000</td>\n",
              "      <td>2.000000</td>\n",
              "      <td>2.000000</td>\n",
              "      <td>2.000000</td>\n",
              "      <td>12.000000</td>\n",
              "      <td>0.000000</td>\n",
              "      <td>0.000000</td>\n",
              "      <td>0.000000</td>\n",
              "      <td>0.000000</td>\n",
              "      <td>0.000000</td>\n",
              "      <td>0.000000</td>\n",
              "      <td>5.659614e-01</td>\n",
              "      <td>0.535276</td>\n",
              "      <td>0.981600</td>\n",
              "      <td>0.166700</td>\n",
              "      <td>0.981600</td>\n",
              "      <td>0.166700</td>\n",
              "      <td>0.981600</td>\n",
              "      <td>0.166700</td>\n",
              "      <td>0.068800</td>\n",
              "      <td>0.000000</td>\n",
              "      <td>0.000000</td>\n",
              "      <td>0.000000</td>\n",
              "      <td>0.000000</td>\n",
              "      <td>-757.000000</td>\n",
              "      <td>0.000000</td>\n",
              "      <td>1.000000</td>\n",
              "      <td>0.000000</td>\n",
              "      <td>0.000000</td>\n",
              "      <td>0.000000</td>\n",
              "      <td>0.000000</td>\n",
              "      <td>0.000000</td>\n",
              "      <td>0.000000</td>\n",
              "      <td>0.000000</td>\n",
              "      <td>0.000000</td>\n",
              "      <td>0.000000</td>\n",
              "      <td>0.000000</td>\n",
              "      <td>0.000000</td>\n",
              "      <td>0.00000</td>\n",
              "      <td>0.000000</td>\n",
              "      <td>0.000000</td>\n",
              "      <td>0.000000</td>\n",
              "      <td>0.000000</td>\n",
              "      <td>0.000000</td>\n",
              "      <td>0.000000</td>\n",
              "      <td>0.000000</td>\n",
              "      <td>0.000000</td>\n",
              "      <td>0.000000</td>\n",
              "      <td>0.000000</td>\n",
              "      <td>0.000000</td>\n",
              "      <td>1.000000</td>\n",
              "    </tr>\n",
              "    <tr>\n",
              "      <th>75%</th>\n",
              "      <td>367142.500000</td>\n",
              "      <td>0.000000</td>\n",
              "      <td>1.000000</td>\n",
              "      <td>2.025000e+05</td>\n",
              "      <td>8.086500e+05</td>\n",
              "      <td>34596.000000</td>\n",
              "      <td>6.795000e+05</td>\n",
              "      <td>0.028663</td>\n",
              "      <td>-12413.000000</td>\n",
              "      <td>-289.000000</td>\n",
              "      <td>-2010.000000</td>\n",
              "      <td>-1720.000000</td>\n",
              "      <td>1.000000</td>\n",
              "      <td>1.000000</td>\n",
              "      <td>0.000000</td>\n",
              "      <td>1.000000</td>\n",
              "      <td>1.000000</td>\n",
              "      <td>0.000000</td>\n",
              "      <td>3.000000</td>\n",
              "      <td>2.000000</td>\n",
              "      <td>2.000000</td>\n",
              "      <td>14.000000</td>\n",
              "      <td>0.000000</td>\n",
              "      <td>0.000000</td>\n",
              "      <td>0.000000</td>\n",
              "      <td>0.000000</td>\n",
              "      <td>0.000000</td>\n",
              "      <td>0.000000</td>\n",
              "      <td>6.636171e-01</td>\n",
              "      <td>0.669057</td>\n",
              "      <td>0.986600</td>\n",
              "      <td>0.333300</td>\n",
              "      <td>0.986600</td>\n",
              "      <td>0.333300</td>\n",
              "      <td>0.986600</td>\n",
              "      <td>0.333300</td>\n",
              "      <td>0.127600</td>\n",
              "      <td>2.000000</td>\n",
              "      <td>0.000000</td>\n",
              "      <td>2.000000</td>\n",
              "      <td>0.000000</td>\n",
              "      <td>-274.000000</td>\n",
              "      <td>0.000000</td>\n",
              "      <td>1.000000</td>\n",
              "      <td>0.000000</td>\n",
              "      <td>0.000000</td>\n",
              "      <td>0.000000</td>\n",
              "      <td>0.000000</td>\n",
              "      <td>0.000000</td>\n",
              "      <td>0.000000</td>\n",
              "      <td>0.000000</td>\n",
              "      <td>0.000000</td>\n",
              "      <td>0.000000</td>\n",
              "      <td>0.000000</td>\n",
              "      <td>0.000000</td>\n",
              "      <td>0.00000</td>\n",
              "      <td>0.000000</td>\n",
              "      <td>0.000000</td>\n",
              "      <td>0.000000</td>\n",
              "      <td>0.000000</td>\n",
              "      <td>0.000000</td>\n",
              "      <td>0.000000</td>\n",
              "      <td>0.000000</td>\n",
              "      <td>0.000000</td>\n",
              "      <td>0.000000</td>\n",
              "      <td>0.000000</td>\n",
              "      <td>0.000000</td>\n",
              "      <td>3.000000</td>\n",
              "    </tr>\n",
              "    <tr>\n",
              "      <th>max</th>\n",
              "      <td>456255.000000</td>\n",
              "      <td>1.000000</td>\n",
              "      <td>19.000000</td>\n",
              "      <td>1.170000e+08</td>\n",
              "      <td>4.050000e+06</td>\n",
              "      <td>258025.500000</td>\n",
              "      <td>4.050000e+06</td>\n",
              "      <td>0.072508</td>\n",
              "      <td>-7489.000000</td>\n",
              "      <td>365243.000000</td>\n",
              "      <td>0.000000</td>\n",
              "      <td>0.000000</td>\n",
              "      <td>1.000000</td>\n",
              "      <td>1.000000</td>\n",
              "      <td>1.000000</td>\n",
              "      <td>1.000000</td>\n",
              "      <td>1.000000</td>\n",
              "      <td>1.000000</td>\n",
              "      <td>20.000000</td>\n",
              "      <td>3.000000</td>\n",
              "      <td>3.000000</td>\n",
              "      <td>23.000000</td>\n",
              "      <td>1.000000</td>\n",
              "      <td>1.000000</td>\n",
              "      <td>1.000000</td>\n",
              "      <td>1.000000</td>\n",
              "      <td>1.000000</td>\n",
              "      <td>1.000000</td>\n",
              "      <td>8.549997e-01</td>\n",
              "      <td>0.896010</td>\n",
              "      <td>1.000000</td>\n",
              "      <td>1.000000</td>\n",
              "      <td>1.000000</td>\n",
              "      <td>1.000000</td>\n",
              "      <td>1.000000</td>\n",
              "      <td>1.000000</td>\n",
              "      <td>1.000000</td>\n",
              "      <td>348.000000</td>\n",
              "      <td>34.000000</td>\n",
              "      <td>344.000000</td>\n",
              "      <td>24.000000</td>\n",
              "      <td>0.000000</td>\n",
              "      <td>1.000000</td>\n",
              "      <td>1.000000</td>\n",
              "      <td>1.000000</td>\n",
              "      <td>1.000000</td>\n",
              "      <td>1.000000</td>\n",
              "      <td>1.000000</td>\n",
              "      <td>1.000000</td>\n",
              "      <td>1.000000</td>\n",
              "      <td>1.000000</td>\n",
              "      <td>1.000000</td>\n",
              "      <td>1.000000</td>\n",
              "      <td>1.000000</td>\n",
              "      <td>1.000000</td>\n",
              "      <td>1.00000</td>\n",
              "      <td>1.000000</td>\n",
              "      <td>1.000000</td>\n",
              "      <td>1.000000</td>\n",
              "      <td>1.000000</td>\n",
              "      <td>1.000000</td>\n",
              "      <td>1.000000</td>\n",
              "      <td>4.000000</td>\n",
              "      <td>9.000000</td>\n",
              "      <td>8.000000</td>\n",
              "      <td>27.000000</td>\n",
              "      <td>261.000000</td>\n",
              "      <td>25.000000</td>\n",
              "    </tr>\n",
              "  </tbody>\n",
              "</table>\n",
              "</div>"
            ],
            "text/plain": [
              "          SK_ID_CURR  ...  AMT_REQ_CREDIT_BUREAU_YEAR\n",
              "count  307511.000000  ...               265992.000000\n",
              "mean   278180.518577  ...                    1.899974\n",
              "std    102790.175348  ...                    1.869295\n",
              "min    100002.000000  ...                    0.000000\n",
              "25%    189145.500000  ...                    0.000000\n",
              "50%    278202.000000  ...                    1.000000\n",
              "75%    367142.500000  ...                    3.000000\n",
              "max    456255.000000  ...                   25.000000\n",
              "\n",
              "[8 rows x 68 columns]"
            ]
          },
          "metadata": {
            "tags": []
          },
          "execution_count": 192
        }
      ]
    },
    {
      "cell_type": "code",
      "metadata": {
        "id": "U36SG_-ISetu"
      },
      "source": [
        "# df.info()"
      ],
      "execution_count": 193,
      "outputs": []
    },
    {
      "cell_type": "code",
      "metadata": {
        "colab": {
          "base_uri": "https://localhost:8080/"
        },
        "id": "rhgzdNCuSlgn",
        "outputId": "1aaa02c8-3369-4ed3-bd90-f692015e717f"
      },
      "source": [
        "# see if there are any more columns with missing values \n",
        "null_columns = df.columns[df.isnull().any()]\n",
        "df.isnull().sum()"
      ],
      "execution_count": 194,
      "outputs": [
        {
          "output_type": "execute_result",
          "data": {
            "text/plain": [
              "SK_ID_CURR                        0\n",
              "TARGET                            0\n",
              "NAME_CONTRACT_TYPE                0\n",
              "CODE_GENDER                       0\n",
              "FLAG_OWN_CAR                      0\n",
              "                              ...  \n",
              "AMT_REQ_CREDIT_BUREAU_DAY     41519\n",
              "AMT_REQ_CREDIT_BUREAU_WEEK    41519\n",
              "AMT_REQ_CREDIT_BUREAU_MON     41519\n",
              "AMT_REQ_CREDIT_BUREAU_QRT     41519\n",
              "AMT_REQ_CREDIT_BUREAU_YEAR    41519\n",
              "Length: 81, dtype: int64"
            ]
          },
          "metadata": {
            "tags": []
          },
          "execution_count": 194
        }
      ]
    },
    {
      "cell_type": "code",
      "metadata": {
        "colab": {
          "base_uri": "https://localhost:8080/",
          "height": 355
        },
        "id": "ULN4tOnITROO",
        "outputId": "0210f03e-1cf8-454d-ac19-c9a6c4343477"
      },
      "source": [
        "sns.set(font_scale=1)\n",
        "\n",
        "# pd.options.display.mpl_style = 'default'\n",
        "labels = []\n",
        "values = []\n",
        "for col in null_columns:\n",
        "    labels.append(col)\n",
        "    values.append(df[col].isnull().sum())\n",
        "ind = np.arange(len(labels))\n",
        "width=0.6\n",
        "fig, ax = plt.subplots(figsize=(6,5))\n",
        "rects = ax.barh(ind, np.array(values), color='purple')\n",
        "ax.set_yticks(ind+((width)/2.))\n",
        "ax.set_yticklabels(labels, rotation='horizontal')\n",
        "ax.set_xlabel(\"Count of missing values\")\n",
        "ax.set_ylabel(\"Column Names\")\n",
        "ax.set_title(\"Variables with missing values\");"
      ],
      "execution_count": 195,
      "outputs": [
        {
          "output_type": "display_data",
          "data": {
            "image/png": "[encoded data removed]",
            "text/plain": [
              "<Figure size 432x360 with 1 Axes>"
            ]
          },
          "metadata": {
            "tags": []
          }
        }
      ]
    },
    {
      "cell_type": "code",
      "metadata": {
        "id": "6eIS3aY7TWp_"
      },
      "source": [
        "# df.hist(bins=10,figsize=(9,7),grid=False);"
      ],
      "execution_count": 196,
      "outputs": []
    },
    {
      "cell_type": "code",
      "metadata": {
        "colab": {
          "base_uri": "https://localhost:8080/",
          "height": 437
        },
        "id": "jG4oVIx9Tjfl",
        "outputId": "342e865d-0759-466d-be07-fa1e448d0c2a"
      },
      "source": [
        "g = sns.FacetGrid(df, col=\"CODE_GENDER\", row=\"TARGET\", margin_titles=True)\n",
        "g.map(plt.hist, \"DAYS_BIRTH\",color=\"purple\");"
      ],
      "execution_count": 197,
      "outputs": [
        {
          "output_type": "display_data",
          "data": {
            "image/png": "[encoded data removed]",
            "text/plain": [
              "<Figure size 648x432 with 6 Axes>"
            ]
          },
          "metadata": {
            "tags": []
          }
        }
      ]
    },
    {
      "cell_type": "code",
      "metadata": {
        "id": "v5SgSegzUIf8"
      },
      "source": [
        ""
      ],
      "execution_count": 197,
      "outputs": []
    },
    {
      "cell_type": "code",
      "metadata": {
        "colab": {
          "base_uri": "https://localhost:8080/"
        },
        "id": "Q3tGy8yJVJ67",
        "outputId": "0614cb14-e53c-4512-e5ea-d4633c12c2b6"
      },
      "source": [
        "df['OCCUPATION_TYPE'].isnull().sum()"
      ],
      "execution_count": 198,
      "outputs": [
        {
          "output_type": "execute_result",
          "data": {
            "text/plain": [
              "96391"
            ]
          },
          "metadata": {
            "tags": []
          },
          "execution_count": 198
        }
      ]
    },
    {
      "cell_type": "code",
      "metadata": {
        "colab": {
          "base_uri": "https://localhost:8080/"
        },
        "id": "IKOlSaMYXuWa",
        "outputId": "dcafd733-ff60-488e-b21f-aae97a9f3e5b"
      },
      "source": [
        "df['CODE_GENDER'].isnull().mean()"
      ],
      "execution_count": 199,
      "outputs": [
        {
          "output_type": "execute_result",
          "data": {
            "text/plain": [
              "0.0"
            ]
          },
          "metadata": {
            "tags": []
          },
          "execution_count": 199
        }
      ]
    },
    {
      "cell_type": "code",
      "metadata": {
        "colab": {
          "base_uri": "https://localhost:8080/",
          "height": 281
        },
        "id": "3EFisErJdaYM",
        "outputId": "c026205b-aa01-43b8-a4c5-3be3b92d6e27"
      },
      "source": [
        "df['CODE_GENDER'].value_counts().plot.bar()\n",
        "plt.show()"
      ],
      "execution_count": 200,
      "outputs": [
        {
          "output_type": "display_data",
          "data": {
            "image/png": "[encoded data removed]",
            "text/plain": [
              "<Figure size 432x288 with 1 Axes>"
            ]
          },
          "metadata": {
            "tags": []
          }
        }
      ]
    },
    {
      "cell_type": "code",
      "metadata": {
        "id": "I-O8ztmud6Wy"
      },
      "source": [
        "numeric_lst = ['int16', 'int32', 'int64', 'float16', 'float32', 'float64']\n",
        "numerical_cols = list(df.select_dtypes(include=numeric_lst).columns)"
      ],
      "execution_count": 201,
      "outputs": []
    },
    {
      "cell_type": "code",
      "metadata": {
        "id": "kAJkwmUq9D30"
      },
      "source": [
        "numeric_df = df[numerical_cols]"
      ],
      "execution_count": 202,
      "outputs": []
    },
    {
      "cell_type": "code",
      "metadata": {
        "id": "g91zoZmM9D7c"
      },
      "source": [
        "categorical_df = df[set(df.columns)- set(numeric_df.columns)]"
      ],
      "execution_count": 203,
      "outputs": []
    },
    {
      "cell_type": "code",
      "metadata": {
        "id": "a4JE158K9D_H"
      },
      "source": [
        "categorical_df['TARGET'] = df['TARGET']"
      ],
      "execution_count": 204,
      "outputs": []
    },
    {
      "cell_type": "markdown",
      "metadata": {
        "id": "uw08RPJe86aa"
      },
      "source": [
        "**2.Handling Categorical Variable**"
      ]
    },
    {
      "cell_type": "code",
      "metadata": {
        "colab": {
          "base_uri": "https://localhost:8080/"
        },
        "id": "t6EqRQ0r890p",
        "outputId": "9ccdda23-85af-4302-ec72-98d18003acd9"
      },
      "source": [
        "categorical_df.isnull().sum()"
      ],
      "execution_count": 205,
      "outputs": [
        {
          "output_type": "execute_result",
          "data": {
            "text/plain": [
              "FLAG_OWN_REALTY                    0\n",
              "CODE_GENDER                        0\n",
              "NAME_HOUSING_TYPE                  0\n",
              "NAME_EDUCATION_TYPE                0\n",
              "ORGANIZATION_TYPE                  0\n",
              "OCCUPATION_TYPE                96391\n",
              "NAME_INCOME_TYPE                   0\n",
              "NAME_FAMILY_STATUS                 0\n",
              "NAME_CONTRACT_TYPE                 0\n",
              "NAME_TYPE_SUITE                 1292\n",
              "EMERGENCYSTATE_MODE           145755\n",
              "WEEKDAY_APPR_PROCESS_START         0\n",
              "FLAG_OWN_CAR                       0\n",
              "TARGET                             0\n",
              "dtype: int64"
            ]
          },
          "metadata": {
            "tags": []
          },
          "execution_count": 205
        }
      ]
    },
    {
      "cell_type": "code",
      "metadata": {
        "colab": {
          "base_uri": "https://localhost:8080/"
        },
        "id": "_Sm4Om2C9dZp",
        "outputId": "b4af81fd-212c-4724-9375-2fe8b827b548"
      },
      "source": [
        "categorical_df.shape"
      ],
      "execution_count": 206,
      "outputs": [
        {
          "output_type": "execute_result",
          "data": {
            "text/plain": [
              "(307511, 14)"
            ]
          },
          "metadata": {
            "tags": []
          },
          "execution_count": 206
        }
      ]
    },
    {
      "cell_type": "markdown",
      "metadata": {
        "id": "66cg0Qlw-j_z"
      },
      "source": [
        "There are thirteen categorical column and one target column. Only three of them have missing values"
      ]
    },
    {
      "cell_type": "markdown",
      "metadata": {
        "id": "xothkzHfDtNB"
      },
      "source": [
        "**2.1 handling missing value in NAME_TYPE_SUITE column**"
      ]
    },
    {
      "cell_type": "code",
      "metadata": {
        "colab": {
          "base_uri": "https://localhost:8080/",
          "height": 347
        },
        "id": "OiuY-3_w9dcq",
        "outputId": "1ca6e123-c71a-4ada-ca78-9f6fac2f344c"
      },
      "source": [
        "# first looking at NAME_TYPE_SUITE categorical column\n",
        "categorical_df['NAME_TYPE_SUITE'].value_counts().plot.bar()\n",
        "plt.show()"
      ],
      "execution_count": 207,
      "outputs": [
        {
          "output_type": "display_data",
          "data": {
            "image/png": "[encoded data removed]",
            "text/plain": [
              "<Figure size 432x288 with 1 Axes>"
            ]
          },
          "metadata": {
            "tags": []
          }
        }
      ]
    },
    {
      "cell_type": "code",
      "metadata": {
        "colab": {
          "base_uri": "https://localhost:8080/"
        },
        "id": "ESGAyqod9dfV",
        "outputId": "5c55b376-1d0d-4244-cab7-ce229e7f5269"
      },
      "source": [
        "#checking the proportion of each class of NAME_TYPE_SUITE categorical column\n",
        "class_ratio_before = categorical_df.NAME_TYPE_SUITE.value_counts(normalize=True)\n",
        "class_ratio_before"
      ],
      "execution_count": 208,
      "outputs": [
        {
          "output_type": "execute_result",
          "data": {
            "text/plain": [
              "Unaccompanied      0.811596\n",
              "Family             0.131112\n",
              "Spouse, partner    0.037130\n",
              "Children           0.010669\n",
              "Other_B            0.005780\n",
              "Other_A            0.002828\n",
              "Group of people    0.000885\n",
              "Name: NAME_TYPE_SUITE, dtype: float64"
            ]
          },
          "metadata": {
            "tags": []
          },
          "execution_count": 208
        }
      ]
    },
    {
      "cell_type": "markdown",
      "metadata": {
        "id": "pr9q7eKS_cnE"
      },
      "source": [
        "Almost 80% of the data belongs to class unaccompanied "
      ]
    },
    {
      "cell_type": "code",
      "metadata": {
        "id": "WRbpJwly9diG"
      },
      "source": [
        "# filling nan values by maintaing each class ratio in NAME_TYPE_SUITE column\n",
        "\n",
        "missing = categorical_df['NAME_TYPE_SUITE'].isnull()\n",
        "categorical_df.loc[missing,'NAME_TYPE_SUITE'] = np.random.choice(class_ratio_before.index, size=len(categorical_df[missing]),p=class_ratio_before.values)\n"
      ],
      "execution_count": 209,
      "outputs": []
    },
    {
      "cell_type": "code",
      "metadata": {
        "colab": {
          "base_uri": "https://localhost:8080/"
        },
        "id": "eosnTw8c9dlU",
        "outputId": "dac02402-662c-484c-e604-1d5511488ce2"
      },
      "source": [
        "categorical_df['NAME_TYPE_SUITE'].isnull().sum()"
      ],
      "execution_count": 210,
      "outputs": [
        {
          "output_type": "execute_result",
          "data": {
            "text/plain": [
              "0"
            ]
          },
          "metadata": {
            "tags": []
          },
          "execution_count": 210
        }
      ]
    },
    {
      "cell_type": "code",
      "metadata": {
        "colab": {
          "base_uri": "https://localhost:8080/"
        },
        "id": "GMDY2xZY9dn3",
        "outputId": "4547bcab-bdbc-4418-e4c3-e5565b068553"
      },
      "source": [
        "class_ratio_after = categorical_df.NAME_TYPE_SUITE.value_counts(normalize=True)\n",
        "class_ratio_after"
      ],
      "execution_count": 211,
      "outputs": [
        {
          "output_type": "execute_result",
          "data": {
            "text/plain": [
              "Unaccompanied      0.811535\n",
              "Family             0.131147\n",
              "Spouse, partner    0.037150\n",
              "Children           0.010683\n",
              "Other_B            0.005772\n",
              "Other_A            0.002832\n",
              "Group of people    0.000881\n",
              "Name: NAME_TYPE_SUITE, dtype: float64"
            ]
          },
          "metadata": {
            "tags": []
          },
          "execution_count": 211
        }
      ]
    },
    {
      "cell_type": "markdown",
      "metadata": {
        "id": "YAag52JPDgo3"
      },
      "source": [
        "Imputed the categorical column NAME_TYPE_SUITE  such that each class ratio before and after imputation is not changed"
      ]
    },
    {
      "cell_type": "markdown",
      "metadata": {
        "id": "qa8rfrxYECOU"
      },
      "source": [
        "**2.2 handling missing value in EMERGENCYSTATE_MODE column**"
      ]
    },
    {
      "cell_type": "code",
      "metadata": {
        "colab": {
          "base_uri": "https://localhost:8080/",
          "height": 285
        },
        "id": "nkYU6AcG9dtQ",
        "outputId": "9eefc18a-0234-4818-e636-f3c0b1fdeb75"
      },
      "source": [
        "\n",
        "# categorical_df['EMERGENCYSTATE_MODE'].value_counts().plot.bar()\n",
        "# plt.show()\n",
        "\n",
        "ax = sns.countplot(x = \"EMERGENCYSTATE_MODE\", hue=\"TARGET\", data = categorical_df)"
      ],
      "execution_count": 212,
      "outputs": [
        {
          "output_type": "display_data",
          "data": {
            "image/png": "[encoded data removed]",
            "text/plain": [
              "<Figure size 432x288 with 1 Axes>"
            ]
          },
          "metadata": {
            "tags": []
          }
        }
      ]
    },
    {
      "cell_type": "code",
      "metadata": {
        "colab": {
          "base_uri": "https://localhost:8080/"
        },
        "id": "ohGE6Ykm9dwE",
        "outputId": "4ccc41b6-3384-49c5-de13-c6b2b5dc0769"
      },
      "source": [
        "#checking the proportion of each class of EMERGENCYSTATE_MODE categorical column\n",
        "class_ratio_before = categorical_df.EMERGENCYSTATE_MODE.value_counts(normalize=True)\n",
        "class_ratio_before"
      ],
      "execution_count": 213,
      "outputs": [
        {
          "output_type": "execute_result",
          "data": {
            "text/plain": [
              "No     0.985608\n",
              "Yes    0.014392\n",
              "Name: EMERGENCYSTATE_MODE, dtype: float64"
            ]
          },
          "metadata": {
            "tags": []
          },
          "execution_count": 213
        }
      ]
    },
    {
      "cell_type": "code",
      "metadata": {
        "id": "dxR0YUi49dyz"
      },
      "source": [
        "# filling nan values by maintaing each class ratio in NAME_TYPE_SUITE column\n",
        "\n",
        "missing = categorical_df['EMERGENCYSTATE_MODE'].isnull()\n",
        "categorical_df.loc[missing,'EMERGENCYSTATE_MODE'] = np.random.choice(class_ratio_before.index, size=len(categorical_df[missing]),p=class_ratio_before.values)\n"
      ],
      "execution_count": 214,
      "outputs": []
    },
    {
      "cell_type": "code",
      "metadata": {
        "colab": {
          "base_uri": "https://localhost:8080/"
        },
        "id": "56cssZ1T9d14",
        "outputId": "b147d7f7-f9a3-4657-98c7-436b9b79f065"
      },
      "source": [
        "class_ratio_after = categorical_df.EMERGENCYSTATE_MODE.value_counts(normalize=True)\n",
        "class_ratio_after"
      ],
      "execution_count": 215,
      "outputs": [
        {
          "output_type": "execute_result",
          "data": {
            "text/plain": [
              "No     0.985373\n",
              "Yes    0.014627\n",
              "Name: EMERGENCYSTATE_MODE, dtype: float64"
            ]
          },
          "metadata": {
            "tags": []
          },
          "execution_count": 215
        }
      ]
    },
    {
      "cell_type": "code",
      "metadata": {
        "colab": {
          "base_uri": "https://localhost:8080/"
        },
        "id": "LX-8fpdH9d33",
        "outputId": "4e0f52c6-41f2-4400-c3fa-c0b384108a34"
      },
      "source": [
        "categorical_df['EMERGENCYSTATE_MODE'].isnull().sum()"
      ],
      "execution_count": 216,
      "outputs": [
        {
          "output_type": "execute_result",
          "data": {
            "text/plain": [
              "0"
            ]
          },
          "metadata": {
            "tags": []
          },
          "execution_count": 216
        }
      ]
    },
    {
      "cell_type": "code",
      "metadata": {
        "colab": {
          "base_uri": "https://localhost:8080/",
          "height": 285
        },
        "id": "tfK6aLstFV_D",
        "outputId": "f1c6d7b8-1ba6-4690-e811-3a3a115d821d"
      },
      "source": [
        "# count plot after imputation is almost same as well\n",
        "ax = sns.countplot(x = \"EMERGENCYSTATE_MODE\", hue=\"TARGET\", data = categorical_df)"
      ],
      "execution_count": 217,
      "outputs": [
        {
          "output_type": "display_data",
          "data": {
            "image/png": "[encoded data removed]",
            "text/plain": [
              "<Figure size 432x288 with 1 Axes>"
            ]
          },
          "metadata": {
            "tags": []
          }
        }
      ]
    },
    {
      "cell_type": "markdown",
      "metadata": {
        "id": "GPBZMv_rFEnt"
      },
      "source": [
        "**2.3 Handling missing value for OCCUPATION_TYPE column**"
      ]
    },
    {
      "cell_type": "code",
      "metadata": {
        "colab": {
          "base_uri": "https://localhost:8080/",
          "height": 380
        },
        "id": "TNKSN2BdFR8j",
        "outputId": "1c412b86-7fee-4122-a243-0085b6e14950"
      },
      "source": [
        "ax = sns.countplot(x = \"OCCUPATION_TYPE\", hue=\"TARGET\", data = categorical_df)\n",
        "ax.set_xticklabels(ax.get_xticklabels(), \n",
        "                          rotation=45, \n",
        "                          horizontalalignment='right')\n",
        "plt.title('Target vs occupation type')\n",
        "plt.show()"
      ],
      "execution_count": 218,
      "outputs": [
        {
          "output_type": "display_data",
          "data": {
            "image/png": "[encoded data removed]",
            "text/plain": [
              "<Figure size 432x288 with 1 Axes>"
            ]
          },
          "metadata": {
            "tags": []
          }
        }
      ]
    },
    {
      "cell_type": "code",
      "metadata": {
        "id": "foDnhQ2yFR_S"
      },
      "source": [
        "# df.head()"
      ],
      "execution_count": 219,
      "outputs": []
    },
    {
      "cell_type": "code",
      "metadata": {
        "id": "H7DKxt91FSBn"
      },
      "source": [
        "#visualization part\n",
        "range_min = pd.DataFrame(df.groupby('OCCUPATION_TYPE', as_index=True)['AMT_CREDIT'].min()/100)\n",
        "range_max = pd.DataFrame(df.groupby('OCCUPATION_TYPE', as_index=True)['AMT_CREDIT'].max()/100)\n"
      ],
      "execution_count": 220,
      "outputs": []
    },
    {
      "cell_type": "code",
      "metadata": {
        "id": "YDQ3pMnnJ8k_"
      },
      "source": [
        "#visualization part\n",
        "range = pd.DataFrame({'min': range_min['AMT_CREDIT'],'max': range_max['AMT_CREDIT']})\n",
        "# range"
      ],
      "execution_count": 221,
      "outputs": []
    },
    {
      "cell_type": "code",
      "metadata": {
        "id": "pfncJoKJIj11"
      },
      "source": [
        "#checking the proportion of each class of OCCUPAPTION_TYPE categorical column\n",
        "class_ratio_before = categorical_df.OCCUPATION_TYPE.value_counts(normalize=True)\n",
        "# class_ratio_before"
      ],
      "execution_count": 222,
      "outputs": []
    },
    {
      "cell_type": "code",
      "metadata": {
        "id": "q-YFv0JHFSES"
      },
      "source": [
        "# filling nan values by maintaing each class ratio in NAME_TYPE_SUITE column\n",
        "missing = categorical_df['OCCUPATION_TYPE'].isnull()\n",
        "categorical_df.loc[missing,'OCCUPATION_TYPE'] = np.random.choice(class_ratio_before.index, size=len(categorical_df[missing]),p=class_ratio_before.values)\n"
      ],
      "execution_count": 223,
      "outputs": []
    },
    {
      "cell_type": "code",
      "metadata": {
        "id": "OnabCvy_PpVo"
      },
      "source": [
        "categorical_df['AMT_CREDIT'] = df['AMT_CREDIT']"
      ],
      "execution_count": 224,
      "outputs": []
    },
    {
      "cell_type": "code",
      "metadata": {
        "colab": {
          "base_uri": "https://localhost:8080/",
          "height": 392
        },
        "id": "BpOQR_JTFSJh",
        "outputId": "af0137a5-8f67-41d4-9c3e-dc75639bf877"
      },
      "source": [
        "# checking mean income before and after imputation for each occupation type\n",
        "before_mean = pd.DataFrame(df.groupby('OCCUPATION_TYPE', as_index=True)['AMT_CREDIT'].mean()/1000)\n",
        "after_mean = pd.DataFrame(categorical_df.groupby('OCCUPATION_TYPE', as_index=True)['AMT_CREDIT'].mean()/1000)\n",
        "\n",
        "compare_mean = pd.DataFrame({'before': before_mean['AMT_CREDIT'],'after': after_mean['AMT_CREDIT']})\n",
        "compare_mean.plot.bar()\n",
        "plt.show()"
      ],
      "execution_count": 225,
      "outputs": [
        {
          "output_type": "display_data",
          "data": {
            "image/png": "[encoded data removed]",
            "text/plain": [
              "<Figure size 432x288 with 1 Axes>"
            ]
          },
          "metadata": {
            "tags": []
          }
        }
      ]
    },
    {
      "cell_type": "markdown",
      "metadata": {
        "id": "k9M2d3xCQPwB"
      },
      "source": [
        "After the imputation of null values in occupation type column, the mean anuual income of each occupation has changed slightly. For Manager it has decreased and for low skill labor it has increased."
      ]
    },
    {
      "cell_type": "code",
      "metadata": {
        "id": "sW0KtNgAFSSz"
      },
      "source": [
        "categorical_df.drop('AMT_CREDIT', axis= 'columns', inplace=True)"
      ],
      "execution_count": 226,
      "outputs": []
    },
    {
      "cell_type": "code",
      "metadata": {
        "colab": {
          "base_uri": "https://localhost:8080/",
          "height": 292
        },
        "id": "FMSF6RrnFSVw",
        "outputId": "e66a3d77-29ca-41bc-975c-5c326563f6d2"
      },
      "source": [
        "categorical_df.head()"
      ],
      "execution_count": 227,
      "outputs": [
        {
          "output_type": "execute_result",
          "data": {
            "text/html": [
              "<div>\n",
              "<style scoped>\n",
              "    .dataframe tbody tr th:only-of-type {\n",
              "        vertical-align: middle;\n",
              "    }\n",
              "\n",
              "    .dataframe tbody tr th {\n",
              "        vertical-align: top;\n",
              "    }\n",
              "\n",
              "    .dataframe thead th {\n",
              "        text-align: right;\n",
              "    }\n",
              "</style>\n",
              "<table border=\"1\" class=\"dataframe\">\n",
              "  <thead>\n",
              "    <tr style=\"text-align: right;\">\n",
              "      <th></th>\n",
              "      <th>FLAG_OWN_REALTY</th>\n",
              "      <th>CODE_GENDER</th>\n",
              "      <th>NAME_HOUSING_TYPE</th>\n",
              "      <th>NAME_EDUCATION_TYPE</th>\n",
              "      <th>ORGANIZATION_TYPE</th>\n",
              "      <th>OCCUPATION_TYPE</th>\n",
              "      <th>NAME_INCOME_TYPE</th>\n",
              "      <th>NAME_FAMILY_STATUS</th>\n",
              "      <th>NAME_CONTRACT_TYPE</th>\n",
              "      <th>NAME_TYPE_SUITE</th>\n",
              "      <th>EMERGENCYSTATE_MODE</th>\n",
              "      <th>WEEKDAY_APPR_PROCESS_START</th>\n",
              "      <th>FLAG_OWN_CAR</th>\n",
              "      <th>TARGET</th>\n",
              "    </tr>\n",
              "  </thead>\n",
              "  <tbody>\n",
              "    <tr>\n",
              "      <th>0</th>\n",
              "      <td>Y</td>\n",
              "      <td>M</td>\n",
              "      <td>House / apartment</td>\n",
              "      <td>Secondary / secondary special</td>\n",
              "      <td>Business Entity Type 3</td>\n",
              "      <td>Laborers</td>\n",
              "      <td>Working</td>\n",
              "      <td>Single / not married</td>\n",
              "      <td>Cash loans</td>\n",
              "      <td>Unaccompanied</td>\n",
              "      <td>No</td>\n",
              "      <td>WEDNESDAY</td>\n",
              "      <td>N</td>\n",
              "      <td>1</td>\n",
              "    </tr>\n",
              "    <tr>\n",
              "      <th>1</th>\n",
              "      <td>N</td>\n",
              "      <td>F</td>\n",
              "      <td>House / apartment</td>\n",
              "      <td>Higher education</td>\n",
              "      <td>School</td>\n",
              "      <td>Core staff</td>\n",
              "      <td>State servant</td>\n",
              "      <td>Married</td>\n",
              "      <td>Cash loans</td>\n",
              "      <td>Family</td>\n",
              "      <td>No</td>\n",
              "      <td>MONDAY</td>\n",
              "      <td>N</td>\n",
              "      <td>0</td>\n",
              "    </tr>\n",
              "    <tr>\n",
              "      <th>2</th>\n",
              "      <td>Y</td>\n",
              "      <td>M</td>\n",
              "      <td>House / apartment</td>\n",
              "      <td>Secondary / secondary special</td>\n",
              "      <td>Government</td>\n",
              "      <td>Laborers</td>\n",
              "      <td>Working</td>\n",
              "      <td>Single / not married</td>\n",
              "      <td>Revolving loans</td>\n",
              "      <td>Unaccompanied</td>\n",
              "      <td>No</td>\n",
              "      <td>MONDAY</td>\n",
              "      <td>Y</td>\n",
              "      <td>0</td>\n",
              "    </tr>\n",
              "    <tr>\n",
              "      <th>3</th>\n",
              "      <td>Y</td>\n",
              "      <td>F</td>\n",
              "      <td>House / apartment</td>\n",
              "      <td>Secondary / secondary special</td>\n",
              "      <td>Business Entity Type 3</td>\n",
              "      <td>Laborers</td>\n",
              "      <td>Working</td>\n",
              "      <td>Civil marriage</td>\n",
              "      <td>Cash loans</td>\n",
              "      <td>Unaccompanied</td>\n",
              "      <td>No</td>\n",
              "      <td>WEDNESDAY</td>\n",
              "      <td>N</td>\n",
              "      <td>0</td>\n",
              "    </tr>\n",
              "    <tr>\n",
              "      <th>4</th>\n",
              "      <td>Y</td>\n",
              "      <td>M</td>\n",
              "      <td>House / apartment</td>\n",
              "      <td>Secondary / secondary special</td>\n",
              "      <td>Religion</td>\n",
              "      <td>Core staff</td>\n",
              "      <td>Working</td>\n",
              "      <td>Single / not married</td>\n",
              "      <td>Cash loans</td>\n",
              "      <td>Unaccompanied</td>\n",
              "      <td>No</td>\n",
              "      <td>THURSDAY</td>\n",
              "      <td>N</td>\n",
              "      <td>0</td>\n",
              "    </tr>\n",
              "  </tbody>\n",
              "</table>\n",
              "</div>"
            ],
            "text/plain": [
              "  FLAG_OWN_REALTY CODE_GENDER  ... FLAG_OWN_CAR TARGET\n",
              "0               Y           M  ...            N      1\n",
              "1               N           F  ...            N      0\n",
              "2               Y           M  ...            Y      0\n",
              "3               Y           F  ...            N      0\n",
              "4               Y           M  ...            N      0\n",
              "\n",
              "[5 rows x 14 columns]"
            ]
          },
          "metadata": {
            "tags": []
          },
          "execution_count": 227
        }
      ]
    },
    {
      "cell_type": "code",
      "metadata": {
        "id": "XDzumgQWSsPl"
      },
      "source": [
        "categorical_cols = categorical_df.select_dtypes(include=['object'])"
      ],
      "execution_count": 228,
      "outputs": []
    },
    {
      "cell_type": "code",
      "metadata": {
        "colab": {
          "base_uri": "https://localhost:8080/"
        },
        "id": "uQfnELuxFSYg",
        "outputId": "0706d210-2206-4fb5-fcb7-6b763d9889f0"
      },
      "source": [
        "#label encoding categorical columns\n",
        "from sklearn.preprocessing import LabelEncoder\n",
        "\n",
        "cat_le = categorical_cols.apply(LabelEncoder().fit_transform)\n",
        "cat_le['TARGET'] = categorical_df['TARGET']\n",
        "\n",
        "#finding important features from categorical values\n",
        "correlation_cat = cat_le.corr()\n",
        "correlation_cat.sort_values([\"TARGET\"], ascending = False, inplace = True)\n",
        "correlation_cat.TARGET"
      ],
      "execution_count": 229,
      "outputs": [
        {
          "output_type": "execute_result",
          "data": {
            "text/plain": [
              "TARGET                        1.000000\n",
              "NAME_EDUCATION_TYPE           0.054699\n",
              "CODE_GENDER                   0.054692\n",
              "NAME_INCOME_TYPE              0.046829\n",
              "NAME_HOUSING_TYPE             0.034489\n",
              "OCCUPATION_TYPE               0.014519\n",
              "NAME_TYPE_SUITE               0.008382\n",
              "EMERGENCYSTATE_MODE           0.005556\n",
              "WEEKDAY_APPR_PROCESS_START    0.004002\n",
              "NAME_FAMILY_STATUS           -0.004127\n",
              "FLAG_OWN_REALTY              -0.006148\n",
              "FLAG_OWN_CAR                 -0.021851\n",
              "ORGANIZATION_TYPE            -0.030765\n",
              "NAME_CONTRACT_TYPE           -0.030896\n",
              "Name: TARGET, dtype: float64"
            ]
          },
          "metadata": {
            "tags": []
          },
          "execution_count": 229
        }
      ]
    },
    {
      "cell_type": "code",
      "metadata": {
        "colab": {
          "base_uri": "https://localhost:8080/"
        },
        "id": "Y5g28aCQFSct",
        "outputId": "73506eb7-7ce9-41a8-d5e0-0696575effa9"
      },
      "source": [
        "cat_le.shape"
      ],
      "execution_count": 230,
      "outputs": [
        {
          "output_type": "execute_result",
          "data": {
            "text/plain": [
              "(307511, 14)"
            ]
          },
          "metadata": {
            "tags": []
          },
          "execution_count": 230
        }
      ]
    },
    {
      "cell_type": "markdown",
      "metadata": {
        "id": "Uf6jonHtS96n"
      },
      "source": [
        "**3. HANDLING NUMERICAL COLUMNS**"
      ]
    },
    {
      "cell_type": "code",
      "metadata": {
        "colab": {
          "base_uri": "https://localhost:8080/"
        },
        "id": "F4UzVP0QS84o",
        "outputId": "cd28232d-3766-448e-e225-c23280090acc"
      },
      "source": [
        "numeric_df.shape"
      ],
      "execution_count": 231,
      "outputs": [
        {
          "output_type": "execute_result",
          "data": {
            "text/plain": [
              "(307511, 68)"
            ]
          },
          "metadata": {
            "tags": []
          },
          "execution_count": 231
        }
      ]
    },
    {
      "cell_type": "markdown",
      "metadata": {
        "id": "KPPLjKg_TUiS"
      },
      "source": [
        "There are total sixty eight numeric columns "
      ]
    },
    {
      "cell_type": "code",
      "metadata": {
        "colab": {
          "base_uri": "https://localhost:8080/"
        },
        "id": "W9Xc6Ey4TTGb",
        "outputId": "63f56021-8a5d-4950-ff27-4adc15ae31a6"
      },
      "source": [
        "#seperating binary values columns\n",
        "\n",
        "bool_cols = [col for col in numeric_df if \n",
        "               numeric_df[col].dropna().value_counts().index.isin([0,1]).all()]\n",
        "bool_df = numeric_df[bool_cols]\n",
        "bool_df.shape"
      ],
      "execution_count": 232,
      "outputs": [
        {
          "output_type": "execute_result",
          "data": {
            "text/plain": [
              "(307511, 33)"
            ]
          },
          "metadata": {
            "tags": []
          },
          "execution_count": 232
        }
      ]
    },
    {
      "cell_type": "code",
      "metadata": {
        "colab": {
          "base_uri": "https://localhost:8080/",
          "height": 224
        },
        "id": "-xMBRzlDUECv",
        "outputId": "7a3f74d8-85be-4dc0-c578-00a481a6a1ec"
      },
      "source": [
        "bool_df.head()"
      ],
      "execution_count": 233,
      "outputs": [
        {
          "output_type": "execute_result",
          "data": {
            "text/html": [
              "<div>\n",
              "<style scoped>\n",
              "    .dataframe tbody tr th:only-of-type {\n",
              "        vertical-align: middle;\n",
              "    }\n",
              "\n",
              "    .dataframe tbody tr th {\n",
              "        vertical-align: top;\n",
              "    }\n",
              "\n",
              "    .dataframe thead th {\n",
              "        text-align: right;\n",
              "    }\n",
              "</style>\n",
              "<table border=\"1\" class=\"dataframe\">\n",
              "  <thead>\n",
              "    <tr style=\"text-align: right;\">\n",
              "      <th></th>\n",
              "      <th>TARGET</th>\n",
              "      <th>FLAG_MOBIL</th>\n",
              "      <th>FLAG_EMP_PHONE</th>\n",
              "      <th>FLAG_WORK_PHONE</th>\n",
              "      <th>FLAG_CONT_MOBILE</th>\n",
              "      <th>FLAG_PHONE</th>\n",
              "      <th>FLAG_EMAIL</th>\n",
              "      <th>REG_REGION_NOT_LIVE_REGION</th>\n",
              "      <th>REG_REGION_NOT_WORK_REGION</th>\n",
              "      <th>LIVE_REGION_NOT_WORK_REGION</th>\n",
              "      <th>REG_CITY_NOT_LIVE_CITY</th>\n",
              "      <th>REG_CITY_NOT_WORK_CITY</th>\n",
              "      <th>LIVE_CITY_NOT_WORK_CITY</th>\n",
              "      <th>FLAG_DOCUMENT_2</th>\n",
              "      <th>FLAG_DOCUMENT_3</th>\n",
              "      <th>FLAG_DOCUMENT_4</th>\n",
              "      <th>FLAG_DOCUMENT_5</th>\n",
              "      <th>FLAG_DOCUMENT_6</th>\n",
              "      <th>FLAG_DOCUMENT_7</th>\n",
              "      <th>FLAG_DOCUMENT_8</th>\n",
              "      <th>FLAG_DOCUMENT_9</th>\n",
              "      <th>FLAG_DOCUMENT_10</th>\n",
              "      <th>FLAG_DOCUMENT_11</th>\n",
              "      <th>FLAG_DOCUMENT_12</th>\n",
              "      <th>FLAG_DOCUMENT_13</th>\n",
              "      <th>FLAG_DOCUMENT_14</th>\n",
              "      <th>FLAG_DOCUMENT_15</th>\n",
              "      <th>FLAG_DOCUMENT_16</th>\n",
              "      <th>FLAG_DOCUMENT_17</th>\n",
              "      <th>FLAG_DOCUMENT_18</th>\n",
              "      <th>FLAG_DOCUMENT_19</th>\n",
              "      <th>FLAG_DOCUMENT_20</th>\n",
              "      <th>FLAG_DOCUMENT_21</th>\n",
              "    </tr>\n",
              "  </thead>\n",
              "  <tbody>\n",
              "    <tr>\n",
              "      <th>0</th>\n",
              "      <td>1</td>\n",
              "      <td>1</td>\n",
              "      <td>1</td>\n",
              "      <td>0</td>\n",
              "      <td>1</td>\n",
              "      <td>1</td>\n",
              "      <td>0</td>\n",
              "      <td>0</td>\n",
              "      <td>0</td>\n",
              "      <td>0</td>\n",
              "      <td>0</td>\n",
              "      <td>0</td>\n",
              "      <td>0</td>\n",
              "      <td>0</td>\n",
              "      <td>1</td>\n",
              "      <td>0</td>\n",
              "      <td>0</td>\n",
              "      <td>0</td>\n",
              "      <td>0</td>\n",
              "      <td>0</td>\n",
              "      <td>0</td>\n",
              "      <td>0</td>\n",
              "      <td>0</td>\n",
              "      <td>0</td>\n",
              "      <td>0</td>\n",
              "      <td>0</td>\n",
              "      <td>0</td>\n",
              "      <td>0</td>\n",
              "      <td>0</td>\n",
              "      <td>0</td>\n",
              "      <td>0</td>\n",
              "      <td>0</td>\n",
              "      <td>0</td>\n",
              "    </tr>\n",
              "    <tr>\n",
              "      <th>1</th>\n",
              "      <td>0</td>\n",
              "      <td>1</td>\n",
              "      <td>1</td>\n",
              "      <td>0</td>\n",
              "      <td>1</td>\n",
              "      <td>1</td>\n",
              "      <td>0</td>\n",
              "      <td>0</td>\n",
              "      <td>0</td>\n",
              "      <td>0</td>\n",
              "      <td>0</td>\n",
              "      <td>0</td>\n",
              "      <td>0</td>\n",
              "      <td>0</td>\n",
              "      <td>1</td>\n",
              "      <td>0</td>\n",
              "      <td>0</td>\n",
              "      <td>0</td>\n",
              "      <td>0</td>\n",
              "      <td>0</td>\n",
              "      <td>0</td>\n",
              "      <td>0</td>\n",
              "      <td>0</td>\n",
              "      <td>0</td>\n",
              "      <td>0</td>\n",
              "      <td>0</td>\n",
              "      <td>0</td>\n",
              "      <td>0</td>\n",
              "      <td>0</td>\n",
              "      <td>0</td>\n",
              "      <td>0</td>\n",
              "      <td>0</td>\n",
              "      <td>0</td>\n",
              "    </tr>\n",
              "    <tr>\n",
              "      <th>2</th>\n",
              "      <td>0</td>\n",
              "      <td>1</td>\n",
              "      <td>1</td>\n",
              "      <td>1</td>\n",
              "      <td>1</td>\n",
              "      <td>1</td>\n",
              "      <td>0</td>\n",
              "      <td>0</td>\n",
              "      <td>0</td>\n",
              "      <td>0</td>\n",
              "      <td>0</td>\n",
              "      <td>0</td>\n",
              "      <td>0</td>\n",
              "      <td>0</td>\n",
              "      <td>0</td>\n",
              "      <td>0</td>\n",
              "      <td>0</td>\n",
              "      <td>0</td>\n",
              "      <td>0</td>\n",
              "      <td>0</td>\n",
              "      <td>0</td>\n",
              "      <td>0</td>\n",
              "      <td>0</td>\n",
              "      <td>0</td>\n",
              "      <td>0</td>\n",
              "      <td>0</td>\n",
              "      <td>0</td>\n",
              "      <td>0</td>\n",
              "      <td>0</td>\n",
              "      <td>0</td>\n",
              "      <td>0</td>\n",
              "      <td>0</td>\n",
              "      <td>0</td>\n",
              "    </tr>\n",
              "    <tr>\n",
              "      <th>3</th>\n",
              "      <td>0</td>\n",
              "      <td>1</td>\n",
              "      <td>1</td>\n",
              "      <td>0</td>\n",
              "      <td>1</td>\n",
              "      <td>0</td>\n",
              "      <td>0</td>\n",
              "      <td>0</td>\n",
              "      <td>0</td>\n",
              "      <td>0</td>\n",
              "      <td>0</td>\n",
              "      <td>0</td>\n",
              "      <td>0</td>\n",
              "      <td>0</td>\n",
              "      <td>1</td>\n",
              "      <td>0</td>\n",
              "      <td>0</td>\n",
              "      <td>0</td>\n",
              "      <td>0</td>\n",
              "      <td>0</td>\n",
              "      <td>0</td>\n",
              "      <td>0</td>\n",
              "      <td>0</td>\n",
              "      <td>0</td>\n",
              "      <td>0</td>\n",
              "      <td>0</td>\n",
              "      <td>0</td>\n",
              "      <td>0</td>\n",
              "      <td>0</td>\n",
              "      <td>0</td>\n",
              "      <td>0</td>\n",
              "      <td>0</td>\n",
              "      <td>0</td>\n",
              "    </tr>\n",
              "    <tr>\n",
              "      <th>4</th>\n",
              "      <td>0</td>\n",
              "      <td>1</td>\n",
              "      <td>1</td>\n",
              "      <td>0</td>\n",
              "      <td>1</td>\n",
              "      <td>0</td>\n",
              "      <td>0</td>\n",
              "      <td>0</td>\n",
              "      <td>0</td>\n",
              "      <td>0</td>\n",
              "      <td>0</td>\n",
              "      <td>1</td>\n",
              "      <td>1</td>\n",
              "      <td>0</td>\n",
              "      <td>0</td>\n",
              "      <td>0</td>\n",
              "      <td>0</td>\n",
              "      <td>0</td>\n",
              "      <td>0</td>\n",
              "      <td>1</td>\n",
              "      <td>0</td>\n",
              "      <td>0</td>\n",
              "      <td>0</td>\n",
              "      <td>0</td>\n",
              "      <td>0</td>\n",
              "      <td>0</td>\n",
              "      <td>0</td>\n",
              "      <td>0</td>\n",
              "      <td>0</td>\n",
              "      <td>0</td>\n",
              "      <td>0</td>\n",
              "      <td>0</td>\n",
              "      <td>0</td>\n",
              "    </tr>\n",
              "  </tbody>\n",
              "</table>\n",
              "</div>"
            ],
            "text/plain": [
              "   TARGET  FLAG_MOBIL  ...  FLAG_DOCUMENT_20  FLAG_DOCUMENT_21\n",
              "0       1           1  ...                 0                 0\n",
              "1       0           1  ...                 0                 0\n",
              "2       0           1  ...                 0                 0\n",
              "3       0           1  ...                 0                 0\n",
              "4       0           1  ...                 0                 0\n",
              "\n",
              "[5 rows x 33 columns]"
            ]
          },
          "metadata": {
            "tags": []
          },
          "execution_count": 233
        }
      ]
    },
    {
      "cell_type": "code",
      "metadata": {
        "colab": {
          "base_uri": "https://localhost:8080/",
          "height": 465
        },
        "id": "zpCMBf3NUPx6",
        "outputId": "035f2c54-569c-4b0b-b6c2-6f5f4f35350a"
      },
      "source": [
        "df_mean = bool_df[bool_df.columns].mean()\n",
        "df_mean.plot.bar()"
      ],
      "execution_count": 234,
      "outputs": [
        {
          "output_type": "execute_result",
          "data": {
            "text/plain": [
              "<matplotlib.axes._subplots.AxesSubplot at 0x7fc65a7f3790>"
            ]
          },
          "metadata": {
            "tags": []
          },
          "execution_count": 234
        },
        {
          "output_type": "display_data",
          "data": {
            "image/png": "[encoded data removed]",
            "text/plain": [
              "<Figure size 432x288 with 1 Axes>"
            ]
          },
          "metadata": {
            "tags": []
          }
        }
      ]
    },
    {
      "cell_type": "markdown",
      "metadata": {
        "id": "5QRL7Y6xU0r5"
      },
      "source": [
        "Most of the value in flag_document columns have values 0"
      ]
    },
    {
      "cell_type": "code",
      "metadata": {
        "colab": {
          "base_uri": "https://localhost:8080/"
        },
        "id": "sq73dPBoUnvP",
        "outputId": "03b493cb-8a77-49d2-9aa9-c5c0cdf8ba5f"
      },
      "source": [
        "not_bool_df = numeric_df[set(numeric_df.columns) - set(bool_cols)]\n",
        "not_bool_df.shape"
      ],
      "execution_count": 235,
      "outputs": [
        {
          "output_type": "execute_result",
          "data": {
            "text/plain": [
              "(307511, 35)"
            ]
          },
          "metadata": {
            "tags": []
          },
          "execution_count": 235
        }
      ]
    },
    {
      "cell_type": "code",
      "metadata": {
        "colab": {
          "base_uri": "https://localhost:8080/"
        },
        "id": "022rRTxCbDEB",
        "outputId": "d6b075a8-421c-4569-d5c1-a60c7e8ff6f6"
      },
      "source": [
        "not_bool_df['CNT_FAM_MEMBERS']"
      ],
      "execution_count": 236,
      "outputs": [
        {
          "output_type": "execute_result",
          "data": {
            "text/plain": [
              "0         1.0\n",
              "1         2.0\n",
              "2         1.0\n",
              "3         2.0\n",
              "4         1.0\n",
              "         ... \n",
              "307506    1.0\n",
              "307507    1.0\n",
              "307508    1.0\n",
              "307509    2.0\n",
              "307510    2.0\n",
              "Name: CNT_FAM_MEMBERS, Length: 307511, dtype: float64"
            ]
          },
          "metadata": {
            "tags": []
          },
          "execution_count": 236
        }
      ]
    },
    {
      "cell_type": "markdown",
      "metadata": {
        "id": "FC9phDLlVWcq"
      },
      "source": [
        "out of 68 numeric columns, 35 are not boolean"
      ]
    },
    {
      "cell_type": "code",
      "metadata": {
        "colab": {
          "base_uri": "https://localhost:8080/"
        },
        "id": "sUiMUMvtVQh9",
        "outputId": "2a208c0b-f3ce-4c03-b9b9-b9739dd40976"
      },
      "source": [
        "# checking null values \n",
        "not_bool_df.isnull().sum()"
      ],
      "execution_count": 237,
      "outputs": [
        {
          "output_type": "execute_result",
          "data": {
            "text/plain": [
              "REGION_RATING_CLIENT_W_CITY          0\n",
              "AMT_GOODS_PRICE                    278\n",
              "AMT_ANNUITY                         12\n",
              "EXT_SOURCE_3                     60965\n",
              "DEF_30_CNT_SOCIAL_CIRCLE          1021\n",
              "AMT_INCOME_TOTAL                     0\n",
              "DAYS_LAST_PHONE_CHANGE               1\n",
              "AMT_REQ_CREDIT_BUREAU_WEEK       41519\n",
              "REGION_POPULATION_RELATIVE           0\n",
              "OBS_30_CNT_SOCIAL_CIRCLE          1021\n",
              "AMT_REQ_CREDIT_BUREAU_YEAR       41519\n",
              "CNT_CHILDREN                         0\n",
              "AMT_CREDIT                           0\n",
              "YEARS_BEGINEXPLUATATION_MODE    150007\n",
              "HOUR_APPR_PROCESS_START              0\n",
              "EXT_SOURCE_2                       660\n",
              "AMT_REQ_CREDIT_BUREAU_DAY        41519\n",
              "REGION_RATING_CLIENT                 0\n",
              "AMT_REQ_CREDIT_BUREAU_QRT        41519\n",
              "FLOORSMAX_MODE                  153020\n",
              "SK_ID_CURR                           0\n",
              "FLOORSMAX_AVG                   153020\n",
              "TOTALAREA_MODE                  148431\n",
              "DEF_60_CNT_SOCIAL_CIRCLE          1021\n",
              "YEARS_BEGINEXPLUATATION_AVG     150007\n",
              "AMT_REQ_CREDIT_BUREAU_HOUR       41519\n",
              "DAYS_EMPLOYED                        0\n",
              "DAYS_BIRTH                           0\n",
              "DAYS_REGISTRATION                    0\n",
              "AMT_REQ_CREDIT_BUREAU_MON        41519\n",
              "YEARS_BEGINEXPLUATATION_MEDI    150007\n",
              "FLOORSMAX_MEDI                  153020\n",
              "OBS_60_CNT_SOCIAL_CIRCLE          1021\n",
              "CNT_FAM_MEMBERS                      2\n",
              "DAYS_ID_PUBLISH                      0\n",
              "dtype: int64"
            ]
          },
          "metadata": {
            "tags": []
          },
          "execution_count": 237
        }
      ]
    },
    {
      "cell_type": "code",
      "metadata": {
        "colab": {
          "base_uri": "https://localhost:8080/"
        },
        "id": "kXnKD1PCb2VW",
        "outputId": "72040b9e-6194-4f7d-8ae2-6d9fb12f3ebd"
      },
      "source": [
        "not_bool_df['CNT_FAM_MEMBERS'].value_counts().index[0]"
      ],
      "execution_count": 238,
      "outputs": [
        {
          "output_type": "execute_result",
          "data": {
            "text/plain": [
              "2.0"
            ]
          },
          "metadata": {
            "tags": []
          },
          "execution_count": 238
        }
      ]
    },
    {
      "cell_type": "code",
      "metadata": {
        "colab": {
          "base_uri": "https://localhost:8080/"
        },
        "id": "KUt-O7njVhcq",
        "outputId": "cd4bbcce-f01d-4caa-baae-3948586bea5d"
      },
      "source": [
        "#since there are only two null values in CNT_FAM_MEMBERS columns, filling nan values in this columns  with the most frequent value\n",
        "# not_bool_df['CNT_FAM_MEMBERS'].value_counts().index[0]\n",
        "\n",
        "not_bool_df['CNT_FAM_MEMBERS'].fillna(not_bool_df['CNT_FAM_MEMBERS'].value_counts().index[0],inplace=True)\n",
        "not_bool_df['CNT_FAM_MEMBERS'].isnull().sum()"
      ],
      "execution_count": 239,
      "outputs": [
        {
          "output_type": "execute_result",
          "data": {
            "text/plain": [
              "0"
            ]
          },
          "metadata": {
            "tags": []
          },
          "execution_count": 239
        }
      ]
    },
    {
      "cell_type": "code",
      "metadata": {
        "id": "rKh3z5MPa4iY"
      },
      "source": [
        ""
      ],
      "execution_count": 239,
      "outputs": []
    },
    {
      "cell_type": "markdown",
      "metadata": {
        "id": "70tzYHSBcwFB"
      },
      "source": [
        "**3.1 checking for OBS_60_CNT_SOCIAL_CIRCLE column**"
      ]
    },
    {
      "cell_type": "code",
      "metadata": {
        "colab": {
          "base_uri": "https://localhost:8080/"
        },
        "id": "LLW9a3MZc1HH",
        "outputId": "b28af159-881f-4c93-e8f6-423f2c16643b"
      },
      "source": [
        "not_bool_df['OBS_60_CNT_SOCIAL_CIRCLE'].isnull().sum()/not_bool_df.shape[0]"
      ],
      "execution_count": 240,
      "outputs": [
        {
          "output_type": "execute_result",
          "data": {
            "text/plain": [
              "0.0033202064316398437"
            ]
          },
          "metadata": {
            "tags": []
          },
          "execution_count": 240
        }
      ]
    },
    {
      "cell_type": "code",
      "metadata": {
        "colab": {
          "base_uri": "https://localhost:8080/"
        },
        "id": "GLFzfGO4c1KO",
        "outputId": "5882dbd9-ac98-4a8a-b96d-226635e6562f"
      },
      "source": [
        "# not_bool_df['OBS_60_CNT_SOCIAL_CIRCLE'].value_counts()\n",
        "class_ratio = not_bool_df.OBS_60_CNT_SOCIAL_CIRCLE.value_counts(normalize=True)\n",
        "class_ratio"
      ],
      "execution_count": 241,
      "outputs": [
        {
          "output_type": "execute_result",
          "data": {
            "text/plain": [
              "0.0      0.537264\n",
              "1.0      0.159451\n",
              "2.0      0.097119\n",
              "3.0      0.065956\n",
              "4.0      0.045502\n",
              "5.0      0.030875\n",
              "6.0      0.020715\n",
              "7.0      0.014173\n",
              "8.0      0.009416\n",
              "9.0      0.006392\n",
              "10.0     0.004356\n",
              "11.0     0.002731\n",
              "12.0     0.002023\n",
              "13.0     0.001308\n",
              "14.0     0.000777\n",
              "15.0     0.000542\n",
              "16.0     0.000447\n",
              "17.0     0.000238\n",
              "18.0     0.000160\n",
              "19.0     0.000144\n",
              "20.0     0.000098\n",
              "21.0     0.000091\n",
              "22.0     0.000065\n",
              "23.0     0.000042\n",
              "24.0     0.000039\n",
              "25.0     0.000036\n",
              "27.0     0.000016\n",
              "29.0     0.000007\n",
              "28.0     0.000003\n",
              "344.0    0.000003\n",
              "47.0     0.000003\n",
              "26.0     0.000003\n",
              "30.0     0.000003\n",
              "Name: OBS_60_CNT_SOCIAL_CIRCLE, dtype: float64"
            ]
          },
          "metadata": {
            "tags": []
          },
          "execution_count": 241
        }
      ]
    },
    {
      "cell_type": "markdown",
      "metadata": {
        "id": "fUvY5aa9d4c4"
      },
      "source": [
        "About 53% percent of the data has value 0 in OBS_60_CNT_SOCIAL_CIRCLE column. only 0.3% data is null so we will fill in null values with mode class"
      ]
    },
    {
      "cell_type": "code",
      "metadata": {
        "colab": {
          "base_uri": "https://localhost:8080/"
        },
        "id": "Mv2V-OgFc1Mn",
        "outputId": "19995588-d862-4888-f3fd-f059b3e18e30"
      },
      "source": [
        "# filling null values with mode value\n",
        "not_bool_df['OBS_60_CNT_SOCIAL_CIRCLE'].fillna(0.0,inplace=True)\n",
        "not_bool_df['OBS_60_CNT_SOCIAL_CIRCLE'].isnull().sum()"
      ],
      "execution_count": 242,
      "outputs": [
        {
          "output_type": "execute_result",
          "data": {
            "text/plain": [
              "0"
            ]
          },
          "metadata": {
            "tags": []
          },
          "execution_count": 242
        }
      ]
    },
    {
      "cell_type": "markdown",
      "metadata": {
        "id": "atit9nBQfAqW"
      },
      "source": [
        "**3.2 Handling AMT_REQ_CREDIT_BUREAU_WEEK column**"
      ]
    },
    {
      "cell_type": "code",
      "metadata": {
        "colab": {
          "base_uri": "https://localhost:8080/"
        },
        "id": "DhMaBK_Tc1Sd",
        "outputId": "33e8839d-b70d-4f11-c940-be318467f56c"
      },
      "source": [
        "not_bool_df['AMT_REQ_CREDIT_BUREAU_WEEK'].dropna().mean()"
      ],
      "execution_count": 243,
      "outputs": [
        {
          "output_type": "execute_result",
          "data": {
            "text/plain": [
              "0.0343619356973142"
            ]
          },
          "metadata": {
            "tags": []
          },
          "execution_count": 243
        }
      ]
    },
    {
      "cell_type": "code",
      "metadata": {
        "colab": {
          "base_uri": "https://localhost:8080/"
        },
        "id": "J-X1Zzxcc1Vu",
        "outputId": "989a08e7-e63a-44ac-9247-53626ba23089"
      },
      "source": [
        "not_bool_df['AMT_REQ_CREDIT_BUREAU_WEEK'].value_counts()/not_bool_df.shape[0]\n"
      ],
      "execution_count": 244,
      "outputs": [
        {
          "output_type": "execute_result",
          "data": {
            "text/plain": [
              "0.0    0.837225\n",
              "1.0    0.026692\n",
              "2.0    0.000647\n",
              "3.0    0.000189\n",
              "4.0    0.000111\n",
              "6.0    0.000065\n",
              "5.0    0.000033\n",
              "8.0    0.000016\n",
              "7.0    0.000007\n",
              "Name: AMT_REQ_CREDIT_BUREAU_WEEK, dtype: float64"
            ]
          },
          "metadata": {
            "tags": []
          },
          "execution_count": 244
        }
      ]
    },
    {
      "cell_type": "code",
      "metadata": {
        "colab": {
          "base_uri": "https://localhost:8080/"
        },
        "id": "nfvlaU4Mc1ZC",
        "outputId": "8a0ed706-ab98-4f49-c98a-567d9cc15e15"
      },
      "source": [
        "not_bool_df['AMT_REQ_CREDIT_BUREAU_WEEK'].isnull().sum()/not_bool_df.shape[0]"
      ],
      "execution_count": 245,
      "outputs": [
        {
          "output_type": "execute_result",
          "data": {
            "text/plain": [
              "0.13501630835970097"
            ]
          },
          "metadata": {
            "tags": []
          },
          "execution_count": 245
        }
      ]
    },
    {
      "cell_type": "markdown",
      "metadata": {
        "id": "9VTSnUGmgkS9"
      },
      "source": [
        "13% of the data in column AMT_REQ_CREDIT_BUREAU_WEEK are null. If we fill na with only one(mode class), it will change the original proportion of classes in the column. Therefore we fill null values such that class proportion remains same"
      ]
    },
    {
      "cell_type": "code",
      "metadata": {
        "id": "kbHg_7BYc10w"
      },
      "source": [
        "\n",
        "class_ratio_before = not_bool_df.AMT_REQ_CREDIT_BUREAU_WEEK.value_counts(normalize=True)\n",
        "class_ratio_before\n",
        "\n",
        "missing = not_bool_df['AMT_REQ_CREDIT_BUREAU_WEEK'].isnull()\n",
        "not_bool_df.loc[missing,'AMT_REQ_CREDIT_BUREAU_WEEK'] = np.random.choice(class_ratio_before.index, size=len(not_bool_df[missing]),p=class_ratio_before.values)\n"
      ],
      "execution_count": 246,
      "outputs": []
    },
    {
      "cell_type": "code",
      "metadata": {
        "colab": {
          "base_uri": "https://localhost:8080/"
        },
        "id": "42KHCv5rc136",
        "outputId": "36e1fae9-0689-47dd-e025-0780c7260b46"
      },
      "source": [
        "not_bool_df['AMT_REQ_CREDIT_BUREAU_WEEK'].isnull().sum()"
      ],
      "execution_count": 247,
      "outputs": [
        {
          "output_type": "execute_result",
          "data": {
            "text/plain": [
              "0"
            ]
          },
          "metadata": {
            "tags": []
          },
          "execution_count": 247
        }
      ]
    },
    {
      "cell_type": "markdown",
      "metadata": {
        "id": "xYKRpl1E6qHq"
      },
      "source": [
        "**3.3 HANDLING AMT_REQ_CREDIT_BUREAU_QRT COLUMN**"
      ]
    },
    {
      "cell_type": "code",
      "metadata": {
        "colab": {
          "base_uri": "https://localhost:8080/"
        },
        "id": "Bl70zZNk6u5V",
        "outputId": "e438f16d-7493-40b7-abc6-aa237723daae"
      },
      "source": [
        "not_bool_df['AMT_REQ_CREDIT_BUREAU_QRT'].isnull().sum()/not_bool_df.shape[0]"
      ],
      "execution_count": 248,
      "outputs": [
        {
          "output_type": "execute_result",
          "data": {
            "text/plain": [
              "0.13501630835970097"
            ]
          },
          "metadata": {
            "tags": []
          },
          "execution_count": 248
        }
      ]
    },
    {
      "cell_type": "code",
      "metadata": {
        "colab": {
          "base_uri": "https://localhost:8080/"
        },
        "id": "PdRC20yW7q5C",
        "outputId": "b801a343-a9ed-410c-c470-8cc6dcb2098d"
      },
      "source": [
        "not_bool_df['AMT_REQ_CREDIT_BUREAU_QRT'].value_counts()/not_bool_df.shape[0]"
      ],
      "execution_count": 249,
      "outputs": [
        {
          "output_type": "execute_result",
          "data": {
            "text/plain": [
              "0.0      0.700518\n",
              "1.0      0.110116\n",
              "2.0      0.046867\n",
              "3.0      0.005584\n",
              "4.0      0.001548\n",
              "5.0      0.000208\n",
              "6.0      0.000091\n",
              "7.0      0.000023\n",
              "8.0      0.000023\n",
              "19.0     0.000003\n",
              "261.0    0.000003\n",
              "Name: AMT_REQ_CREDIT_BUREAU_QRT, dtype: float64"
            ]
          },
          "metadata": {
            "tags": []
          },
          "execution_count": 249
        }
      ]
    },
    {
      "cell_type": "code",
      "metadata": {
        "colab": {
          "base_uri": "https://localhost:8080/",
          "height": 285
        },
        "id": "4lmkszuN6vE5",
        "outputId": "8c080951-8ced-433d-f2fa-da8e41491c0c"
      },
      "source": [
        "ax = sns.countplot(x = \"AMT_REQ_CREDIT_BUREAU_QRT\", hue=\"TARGET\", data = df)"
      ],
      "execution_count": 250,
      "outputs": [
        {
          "output_type": "display_data",
          "data": {
            "image/png": "[encoded data removed]",
            "text/plain": [
              "<Figure size 432x288 with 1 Axes>"
            ]
          },
          "metadata": {
            "tags": []
          }
        }
      ]
    },
    {
      "cell_type": "code",
      "metadata": {
        "id": "SxDC094F6vIT"
      },
      "source": [
        "#filling nan values such that class ratio remains same after imputation\n",
        "class_ratio_before = not_bool_df.AMT_REQ_CREDIT_BUREAU_QRT.value_counts(normalize=True)\n",
        "\n",
        "missing = not_bool_df['AMT_REQ_CREDIT_BUREAU_QRT'].isnull()\n",
        "not_bool_df.loc[missing,'AMT_REQ_CREDIT_BUREAU_QRT'] = np.random.choice(class_ratio_before.index, size=len(not_bool_df[missing]),p=class_ratio_before.values)\n"
      ],
      "execution_count": 251,
      "outputs": []
    },
    {
      "cell_type": "code",
      "metadata": {
        "colab": {
          "base_uri": "https://localhost:8080/"
        },
        "id": "xhLT0XlQ6vLW",
        "outputId": "abbe6ea7-e164-400d-ec0b-5427a6395188"
      },
      "source": [
        "not_bool_df['AMT_REQ_CREDIT_BUREAU_QRT'].isnull().sum()"
      ],
      "execution_count": 252,
      "outputs": [
        {
          "output_type": "execute_result",
          "data": {
            "text/plain": [
              "0"
            ]
          },
          "metadata": {
            "tags": []
          },
          "execution_count": 252
        }
      ]
    },
    {
      "cell_type": "code",
      "metadata": {
        "id": "XWl0gCxA6vOY"
      },
      "source": [
        "percent_missing = not_bool_df.isnull().sum() * 100 / len(df)\n",
        "missing_value_df = pd.DataFrame({'column_name': not_bool_df.columns,\n",
        "                                 'percent_missing': percent_missing})"
      ],
      "execution_count": 253,
      "outputs": []
    },
    {
      "cell_type": "code",
      "metadata": {
        "colab": {
          "base_uri": "https://localhost:8080/",
          "height": 1000
        },
        "id": "RZvjy2HD-biH",
        "outputId": "8568db3d-5559-48cc-d0e7-55cceed3217b"
      },
      "source": [
        "missing_value_df"
      ],
      "execution_count": 254,
      "outputs": [
        {
          "output_type": "execute_result",
          "data": {
            "text/html": [
              "<div>\n",
              "<style scoped>\n",
              "    .dataframe tbody tr th:only-of-type {\n",
              "        vertical-align: middle;\n",
              "    }\n",
              "\n",
              "    .dataframe tbody tr th {\n",
              "        vertical-align: top;\n",
              "    }\n",
              "\n",
              "    .dataframe thead th {\n",
              "        text-align: right;\n",
              "    }\n",
              "</style>\n",
              "<table border=\"1\" class=\"dataframe\">\n",
              "  <thead>\n",
              "    <tr style=\"text-align: right;\">\n",
              "      <th></th>\n",
              "      <th>column_name</th>\n",
              "      <th>percent_missing</th>\n",
              "    </tr>\n",
              "  </thead>\n",
              "  <tbody>\n",
              "    <tr>\n",
              "      <th>REGION_RATING_CLIENT_W_CITY</th>\n",
              "      <td>REGION_RATING_CLIENT_W_CITY</td>\n",
              "      <td>0.000000</td>\n",
              "    </tr>\n",
              "    <tr>\n",
              "      <th>AMT_GOODS_PRICE</th>\n",
              "      <td>AMT_GOODS_PRICE</td>\n",
              "      <td>0.090403</td>\n",
              "    </tr>\n",
              "    <tr>\n",
              "      <th>AMT_ANNUITY</th>\n",
              "      <td>AMT_ANNUITY</td>\n",
              "      <td>0.003902</td>\n",
              "    </tr>\n",
              "    <tr>\n",
              "      <th>EXT_SOURCE_3</th>\n",
              "      <td>EXT_SOURCE_3</td>\n",
              "      <td>19.825307</td>\n",
              "    </tr>\n",
              "    <tr>\n",
              "      <th>DEF_30_CNT_SOCIAL_CIRCLE</th>\n",
              "      <td>DEF_30_CNT_SOCIAL_CIRCLE</td>\n",
              "      <td>0.332021</td>\n",
              "    </tr>\n",
              "    <tr>\n",
              "      <th>AMT_INCOME_TOTAL</th>\n",
              "      <td>AMT_INCOME_TOTAL</td>\n",
              "      <td>0.000000</td>\n",
              "    </tr>\n",
              "    <tr>\n",
              "      <th>DAYS_LAST_PHONE_CHANGE</th>\n",
              "      <td>DAYS_LAST_PHONE_CHANGE</td>\n",
              "      <td>0.000325</td>\n",
              "    </tr>\n",
              "    <tr>\n",
              "      <th>AMT_REQ_CREDIT_BUREAU_WEEK</th>\n",
              "      <td>AMT_REQ_CREDIT_BUREAU_WEEK</td>\n",
              "      <td>0.000000</td>\n",
              "    </tr>\n",
              "    <tr>\n",
              "      <th>REGION_POPULATION_RELATIVE</th>\n",
              "      <td>REGION_POPULATION_RELATIVE</td>\n",
              "      <td>0.000000</td>\n",
              "    </tr>\n",
              "    <tr>\n",
              "      <th>OBS_30_CNT_SOCIAL_CIRCLE</th>\n",
              "      <td>OBS_30_CNT_SOCIAL_CIRCLE</td>\n",
              "      <td>0.332021</td>\n",
              "    </tr>\n",
              "    <tr>\n",
              "      <th>AMT_REQ_CREDIT_BUREAU_YEAR</th>\n",
              "      <td>AMT_REQ_CREDIT_BUREAU_YEAR</td>\n",
              "      <td>13.501631</td>\n",
              "    </tr>\n",
              "    <tr>\n",
              "      <th>CNT_CHILDREN</th>\n",
              "      <td>CNT_CHILDREN</td>\n",
              "      <td>0.000000</td>\n",
              "    </tr>\n",
              "    <tr>\n",
              "      <th>AMT_CREDIT</th>\n",
              "      <td>AMT_CREDIT</td>\n",
              "      <td>0.000000</td>\n",
              "    </tr>\n",
              "    <tr>\n",
              "      <th>YEARS_BEGINEXPLUATATION_MODE</th>\n",
              "      <td>YEARS_BEGINEXPLUATATION_MODE</td>\n",
              "      <td>48.781019</td>\n",
              "    </tr>\n",
              "    <tr>\n",
              "      <th>HOUR_APPR_PROCESS_START</th>\n",
              "      <td>HOUR_APPR_PROCESS_START</td>\n",
              "      <td>0.000000</td>\n",
              "    </tr>\n",
              "    <tr>\n",
              "      <th>EXT_SOURCE_2</th>\n",
              "      <td>EXT_SOURCE_2</td>\n",
              "      <td>0.214626</td>\n",
              "    </tr>\n",
              "    <tr>\n",
              "      <th>AMT_REQ_CREDIT_BUREAU_DAY</th>\n",
              "      <td>AMT_REQ_CREDIT_BUREAU_DAY</td>\n",
              "      <td>13.501631</td>\n",
              "    </tr>\n",
              "    <tr>\n",
              "      <th>REGION_RATING_CLIENT</th>\n",
              "      <td>REGION_RATING_CLIENT</td>\n",
              "      <td>0.000000</td>\n",
              "    </tr>\n",
              "    <tr>\n",
              "      <th>AMT_REQ_CREDIT_BUREAU_QRT</th>\n",
              "      <td>AMT_REQ_CREDIT_BUREAU_QRT</td>\n",
              "      <td>0.000000</td>\n",
              "    </tr>\n",
              "    <tr>\n",
              "      <th>FLOORSMAX_MODE</th>\n",
              "      <td>FLOORSMAX_MODE</td>\n",
              "      <td>49.760822</td>\n",
              "    </tr>\n",
              "    <tr>\n",
              "      <th>SK_ID_CURR</th>\n",
              "      <td>SK_ID_CURR</td>\n",
              "      <td>0.000000</td>\n",
              "    </tr>\n",
              "    <tr>\n",
              "      <th>FLOORSMAX_AVG</th>\n",
              "      <td>FLOORSMAX_AVG</td>\n",
              "      <td>49.760822</td>\n",
              "    </tr>\n",
              "    <tr>\n",
              "      <th>TOTALAREA_MODE</th>\n",
              "      <td>TOTALAREA_MODE</td>\n",
              "      <td>48.268517</td>\n",
              "    </tr>\n",
              "    <tr>\n",
              "      <th>DEF_60_CNT_SOCIAL_CIRCLE</th>\n",
              "      <td>DEF_60_CNT_SOCIAL_CIRCLE</td>\n",
              "      <td>0.332021</td>\n",
              "    </tr>\n",
              "    <tr>\n",
              "      <th>YEARS_BEGINEXPLUATATION_AVG</th>\n",
              "      <td>YEARS_BEGINEXPLUATATION_AVG</td>\n",
              "      <td>48.781019</td>\n",
              "    </tr>\n",
              "    <tr>\n",
              "      <th>AMT_REQ_CREDIT_BUREAU_HOUR</th>\n",
              "      <td>AMT_REQ_CREDIT_BUREAU_HOUR</td>\n",
              "      <td>13.501631</td>\n",
              "    </tr>\n",
              "    <tr>\n",
              "      <th>DAYS_EMPLOYED</th>\n",
              "      <td>DAYS_EMPLOYED</td>\n",
              "      <td>0.000000</td>\n",
              "    </tr>\n",
              "    <tr>\n",
              "      <th>DAYS_BIRTH</th>\n",
              "      <td>DAYS_BIRTH</td>\n",
              "      <td>0.000000</td>\n",
              "    </tr>\n",
              "    <tr>\n",
              "      <th>DAYS_REGISTRATION</th>\n",
              "      <td>DAYS_REGISTRATION</td>\n",
              "      <td>0.000000</td>\n",
              "    </tr>\n",
              "    <tr>\n",
              "      <th>AMT_REQ_CREDIT_BUREAU_MON</th>\n",
              "      <td>AMT_REQ_CREDIT_BUREAU_MON</td>\n",
              "      <td>13.501631</td>\n",
              "    </tr>\n",
              "    <tr>\n",
              "      <th>YEARS_BEGINEXPLUATATION_MEDI</th>\n",
              "      <td>YEARS_BEGINEXPLUATATION_MEDI</td>\n",
              "      <td>48.781019</td>\n",
              "    </tr>\n",
              "    <tr>\n",
              "      <th>FLOORSMAX_MEDI</th>\n",
              "      <td>FLOORSMAX_MEDI</td>\n",
              "      <td>49.760822</td>\n",
              "    </tr>\n",
              "    <tr>\n",
              "      <th>OBS_60_CNT_SOCIAL_CIRCLE</th>\n",
              "      <td>OBS_60_CNT_SOCIAL_CIRCLE</td>\n",
              "      <td>0.000000</td>\n",
              "    </tr>\n",
              "    <tr>\n",
              "      <th>CNT_FAM_MEMBERS</th>\n",
              "      <td>CNT_FAM_MEMBERS</td>\n",
              "      <td>0.000000</td>\n",
              "    </tr>\n",
              "    <tr>\n",
              "      <th>DAYS_ID_PUBLISH</th>\n",
              "      <td>DAYS_ID_PUBLISH</td>\n",
              "      <td>0.000000</td>\n",
              "    </tr>\n",
              "  </tbody>\n",
              "</table>\n",
              "</div>"
            ],
            "text/plain": [
              "                                               column_name  percent_missing\n",
              "REGION_RATING_CLIENT_W_CITY    REGION_RATING_CLIENT_W_CITY         0.000000\n",
              "AMT_GOODS_PRICE                            AMT_GOODS_PRICE         0.090403\n",
              "AMT_ANNUITY                                    AMT_ANNUITY         0.003902\n",
              "EXT_SOURCE_3                                  EXT_SOURCE_3        19.825307\n",
              "DEF_30_CNT_SOCIAL_CIRCLE          DEF_30_CNT_SOCIAL_CIRCLE         0.332021\n",
              "AMT_INCOME_TOTAL                          AMT_INCOME_TOTAL         0.000000\n",
              "DAYS_LAST_PHONE_CHANGE              DAYS_LAST_PHONE_CHANGE         0.000325\n",
              "AMT_REQ_CREDIT_BUREAU_WEEK      AMT_REQ_CREDIT_BUREAU_WEEK         0.000000\n",
              "REGION_POPULATION_RELATIVE      REGION_POPULATION_RELATIVE         0.000000\n",
              "OBS_30_CNT_SOCIAL_CIRCLE          OBS_30_CNT_SOCIAL_CIRCLE         0.332021\n",
              "AMT_REQ_CREDIT_BUREAU_YEAR      AMT_REQ_CREDIT_BUREAU_YEAR        13.501631\n",
              "CNT_CHILDREN                                  CNT_CHILDREN         0.000000\n",
              "AMT_CREDIT                                      AMT_CREDIT         0.000000\n",
              "YEARS_BEGINEXPLUATATION_MODE  YEARS_BEGINEXPLUATATION_MODE        48.781019\n",
              "HOUR_APPR_PROCESS_START            HOUR_APPR_PROCESS_START         0.000000\n",
              "EXT_SOURCE_2                                  EXT_SOURCE_2         0.214626\n",
              "AMT_REQ_CREDIT_BUREAU_DAY        AMT_REQ_CREDIT_BUREAU_DAY        13.501631\n",
              "REGION_RATING_CLIENT                  REGION_RATING_CLIENT         0.000000\n",
              "AMT_REQ_CREDIT_BUREAU_QRT        AMT_REQ_CREDIT_BUREAU_QRT         0.000000\n",
              "FLOORSMAX_MODE                              FLOORSMAX_MODE        49.760822\n",
              "SK_ID_CURR                                      SK_ID_CURR         0.000000\n",
              "FLOORSMAX_AVG                                FLOORSMAX_AVG        49.760822\n",
              "TOTALAREA_MODE                              TOTALAREA_MODE        48.268517\n",
              "DEF_60_CNT_SOCIAL_CIRCLE          DEF_60_CNT_SOCIAL_CIRCLE         0.332021\n",
              "YEARS_BEGINEXPLUATATION_AVG    YEARS_BEGINEXPLUATATION_AVG        48.781019\n",
              "AMT_REQ_CREDIT_BUREAU_HOUR      AMT_REQ_CREDIT_BUREAU_HOUR        13.501631\n",
              "DAYS_EMPLOYED                                DAYS_EMPLOYED         0.000000\n",
              "DAYS_BIRTH                                      DAYS_BIRTH         0.000000\n",
              "DAYS_REGISTRATION                        DAYS_REGISTRATION         0.000000\n",
              "AMT_REQ_CREDIT_BUREAU_MON        AMT_REQ_CREDIT_BUREAU_MON        13.501631\n",
              "YEARS_BEGINEXPLUATATION_MEDI  YEARS_BEGINEXPLUATATION_MEDI        48.781019\n",
              "FLOORSMAX_MEDI                              FLOORSMAX_MEDI        49.760822\n",
              "OBS_60_CNT_SOCIAL_CIRCLE          OBS_60_CNT_SOCIAL_CIRCLE         0.000000\n",
              "CNT_FAM_MEMBERS                            CNT_FAM_MEMBERS         0.000000\n",
              "DAYS_ID_PUBLISH                            DAYS_ID_PUBLISH         0.000000"
            ]
          },
          "metadata": {
            "tags": []
          },
          "execution_count": 254
        }
      ]
    },
    {
      "cell_type": "code",
      "metadata": {
        "id": "Wz9vEIbw-R6R"
      },
      "source": [
        "#dropping columns that have more than 50% of missing value\n",
        "missing_cols=[]\n",
        "for index, row in missing_value_df.iterrows():\n",
        "    if row['percent_missing'] > 40:\n",
        "        missing_cols.append(index)\n",
        "df.drop(missing_cols, axis=1, inplace=True)"
      ],
      "execution_count": 255,
      "outputs": []
    },
    {
      "cell_type": "code",
      "metadata": {
        "colab": {
          "base_uri": "https://localhost:8080/"
        },
        "id": "dINZ3SSA-R-P",
        "outputId": "143e2345-3260-4e92-cbf4-881d67b1073a"
      },
      "source": [
        "not_bool_df.shape"
      ],
      "execution_count": 256,
      "outputs": [
        {
          "output_type": "execute_result",
          "data": {
            "text/plain": [
              "(307511, 35)"
            ]
          },
          "metadata": {
            "tags": []
          },
          "execution_count": 256
        }
      ]
    },
    {
      "cell_type": "code",
      "metadata": {
        "id": "XjN4dAMF-z8j"
      },
      "source": [
        "not_bool_df.drop(missing_cols, axis=1, inplace=True)"
      ],
      "execution_count": 257,
      "outputs": []
    },
    {
      "cell_type": "code",
      "metadata": {
        "colab": {
          "base_uri": "https://localhost:8080/"
        },
        "id": "TfCe82-X-3T3",
        "outputId": "e897b26e-6d0c-4f79-bb99-a2a0421a9715"
      },
      "source": [
        "not_bool_df.shape"
      ],
      "execution_count": 258,
      "outputs": [
        {
          "output_type": "execute_result",
          "data": {
            "text/plain": [
              "(307511, 28)"
            ]
          },
          "metadata": {
            "tags": []
          },
          "execution_count": 258
        }
      ]
    },
    {
      "cell_type": "markdown",
      "metadata": {
        "id": "oa08_TtY9ePt"
      },
      "source": [
        "**3.4 CHECKING CORRELATION BETWEEN AMT_REQ_CREDIT_BUREU columns**\n"
      ]
    },
    {
      "cell_type": "code",
      "metadata": {
        "colab": {
          "base_uri": "https://localhost:8080/"
        },
        "id": "hx56qwcw6vRB",
        "outputId": "6cfe0771-cee2-4340-85db-5fabf136a86e"
      },
      "source": [
        "# checking null values after dropping columns with null values more than 40% \n",
        "not_bool_df.isnull().sum()"
      ],
      "execution_count": 259,
      "outputs": [
        {
          "output_type": "execute_result",
          "data": {
            "text/plain": [
              "REGION_RATING_CLIENT_W_CITY        0\n",
              "AMT_GOODS_PRICE                  278\n",
              "AMT_ANNUITY                       12\n",
              "EXT_SOURCE_3                   60965\n",
              "DEF_30_CNT_SOCIAL_CIRCLE        1021\n",
              "AMT_INCOME_TOTAL                   0\n",
              "DAYS_LAST_PHONE_CHANGE             1\n",
              "AMT_REQ_CREDIT_BUREAU_WEEK         0\n",
              "REGION_POPULATION_RELATIVE         0\n",
              "OBS_30_CNT_SOCIAL_CIRCLE        1021\n",
              "AMT_REQ_CREDIT_BUREAU_YEAR     41519\n",
              "CNT_CHILDREN                       0\n",
              "AMT_CREDIT                         0\n",
              "HOUR_APPR_PROCESS_START            0\n",
              "EXT_SOURCE_2                     660\n",
              "AMT_REQ_CREDIT_BUREAU_DAY      41519\n",
              "REGION_RATING_CLIENT               0\n",
              "AMT_REQ_CREDIT_BUREAU_QRT          0\n",
              "SK_ID_CURR                         0\n",
              "DEF_60_CNT_SOCIAL_CIRCLE        1021\n",
              "AMT_REQ_CREDIT_BUREAU_HOUR     41519\n",
              "DAYS_EMPLOYED                      0\n",
              "DAYS_BIRTH                         0\n",
              "DAYS_REGISTRATION                  0\n",
              "AMT_REQ_CREDIT_BUREAU_MON      41519\n",
              "OBS_60_CNT_SOCIAL_CIRCLE           0\n",
              "CNT_FAM_MEMBERS                    0\n",
              "DAYS_ID_PUBLISH                    0\n",
              "dtype: int64"
            ]
          },
          "metadata": {
            "tags": []
          },
          "execution_count": 259
        }
      ]
    },
    {
      "cell_type": "code",
      "metadata": {
        "id": "CNM95SLu6vT8"
      },
      "source": [
        "bureu_cols = ['AMT_REQ_CREDIT_BUREAU_YEAR','AMT_REQ_CREDIT_BUREAU_MON','AMT_REQ_CREDIT_BUREAU_DAY',\n",
        "              'AMT_REQ_CREDIT_BUREAU_HOUR','AMT_REQ_CREDIT_BUREAU_QRT','TARGET']\n",
        "\n",
        "bureu_df = df[bureu_cols].copy()"
      ],
      "execution_count": 260,
      "outputs": []
    },
    {
      "cell_type": "code",
      "metadata": {
        "colab": {
          "base_uri": "https://localhost:8080/",
          "height": 224
        },
        "id": "kpW5jFzH6vWl",
        "outputId": "4df04330-7a71-4c31-e1fe-b35e1144e733"
      },
      "source": [
        "bureu_df.head()"
      ],
      "execution_count": 261,
      "outputs": [
        {
          "output_type": "execute_result",
          "data": {
            "text/html": [
              "<div>\n",
              "<style scoped>\n",
              "    .dataframe tbody tr th:only-of-type {\n",
              "        vertical-align: middle;\n",
              "    }\n",
              "\n",
              "    .dataframe tbody tr th {\n",
              "        vertical-align: top;\n",
              "    }\n",
              "\n",
              "    .dataframe thead th {\n",
              "        text-align: right;\n",
              "    }\n",
              "</style>\n",
              "<table border=\"1\" class=\"dataframe\">\n",
              "  <thead>\n",
              "    <tr style=\"text-align: right;\">\n",
              "      <th></th>\n",
              "      <th>AMT_REQ_CREDIT_BUREAU_YEAR</th>\n",
              "      <th>AMT_REQ_CREDIT_BUREAU_MON</th>\n",
              "      <th>AMT_REQ_CREDIT_BUREAU_DAY</th>\n",
              "      <th>AMT_REQ_CREDIT_BUREAU_HOUR</th>\n",
              "      <th>AMT_REQ_CREDIT_BUREAU_QRT</th>\n",
              "      <th>TARGET</th>\n",
              "    </tr>\n",
              "  </thead>\n",
              "  <tbody>\n",
              "    <tr>\n",
              "      <th>0</th>\n",
              "      <td>1.0</td>\n",
              "      <td>0.0</td>\n",
              "      <td>0.0</td>\n",
              "      <td>0.0</td>\n",
              "      <td>0.0</td>\n",
              "      <td>1</td>\n",
              "    </tr>\n",
              "    <tr>\n",
              "      <th>1</th>\n",
              "      <td>0.0</td>\n",
              "      <td>0.0</td>\n",
              "      <td>0.0</td>\n",
              "      <td>0.0</td>\n",
              "      <td>0.0</td>\n",
              "      <td>0</td>\n",
              "    </tr>\n",
              "    <tr>\n",
              "      <th>2</th>\n",
              "      <td>0.0</td>\n",
              "      <td>0.0</td>\n",
              "      <td>0.0</td>\n",
              "      <td>0.0</td>\n",
              "      <td>0.0</td>\n",
              "      <td>0</td>\n",
              "    </tr>\n",
              "    <tr>\n",
              "      <th>3</th>\n",
              "      <td>NaN</td>\n",
              "      <td>NaN</td>\n",
              "      <td>NaN</td>\n",
              "      <td>NaN</td>\n",
              "      <td>NaN</td>\n",
              "      <td>0</td>\n",
              "    </tr>\n",
              "    <tr>\n",
              "      <th>4</th>\n",
              "      <td>0.0</td>\n",
              "      <td>0.0</td>\n",
              "      <td>0.0</td>\n",
              "      <td>0.0</td>\n",
              "      <td>0.0</td>\n",
              "      <td>0</td>\n",
              "    </tr>\n",
              "  </tbody>\n",
              "</table>\n",
              "</div>"
            ],
            "text/plain": [
              "   AMT_REQ_CREDIT_BUREAU_YEAR  ...  TARGET\n",
              "0                         1.0  ...       1\n",
              "1                         0.0  ...       0\n",
              "2                         0.0  ...       0\n",
              "3                         NaN  ...       0\n",
              "4                         0.0  ...       0\n",
              "\n",
              "[5 rows x 6 columns]"
            ]
          },
          "metadata": {
            "tags": []
          },
          "execution_count": 261
        }
      ]
    },
    {
      "cell_type": "code",
      "metadata": {
        "colab": {
          "base_uri": "https://localhost:8080/",
          "height": 467
        },
        "id": "EbzQGy836vl_",
        "outputId": "87e36245-ec92-4e3b-a1c5-01110703cca1"
      },
      "source": [
        "# calculate the correlation matrix\n",
        "corr = bureu_df.corr()\n",
        "\n",
        "# plot the heatmap\n",
        "sns.heatmap(corr, \n",
        "        xticklabels=corr.columns,\n",
        "        yticklabels=corr.columns)"
      ],
      "execution_count": 262,
      "outputs": [
        {
          "output_type": "execute_result",
          "data": {
            "text/plain": [
              "<matplotlib.axes._subplots.AxesSubplot at 0x7fc67b8f54d0>"
            ]
          },
          "metadata": {
            "tags": []
          },
          "execution_count": 262
        },
        {
          "output_type": "display_data",
          "data": {
            "image/png": "[encoded data removed]",
            "text/plain": [
              "<Figure size 432x288 with 2 Axes>"
            ]
          },
          "metadata": {
            "tags": []
          }
        }
      ]
    },
    {
      "cell_type": "markdown",
      "metadata": {
        "id": "bxrYuRIuNmCE"
      },
      "source": [
        "Only AMT_REQ_CREDIT_BUREU_YEAR is correlated with target variable. So we need to drop other columns."
      ]
    },
    {
      "cell_type": "code",
      "metadata": {
        "colab": {
          "base_uri": "https://localhost:8080/"
        },
        "id": "PfsTz_66OUb6",
        "outputId": "d1bcc103-9867-4317-ea50-e4acb43a6c58"
      },
      "source": [
        "not_bool_df.shape"
      ],
      "execution_count": 263,
      "outputs": [
        {
          "output_type": "execute_result",
          "data": {
            "text/plain": [
              "(307511, 28)"
            ]
          },
          "metadata": {
            "tags": []
          },
          "execution_count": 263
        }
      ]
    },
    {
      "cell_type": "code",
      "metadata": {
        "colab": {
          "base_uri": "https://localhost:8080/"
        },
        "id": "rt4LkNOpOWhN",
        "outputId": "ef5a5476-7676-4dd3-d25f-a5bb66ea4cf2"
      },
      "source": [
        "df.shape"
      ],
      "execution_count": 264,
      "outputs": [
        {
          "output_type": "execute_result",
          "data": {
            "text/plain": [
              "(307511, 74)"
            ]
          },
          "metadata": {
            "tags": []
          },
          "execution_count": 264
        }
      ]
    },
    {
      "cell_type": "code",
      "metadata": {
        "colab": {
          "base_uri": "https://localhost:8080/"
        },
        "id": "UhrokKol6vo1",
        "outputId": "3f39312c-c015-45cd-ab14-dd95184e7cd4"
      },
      "source": [
        "#droping other columns\n",
        "drop_col_list = ['AMT_REQ_CREDIT_BUREAU_MON','AMT_REQ_CREDIT_BUREAU_DAY',\n",
        "              'AMT_REQ_CREDIT_BUREAU_HOUR','AMT_REQ_CREDIT_BUREAU_QRT']\n",
        "\n",
        "df.drop(drop_col_list, axis=1,inplace=True)\n",
        "not_bool_df.drop(drop_col_list,axis=1, inplace=True)\n",
        "\n",
        "print(not_bool_df.shape)\n",
        "print(df.shape)\n"
      ],
      "execution_count": 265,
      "outputs": [
        {
          "output_type": "stream",
          "text": [
            "(307511, 24)\n",
            "(307511, 70)\n"
          ],
          "name": "stdout"
        }
      ]
    },
    {
      "cell_type": "code",
      "metadata": {
        "id": "AtA7f38so9za"
      },
      "source": [
        "not_bool_df['TARGET']=df['TARGET']"
      ],
      "execution_count": 267,
      "outputs": []
    },
    {
      "cell_type": "code",
      "metadata": {
        "colab": {
          "base_uri": "https://localhost:8080/",
          "height": 289
        },
        "id": "okGQxdLRvq1P",
        "outputId": "eb686c13-d5b2-4f6a-905c-aac77d988281"
      },
      "source": [
        "ax = sns.histplot(x = \"AMT_REQ_CREDIT_BUREAU_YEAR\", hue=\"TARGET\", data = not_bool_df)"
      ],
      "execution_count": 268,
      "outputs": [
        {
          "output_type": "display_data",
          "data": {
            "image/png": "[encoded data removed]",
            "text/plain": [
              "<Figure size 432x288 with 1 Axes>"
            ]
          },
          "metadata": {
            "tags": []
          }
        }
      ]
    },
    {
      "cell_type": "code",
      "metadata": {
        "id": "NV5Mfuirvq4t"
      },
      "source": [
        "# fillinng in null values so that class ratio remains same \n",
        "s = not_bool_df.AMT_REQ_CREDIT_BUREAU_YEAR.value_counts(normalize=True)\n",
        "missing = not_bool_df['AMT_REQ_CREDIT_BUREAU_YEAR'].isnull()\n",
        "not_bool_df.loc[missing,'AMT_REQ_CREDIT_BUREAU_YEAR'] = np.random.choice(s.index, size=len(not_bool_df[missing]),p=s.values)"
      ],
      "execution_count": 269,
      "outputs": []
    },
    {
      "cell_type": "code",
      "metadata": {
        "colab": {
          "base_uri": "https://localhost:8080/",
          "height": 287
        },
        "id": "Xjde-NC3vq8M",
        "outputId": "49daaed6-9baa-4f90-874d-03cfda8c401e"
      },
      "source": [
        "ax = sns.histplot(x = \"AMT_REQ_CREDIT_BUREAU_YEAR\", hue=\"TARGET\", data = not_bool_df)"
      ],
      "execution_count": 270,
      "outputs": [
        {
          "output_type": "display_data",
          "data": {
            "image/png": "[encoded data removed]",
            "text/plain": [
              "<Figure size 432x288 with 1 Axes>"
            ]
          },
          "metadata": {
            "tags": []
          }
        }
      ]
    },
    {
      "cell_type": "code",
      "metadata": {
        "colab": {
          "base_uri": "https://localhost:8080/"
        },
        "id": "KG-LxzqU6vsK",
        "outputId": "cccb66e1-9a76-4e54-8a7e-a8f24bc0a482"
      },
      "source": [
        "# checking null values after dropping columns with null values more than 40% \n",
        "not_bool_df.isnull().sum()"
      ],
      "execution_count": 271,
      "outputs": [
        {
          "output_type": "execute_result",
          "data": {
            "text/plain": [
              "REGION_RATING_CLIENT_W_CITY        0\n",
              "AMT_GOODS_PRICE                  278\n",
              "AMT_ANNUITY                       12\n",
              "EXT_SOURCE_3                   60965\n",
              "DEF_30_CNT_SOCIAL_CIRCLE        1021\n",
              "AMT_INCOME_TOTAL                   0\n",
              "DAYS_LAST_PHONE_CHANGE             1\n",
              "AMT_REQ_CREDIT_BUREAU_WEEK         0\n",
              "REGION_POPULATION_RELATIVE         0\n",
              "OBS_30_CNT_SOCIAL_CIRCLE        1021\n",
              "AMT_REQ_CREDIT_BUREAU_YEAR         0\n",
              "CNT_CHILDREN                       0\n",
              "AMT_CREDIT                         0\n",
              "HOUR_APPR_PROCESS_START            0\n",
              "EXT_SOURCE_2                     660\n",
              "REGION_RATING_CLIENT               0\n",
              "SK_ID_CURR                         0\n",
              "DEF_60_CNT_SOCIAL_CIRCLE        1021\n",
              "DAYS_EMPLOYED                      0\n",
              "DAYS_BIRTH                         0\n",
              "DAYS_REGISTRATION                  0\n",
              "OBS_60_CNT_SOCIAL_CIRCLE           0\n",
              "CNT_FAM_MEMBERS                    0\n",
              "DAYS_ID_PUBLISH                    0\n",
              "TARGET                             0\n",
              "dtype: int64"
            ]
          },
          "metadata": {
            "tags": []
          },
          "execution_count": 271
        }
      ]
    },
    {
      "cell_type": "markdown",
      "metadata": {
        "id": "fP6T-fPpPVT4"
      },
      "source": [
        "**3.5 CHECKING FOR DEF_CNT_SOCIAL_CIRCLE**"
      ]
    },
    {
      "cell_type": "code",
      "metadata": {
        "colab": {
          "base_uri": "https://localhost:8080/",
          "height": 285
        },
        "id": "uadmsvRh6vu0",
        "outputId": "db7038e3-eca7-4d3e-dd44-7dee877f3ef0"
      },
      "source": [
        "ax1 = not_bool_df.plot.scatter(x='DEF_60_CNT_SOCIAL_CIRCLE',\n",
        "                      y='DEF_30_CNT_SOCIAL_CIRCLE',\n",
        "                     c='DarkBlue')"
      ],
      "execution_count": 272,
      "outputs": [
        {
          "output_type": "display_data",
          "data": {
            "image/png": "[encoded data removed]",
            "text/plain": [
              "<Figure size 432x288 with 1 Axes>"
            ]
          },
          "metadata": {
            "tags": []
          }
        }
      ]
    },
    {
      "cell_type": "code",
      "metadata": {
        "colab": {
          "base_uri": "https://localhost:8080/"
        },
        "id": "N6EhkxN-6vxg",
        "outputId": "ccffc9b2-8856-4256-aae0-277d25c41920"
      },
      "source": [
        "correlation = not_bool_df['DEF_60_CNT_SOCIAL_CIRCLE']. corr(not_bool_df['DEF_30_CNT_SOCIAL_CIRCLE']) \n",
        "correlation"
      ],
      "execution_count": 273,
      "outputs": [
        {
          "output_type": "execute_result",
          "data": {
            "text/plain": [
              "0.8605173800835166"
            ]
          },
          "metadata": {
            "tags": []
          },
          "execution_count": 273
        }
      ]
    },
    {
      "cell_type": "markdown",
      "metadata": {
        "id": "GUTx5jFIQeMA"
      },
      "source": [
        "DEF_60_CNT_SOCIAL_CIRCLE and DEF_60_CNT_SOCIAL_CIRCLE columns are highly coorelated. So we drop one among them that , probabily one that has highest no of null values"
      ]
    },
    {
      "cell_type": "code",
      "metadata": {
        "colab": {
          "base_uri": "https://localhost:8080/"
        },
        "id": "ElhtmP5d6v0y",
        "outputId": "7bb52761-a7c4-4b45-a5f5-d28ee87c2202"
      },
      "source": [
        "print(not_bool_df['DEF_60_CNT_SOCIAL_CIRCLE'].isnull().sum())\n",
        "print(not_bool_df['DEF_30_CNT_SOCIAL_CIRCLE'].isnull().sum())"
      ],
      "execution_count": 274,
      "outputs": [
        {
          "output_type": "stream",
          "text": [
            "1021\n",
            "1021\n"
          ],
          "name": "stdout"
        }
      ]
    },
    {
      "cell_type": "code",
      "metadata": {
        "id": "9OTA1pbbQ8Ie"
      },
      "source": [
        "not_bool_df['TARGET']= df['TARGET']"
      ],
      "execution_count": 275,
      "outputs": []
    },
    {
      "cell_type": "code",
      "metadata": {
        "colab": {
          "base_uri": "https://localhost:8080/"
        },
        "id": "M-DnMHXR6v7s",
        "outputId": "f62218c7-5ff0-4db2-852b-1675d2a6a049"
      },
      "source": [
        "correlation_60 = not_bool_df['DEF_60_CNT_SOCIAL_CIRCLE']. corr(not_bool_df['TARGET']) \n",
        "correlation_30 = not_bool_df['DEF_30_CNT_SOCIAL_CIRCLE']. corr(not_bool_df['TARGET']) \n",
        "print(correlation_60)\n",
        "print(correlation_30)"
      ],
      "execution_count": 276,
      "outputs": [
        {
          "output_type": "stream",
          "text": [
            "0.03127647212643636\n",
            "0.03224757925304431\n"
          ],
          "name": "stdout"
        }
      ]
    },
    {
      "cell_type": "markdown",
      "metadata": {
        "id": "4NkuISAHRSby"
      },
      "source": [
        "column DEF_30_CNT_SOCIAL_CIRCLE have slighlty higher correlation with target than other so we drop other column"
      ]
    },
    {
      "cell_type": "code",
      "metadata": {
        "id": "RR_kDS3J6v9q"
      },
      "source": [
        "df.drop(['DEF_60_CNT_SOCIAL_CIRCLE'], axis=1,inplace=True)\n",
        "not_bool_df.drop(['DEF_60_CNT_SOCIAL_CIRCLE'],axis=1, inplace=True)"
      ],
      "execution_count": 277,
      "outputs": []
    },
    {
      "cell_type": "code",
      "metadata": {
        "colab": {
          "base_uri": "https://localhost:8080/"
        },
        "id": "BZ26tAwz6wAT",
        "outputId": "28711759-5851-42ed-cfa5-02f6413d9eec"
      },
      "source": [
        "print(df.shape)\n",
        "print(not_bool_df.shape)"
      ],
      "execution_count": 278,
      "outputs": [
        {
          "output_type": "stream",
          "text": [
            "(307511, 69)\n",
            "(307511, 24)\n"
          ],
          "name": "stdout"
        }
      ]
    },
    {
      "cell_type": "code",
      "metadata": {
        "colab": {
          "base_uri": "https://localhost:8080/",
          "height": 285
        },
        "id": "NcZPbmxO6wEF",
        "outputId": "b7af7fd6-a66d-43ea-e6be-8c10270238e6"
      },
      "source": [
        "ax = sns.countplot(x = \"DEF_30_CNT_SOCIAL_CIRCLE\", hue=\"TARGET\", data = not_bool_df)"
      ],
      "execution_count": 279,
      "outputs": [
        {
          "output_type": "display_data",
          "data": {
            "image/png": "[encoded data removed]",
            "text/plain": [
              "<Figure size 432x288 with 1 Axes>"
            ]
          },
          "metadata": {
            "tags": []
          }
        }
      ]
    },
    {
      "cell_type": "code",
      "metadata": {
        "colab": {
          "base_uri": "https://localhost:8080/"
        },
        "id": "bwapDutrSvV1",
        "outputId": "f486444f-3585-4be4-c6b6-e6f1f58fd083"
      },
      "source": [
        "not_bool_df['DEF_30_CNT_SOCIAL_CIRCLE'].value_counts()/not_bool_df.shape[0]"
      ],
      "execution_count": 280,
      "outputs": [
        {
          "output_type": "execute_result",
          "data": {
            "text/plain": [
              "0.0     0.882323\n",
              "1.0     0.092120\n",
              "2.0     0.017310\n",
              "3.0     0.003876\n",
              "4.0     0.000823\n",
              "5.0     0.000182\n",
              "6.0     0.000036\n",
              "7.0     0.000003\n",
              "8.0     0.000003\n",
              "34.0    0.000003\n",
              "Name: DEF_30_CNT_SOCIAL_CIRCLE, dtype: float64"
            ]
          },
          "metadata": {
            "tags": []
          },
          "execution_count": 280
        }
      ]
    },
    {
      "cell_type": "code",
      "metadata": {
        "colab": {
          "base_uri": "https://localhost:8080/"
        },
        "id": "3WNMSXa-6wH8",
        "outputId": "2bd5d2ad-90d9-4a70-8c17-618eb1c081ba"
      },
      "source": [
        "#filling nan values with 0 as it is the mode class and only 3% data is null in the column\n",
        "not_bool_df['DEF_30_CNT_SOCIAL_CIRCLE'].fillna(0.0, inplace=True)\n",
        "not_bool_df['DEF_30_CNT_SOCIAL_CIRCLE'].isnull().sum()"
      ],
      "execution_count": 281,
      "outputs": [
        {
          "output_type": "execute_result",
          "data": {
            "text/plain": [
              "0"
            ]
          },
          "metadata": {
            "tags": []
          },
          "execution_count": 281
        }
      ]
    },
    {
      "cell_type": "markdown",
      "metadata": {
        "id": "hWD8Wz4rTddM"
      },
      "source": [
        "**3.6 CHECKING FOR OBS_CNT_SOCIAL_CIRCLE**"
      ]
    },
    {
      "cell_type": "code",
      "metadata": {
        "colab": {
          "base_uri": "https://localhost:8080/",
          "height": 285
        },
        "id": "I2jtpFd3To5l",
        "outputId": "9613c701-c4fd-40b4-bad0-8106c5abde52"
      },
      "source": [
        "ax1 = not_bool_df.plot.scatter(x='OBS_60_CNT_SOCIAL_CIRCLE',\n",
        "                      y='OBS_30_CNT_SOCIAL_CIRCLE',\n",
        "                     c='DarkBlue')"
      ],
      "execution_count": 282,
      "outputs": [
        {
          "output_type": "display_data",
          "data": {
            "image/png": "[encoded data removed]",
            "text/plain": [
              "<Figure size 432x288 with 1 Axes>"
            ]
          },
          "metadata": {
            "tags": []
          }
        }
      ]
    },
    {
      "cell_type": "code",
      "metadata": {
        "colab": {
          "base_uri": "https://localhost:8080/"
        },
        "id": "ZV4jcHQHTo8z",
        "outputId": "d8a9f771-f301-4c0a-8647-9fe73df84b98"
      },
      "source": [
        "correlation = not_bool_df['OBS_60_CNT_SOCIAL_CIRCLE']. corr(not_bool_df['OBS_30_CNT_SOCIAL_CIRCLE']) \n",
        "print(correlation)"
      ],
      "execution_count": 283,
      "outputs": [
        {
          "output_type": "stream",
          "text": [
            "0.9984895425109942\n"
          ],
          "name": "stdout"
        }
      ]
    },
    {
      "cell_type": "code",
      "metadata": {
        "colab": {
          "base_uri": "https://localhost:8080/"
        },
        "id": "yy4GDaBwTpAG",
        "outputId": "0586e042-168b-4ce9-e360-d680e7b8265d"
      },
      "source": [
        "correlation_60 = not_bool_df['OBS_60_CNT_SOCIAL_CIRCLE']. corr(not_bool_df['TARGET']) \n",
        "correlation_30 = not_bool_df['OBS_30_CNT_SOCIAL_CIRCLE']. corr(not_bool_df['TARGET']) \n",
        "print(correlation_60)\n",
        "print(correlation_30)\n"
      ],
      "execution_count": 284,
      "outputs": [
        {
          "output_type": "stream",
          "text": [
            "0.009337242924070914\n",
            "0.00913066570277639\n"
          ],
          "name": "stdout"
        }
      ]
    },
    {
      "cell_type": "markdown",
      "metadata": {
        "id": "KNR17b1_UuWy"
      },
      "source": [
        "Since OBS_60_CNT_SOCIAL_CIRCLE and OBS_30_CNT_SOCIAL_CIRCLE columns are highly correlated with each other and column OBS_60_CNT_SOCIAL_CIRCLE has the highest correlation with target among them so we drop OBS_30_CNT_SOCIAL_CIRCLE column"
      ]
    },
    {
      "cell_type": "code",
      "metadata": {
        "colab": {
          "base_uri": "https://localhost:8080/"
        },
        "id": "N1_9bDjJVM1j",
        "outputId": "dad3a18e-840b-4f87-e823-809542ca7db7"
      },
      "source": [
        "not_bool_df['OBS_60_CNT_SOCIAL_CIRCLE'].isnull().sum()"
      ],
      "execution_count": 285,
      "outputs": [
        {
          "output_type": "execute_result",
          "data": {
            "text/plain": [
              "0"
            ]
          },
          "metadata": {
            "tags": []
          },
          "execution_count": 285
        }
      ]
    },
    {
      "cell_type": "code",
      "metadata": {
        "id": "axXqc6hiTpDQ"
      },
      "source": [
        "# dropping OBS_60_CNT_SOCIAL_CIRCLE columns \n",
        "df.drop(['OBS_30_CNT_SOCIAL_CIRCLE'], axis=1,inplace=True)\n",
        "not_bool_df.drop(['OBS_30_CNT_SOCIAL_CIRCLE'],axis=1, inplace=True)\n"
      ],
      "execution_count": 286,
      "outputs": []
    },
    {
      "cell_type": "code",
      "metadata": {
        "colab": {
          "base_uri": "https://localhost:8080/"
        },
        "id": "Fkq7Kge1TpF1",
        "outputId": "6eb5da5a-d13e-40a4-a1ce-b674b976196f"
      },
      "source": [
        "print(df.shape)\n",
        "print(not_bool_df.shape)"
      ],
      "execution_count": 287,
      "outputs": [
        {
          "output_type": "stream",
          "text": [
            "(307511, 68)\n",
            "(307511, 23)\n"
          ],
          "name": "stdout"
        }
      ]
    },
    {
      "cell_type": "code",
      "metadata": {
        "colab": {
          "base_uri": "https://localhost:8080/"
        },
        "id": "hw8GDxUBVqb5",
        "outputId": "42fd2d7d-8d11-49e8-db02-76d868ea2479"
      },
      "source": [
        "not_bool_df.isnull().sum()"
      ],
      "execution_count": 288,
      "outputs": [
        {
          "output_type": "execute_result",
          "data": {
            "text/plain": [
              "REGION_RATING_CLIENT_W_CITY        0\n",
              "AMT_GOODS_PRICE                  278\n",
              "AMT_ANNUITY                       12\n",
              "EXT_SOURCE_3                   60965\n",
              "DEF_30_CNT_SOCIAL_CIRCLE           0\n",
              "AMT_INCOME_TOTAL                   0\n",
              "DAYS_LAST_PHONE_CHANGE             1\n",
              "AMT_REQ_CREDIT_BUREAU_WEEK         0\n",
              "REGION_POPULATION_RELATIVE         0\n",
              "AMT_REQ_CREDIT_BUREAU_YEAR         0\n",
              "CNT_CHILDREN                       0\n",
              "AMT_CREDIT                         0\n",
              "HOUR_APPR_PROCESS_START            0\n",
              "EXT_SOURCE_2                     660\n",
              "REGION_RATING_CLIENT               0\n",
              "SK_ID_CURR                         0\n",
              "DAYS_EMPLOYED                      0\n",
              "DAYS_BIRTH                         0\n",
              "DAYS_REGISTRATION                  0\n",
              "OBS_60_CNT_SOCIAL_CIRCLE           0\n",
              "CNT_FAM_MEMBERS                    0\n",
              "DAYS_ID_PUBLISH                    0\n",
              "TARGET                             0\n",
              "dtype: int64"
            ]
          },
          "metadata": {
            "tags": []
          },
          "execution_count": 288
        }
      ]
    },
    {
      "cell_type": "markdown",
      "metadata": {
        "id": "hhHd_kByVcR8"
      },
      "source": [
        "**3.7 CHECKING FOR EXT SOURCE**"
      ]
    },
    {
      "cell_type": "code",
      "metadata": {
        "colab": {
          "base_uri": "https://localhost:8080/",
          "height": 285
        },
        "id": "QA25LH_RV1-B",
        "outputId": "9169b917-37d9-4e0c-c775-cfc6fe1de2c5"
      },
      "source": [
        "ax1 = not_bool_df.plot.scatter(x='EXT_SOURCE_2',\n",
        "                      y='EXT_SOURCE_3',\n",
        "                     c='DarkBlue')"
      ],
      "execution_count": 289,
      "outputs": [
        {
          "output_type": "display_data",
          "data": {
            "image/png": "[encoded data removed]",
            "text/plain": [
              "<Figure size 432x288 with 1 Axes>"
            ]
          },
          "metadata": {
            "tags": []
          }
        }
      ]
    },
    {
      "cell_type": "code",
      "metadata": {
        "colab": {
          "base_uri": "https://localhost:8080/"
        },
        "id": "v38lURfYV2JG",
        "outputId": "94dfdcf6-004f-4743-dfbf-d72be58b6f71"
      },
      "source": [
        "correlation = not_bool_df['EXT_SOURCE_2']. corr(not_bool_df['EXT_SOURCE_3']) \n",
        "correlation"
      ],
      "execution_count": 290,
      "outputs": [
        {
          "output_type": "execute_result",
          "data": {
            "text/plain": [
              "0.10916729237112612"
            ]
          },
          "metadata": {
            "tags": []
          },
          "execution_count": 290
        }
      ]
    },
    {
      "cell_type": "markdown",
      "metadata": {
        "id": "21LML6TPWQVr"
      },
      "source": [
        "correlation between ext source columns is low."
      ]
    },
    {
      "cell_type": "code",
      "metadata": {
        "id": "YMrNuJIwV2M8"
      },
      "source": [
        ""
      ],
      "execution_count": 290,
      "outputs": []
    },
    {
      "cell_type": "markdown",
      "metadata": {
        "id": "nHTWPrOkWW2H"
      },
      "source": [
        "**3.7.1 HANDLING EXT_SOURCES column**\n",
        "\n",
        "\n",
        "\n"
      ]
    },
    {
      "cell_type": "code",
      "metadata": {
        "colab": {
          "base_uri": "https://localhost:8080/",
          "height": 287
        },
        "id": "Ov5_QUzjV2P4",
        "outputId": "c2bca55d-8b7e-47a6-d26b-7ef1d63fe843"
      },
      "source": [
        "ax = sns.histplot(x = \"EXT_SOURCE_2\", hue=\"TARGET\", data = not_bool_df)"
      ],
      "execution_count": 291,
      "outputs": [
        {
          "output_type": "display_data",
          "data": {
            "image/png": "[encoded data removed]",
            "text/plain": [
              "<Figure size 432x288 with 1 Axes>"
            ]
          },
          "metadata": {
            "tags": []
          }
        }
      ]
    },
    {
      "cell_type": "markdown",
      "metadata": {
        "id": "o6XItugtXYj1"
      },
      "source": [
        "The data distibution is left skewed for column EXT_SOURCE_2"
      ]
    },
    {
      "cell_type": "code",
      "metadata": {
        "colab": {
          "base_uri": "https://localhost:8080/",
          "height": 285
        },
        "id": "CA5sisnnZBys",
        "outputId": "4b955d8e-d110-44fc-fc27-205f0e9728fc"
      },
      "source": [
        "ax = sns.histplot(x = \"EXT_SOURCE_3\", hue=\"TARGET\", data = not_bool_df)"
      ],
      "execution_count": 292,
      "outputs": [
        {
          "output_type": "display_data",
          "data": {
            "image/png": "[encoded data removed]",
            "text/plain": [
              "<Figure size 432x288 with 1 Axes>"
            ]
          },
          "metadata": {
            "tags": []
          }
        }
      ]
    },
    {
      "cell_type": "code",
      "metadata": {
        "colab": {
          "base_uri": "https://localhost:8080/"
        },
        "id": "O6lLEc4IV2Se",
        "outputId": "10f8bb21-fe32-41ec-c2cc-bd41a2562aaf"
      },
      "source": [
        "correlation = not_bool_df['EXT_SOURCE_2']. corr(not_bool_df['TARGET']) \n",
        "correlation"
      ],
      "execution_count": 293,
      "outputs": [
        {
          "output_type": "execute_result",
          "data": {
            "text/plain": [
              "-0.16047167160521006"
            ]
          },
          "metadata": {
            "tags": []
          },
          "execution_count": 293
        }
      ]
    },
    {
      "cell_type": "code",
      "metadata": {
        "colab": {
          "base_uri": "https://localhost:8080/",
          "height": 269
        },
        "id": "GleKgK6MV2V4",
        "outputId": "0f0f7132-888b-4f88-9bc7-0df1d8ae5be2"
      },
      "source": [
        "boxplot = not_bool_df.boxplot(column=['EXT_SOURCE_2', 'EXT_SOURCE_3'], return_type='axes')\n",
        "plt.show()"
      ],
      "execution_count": 294,
      "outputs": [
        {
          "output_type": "display_data",
          "data": {
            "image/png": "[encoded data removed]",
            "text/plain": [
              "<Figure size 432x288 with 1 Axes>"
            ]
          },
          "metadata": {
            "tags": []
          }
        }
      ]
    },
    {
      "cell_type": "markdown",
      "metadata": {
        "id": "f5Ap0cKWYqZ2"
      },
      "source": [
        "Since there are no outlier in ext source columns so we replace nan values with mean"
      ]
    },
    {
      "cell_type": "code",
      "metadata": {
        "id": "683CjLRFsOg4"
      },
      "source": [
        ""
      ],
      "execution_count": 294,
      "outputs": []
    },
    {
      "cell_type": "code",
      "metadata": {
        "id": "bIuqEmpkV2Yf"
      },
      "source": [
        "not_bool_df['EXT_SOURCE_2'].fillna((not_bool_df['EXT_SOURCE_2'].mean()), inplace=True)\n",
        "not_bool_df['EXT_SOURCE_3'].fillna((not_bool_df['EXT_SOURCE_3'].mean()), inplace=True)"
      ],
      "execution_count": 295,
      "outputs": []
    },
    {
      "cell_type": "code",
      "metadata": {
        "id": "Vk3nZD6Lhp20"
      },
      "source": [
        ""
      ],
      "execution_count": 295,
      "outputs": []
    },
    {
      "cell_type": "code",
      "metadata": {
        "colab": {
          "base_uri": "https://localhost:8080/",
          "height": 287
        },
        "id": "pQaQR-6JV2bO",
        "outputId": "f8bf2e60-7e77-4d1e-85c4-c42762f50ab7"
      },
      "source": [
        "ax = sns.histplot(x = \"EXT_SOURCE_2\", hue=\"TARGET\", data = not_bool_df)"
      ],
      "execution_count": 296,
      "outputs": [
        {
          "output_type": "display_data",
          "data": {
            "image/png": "[encoded data removed]",
            "text/plain": [
              "<Figure size 432x288 with 1 Axes>"
            ]
          },
          "metadata": {
            "tags": []
          }
        }
      ]
    },
    {
      "cell_type": "markdown",
      "metadata": {
        "id": "ZAiQOyu_ZaGj"
      },
      "source": [
        "The distribution of data hasnot changed after filling in nan values."
      ]
    },
    {
      "cell_type": "code",
      "metadata": {
        "colab": {
          "base_uri": "https://localhost:8080/",
          "height": 287
        },
        "id": "eJUivkEdZSYO",
        "outputId": "e5c42f4b-e16f-4d75-8f6d-e08c6b9f5c21"
      },
      "source": [
        "ax = sns.histplot(x = \"EXT_SOURCE_3\", hue=\"TARGET\", data = not_bool_df)"
      ],
      "execution_count": 297,
      "outputs": [
        {
          "output_type": "display_data",
          "data": {
            "image/png": "[encoded data removed]",
            "text/plain": [
              "<Figure size 432x288 with 1 Axes>"
            ]
          },
          "metadata": {
            "tags": []
          }
        }
      ]
    },
    {
      "cell_type": "code",
      "metadata": {
        "colab": {
          "base_uri": "https://localhost:8080/"
        },
        "id": "gM4WWBE_aBMe",
        "outputId": "3890287f-a074-4ec5-96ea-803cfefffb41"
      },
      "source": [
        "df['EXT_SOURCE_3'].isnull().sum()"
      ],
      "execution_count": 298,
      "outputs": [
        {
          "output_type": "execute_result",
          "data": {
            "text/plain": [
              "60965"
            ]
          },
          "metadata": {
            "tags": []
          },
          "execution_count": 298
        }
      ]
    },
    {
      "cell_type": "markdown",
      "metadata": {
        "id": "TP4ACTBpZfbz"
      },
      "source": [
        "distribution has changed drastically so we should not impute it with mean value as there were many nan values in the column about 60 thousands plus. So trying to fill nan values with random sample of actual values in this column"
      ]
    },
    {
      "cell_type": "code",
      "metadata": {
        "id": "rHe3ypxdZU5M"
      },
      "source": [
        "\n",
        "not_bool_df['EXT_SOURCE_3']=df['EXT_SOURCE_3'].copy()\n",
        "s = not_bool_df.EXT_SOURCE_3.value_counts(normalize=True)\n",
        "missing = not_bool_df['EXT_SOURCE_3'].isnull()\n",
        "not_bool_df.loc[missing,'EXT_SOURCE_3'] = np.random.choice(s.index, size=len(not_bool_df[missing]),p=s.values)"
      ],
      "execution_count": 299,
      "outputs": []
    },
    {
      "cell_type": "code",
      "metadata": {
        "colab": {
          "base_uri": "https://localhost:8080/",
          "height": 287
        },
        "id": "1LAkDDYztXfO",
        "outputId": "ae045d69-a46c-4b1d-98f9-3f9f676f08c3"
      },
      "source": [
        "ax = sns.histplot(x = \"EXT_SOURCE_3\", hue=\"TARGET\", data = not_bool_df)"
      ],
      "execution_count": 300,
      "outputs": [
        {
          "output_type": "display_data",
          "data": {
            "image/png": "[encoded data removed]",
            "text/plain": [
              "<Figure size 432x288 with 1 Axes>"
            ]
          },
          "metadata": {
            "tags": []
          }
        }
      ]
    },
    {
      "cell_type": "markdown",
      "metadata": {
        "id": "hx290O4CtcK8"
      },
      "source": [
        "Now the distribution before and after imputation looks almost similar"
      ]
    },
    {
      "cell_type": "code",
      "metadata": {
        "colab": {
          "base_uri": "https://localhost:8080/"
        },
        "id": "QBKjQeLWaTn8",
        "outputId": "f3a1939c-4de4-487f-c182-f76d3ebca90d"
      },
      "source": [
        "not_bool_df.isnull().sum()"
      ],
      "execution_count": 301,
      "outputs": [
        {
          "output_type": "execute_result",
          "data": {
            "text/plain": [
              "REGION_RATING_CLIENT_W_CITY      0\n",
              "AMT_GOODS_PRICE                278\n",
              "AMT_ANNUITY                     12\n",
              "EXT_SOURCE_3                     0\n",
              "DEF_30_CNT_SOCIAL_CIRCLE         0\n",
              "AMT_INCOME_TOTAL                 0\n",
              "DAYS_LAST_PHONE_CHANGE           1\n",
              "AMT_REQ_CREDIT_BUREAU_WEEK       0\n",
              "REGION_POPULATION_RELATIVE       0\n",
              "AMT_REQ_CREDIT_BUREAU_YEAR       0\n",
              "CNT_CHILDREN                     0\n",
              "AMT_CREDIT                       0\n",
              "HOUR_APPR_PROCESS_START          0\n",
              "EXT_SOURCE_2                     0\n",
              "REGION_RATING_CLIENT             0\n",
              "SK_ID_CURR                       0\n",
              "DAYS_EMPLOYED                    0\n",
              "DAYS_BIRTH                       0\n",
              "DAYS_REGISTRATION                0\n",
              "OBS_60_CNT_SOCIAL_CIRCLE         0\n",
              "CNT_FAM_MEMBERS                  0\n",
              "DAYS_ID_PUBLISH                  0\n",
              "TARGET                           0\n",
              "dtype: int64"
            ]
          },
          "metadata": {
            "tags": []
          },
          "execution_count": 301
        }
      ]
    },
    {
      "cell_type": "code",
      "metadata": {
        "id": "W9xJokpEaTrh"
      },
      "source": [
        ""
      ],
      "execution_count": 301,
      "outputs": []
    },
    {
      "cell_type": "markdown",
      "metadata": {
        "id": "Q90q8-nwaeIW"
      },
      "source": [
        "**3.8 HANDLING AMT_ANNUITY column**"
      ]
    },
    {
      "cell_type": "code",
      "metadata": {
        "colab": {
          "base_uri": "https://localhost:8080/",
          "height": 285
        },
        "id": "lsW_ysuFaTux",
        "outputId": "9f938ca6-b347-4789-98e5-717ba80273b4"
      },
      "source": [
        "ax = sns.histplot(x = \"AMT_ANNUITY\", hue=\"TARGET\", data = not_bool_df)"
      ],
      "execution_count": 302,
      "outputs": [
        {
          "output_type": "display_data",
          "data": {
            "image/png": "[encoded data removed]",
            "text/plain": [
              "<Figure size 432x288 with 1 Axes>"
            ]
          },
          "metadata": {
            "tags": []
          }
        }
      ]
    },
    {
      "cell_type": "code",
      "metadata": {
        "colab": {
          "base_uri": "https://localhost:8080/",
          "height": 269
        },
        "id": "UdLMp6vQaTxt",
        "outputId": "b84f6e0f-c9e1-4ad7-9daa-4facc27d70ba"
      },
      "source": [
        "not_bool_df.boxplot(column=[\"AMT_ANNUITY\"])\n",
        "plt.show()"
      ],
      "execution_count": 303,
      "outputs": [
        {
          "output_type": "display_data",
          "data": {
            "image/png": "[encoded data removed]",
            "text/plain": [
              "<Figure size 432x288 with 1 Axes>"
            ]
          },
          "metadata": {
            "tags": []
          }
        }
      ]
    },
    {
      "cell_type": "markdown",
      "metadata": {
        "id": "ha999VGzb4P5"
      },
      "source": [
        "The distribution of AMT_ANNUNITY is right skewed and has many outliers so we replace nan values with median"
      ]
    },
    {
      "cell_type": "code",
      "metadata": {
        "id": "prJHkllqa9SZ"
      },
      "source": [
        "not_bool_df['AMT_ANNUITY'].fillna((not_bool_df['AMT_ANNUITY'].median()), inplace=True)"
      ],
      "execution_count": 304,
      "outputs": []
    },
    {
      "cell_type": "code",
      "metadata": {
        "colab": {
          "base_uri": "https://localhost:8080/",
          "height": 285
        },
        "id": "TsK2b0YwcgdQ",
        "outputId": "64c01068-11bc-4ba5-a6ee-618cc0f13521"
      },
      "source": [
        "ax = sns.histplot(x = \"AMT_ANNUITY\", hue=\"TARGET\", data = not_bool_df)"
      ],
      "execution_count": 305,
      "outputs": [
        {
          "output_type": "display_data",
          "data": {
            "image/png": "[encoded data removed]",
            "text/plain": [
              "<Figure size 432x288 with 1 Axes>"
            ]
          },
          "metadata": {
            "tags": []
          }
        }
      ]
    },
    {
      "cell_type": "markdown",
      "metadata": {
        "id": "qJedgTVecpnj"
      },
      "source": [
        "distribution hasnot changed much after filling in null values"
      ]
    },
    {
      "cell_type": "code",
      "metadata": {
        "colab": {
          "base_uri": "https://localhost:8080/"
        },
        "id": "ZpczY76Gcini",
        "outputId": "943a60f3-6fe3-4725-a40c-71e71233fdd5"
      },
      "source": [
        "not_bool_df['AMT_ANNUITY'].isnull().sum()"
      ],
      "execution_count": 306,
      "outputs": [
        {
          "output_type": "execute_result",
          "data": {
            "text/plain": [
              "0"
            ]
          },
          "metadata": {
            "tags": []
          },
          "execution_count": 306
        }
      ]
    },
    {
      "cell_type": "code",
      "metadata": {
        "id": "fJCjlFIVco0f"
      },
      "source": [
        ""
      ],
      "execution_count": 306,
      "outputs": []
    },
    {
      "cell_type": "markdown",
      "metadata": {
        "id": "hj_G62jLdCek"
      },
      "source": [
        "**3.8 HANDLING AMT_GOODS_PRICE column**"
      ]
    },
    {
      "cell_type": "code",
      "metadata": {
        "colab": {
          "base_uri": "https://localhost:8080/",
          "height": 285
        },
        "id": "ndQgGTkhdJ_O",
        "outputId": "ec4b22ea-d6c4-4184-8767-c56805787c24"
      },
      "source": [
        "ax = sns.histplot(x = \"AMT_GOODS_PRICE\", hue=\"TARGET\", data = not_bool_df)"
      ],
      "execution_count": 307,
      "outputs": [
        {
          "output_type": "display_data",
          "data": {
            "image/png": "[encoded data removed]",
            "text/plain": [
              "<Figure size 432x288 with 1 Axes>"
            ]
          },
          "metadata": {
            "tags": []
          }
        }
      ]
    },
    {
      "cell_type": "code",
      "metadata": {
        "colab": {
          "base_uri": "https://localhost:8080/",
          "height": 280
        },
        "id": "WTYToLktdKCg",
        "outputId": "40f7f91d-b828-423e-db92-a182c3d34dd5"
      },
      "source": [
        "not_bool_df.boxplot(column=[\"AMT_GOODS_PRICE\"])\n",
        "plt.show()"
      ],
      "execution_count": 308,
      "outputs": [
        {
          "output_type": "display_data",
          "data": {
            "image/png": "[encoded data removed]",
            "text/plain": [
              "<Figure size 432x288 with 1 Axes>"
            ]
          },
          "metadata": {
            "tags": []
          }
        }
      ]
    },
    {
      "cell_type": "code",
      "metadata": {
        "colab": {
          "base_uri": "https://localhost:8080/"
        },
        "id": "xPnmavSJd3WJ",
        "outputId": "859e1db9-5f61-4980-e305-f63592bfd2dd"
      },
      "source": [
        "not_bool_df['AMT_GOODS_PRICE'].isnull().sum()"
      ],
      "execution_count": 309,
      "outputs": [
        {
          "output_type": "execute_result",
          "data": {
            "text/plain": [
              "278"
            ]
          },
          "metadata": {
            "tags": []
          },
          "execution_count": 309
        }
      ]
    },
    {
      "cell_type": "code",
      "metadata": {
        "id": "ggVs0kCVdKFd"
      },
      "source": [
        "not_bool_df['AMT_GOODS_PRICE'].fillna((not_bool_df['AMT_GOODS_PRICE'].median()), inplace=True)"
      ],
      "execution_count": 310,
      "outputs": []
    },
    {
      "cell_type": "code",
      "metadata": {
        "colab": {
          "base_uri": "https://localhost:8080/",
          "height": 285
        },
        "id": "bRnasLRPdKIS",
        "outputId": "8c05cae5-9a66-47a6-d114-35be28e985e7"
      },
      "source": [
        "ax = sns.histplot(x = \"AMT_GOODS_PRICE\", hue=\"TARGET\", data = not_bool_df)"
      ],
      "execution_count": 311,
      "outputs": [
        {
          "output_type": "display_data",
          "data": {
            "image/png": "[encoded data removed]",
            "text/plain": [
              "<Figure size 432x288 with 1 Axes>"
            ]
          },
          "metadata": {
            "tags": []
          }
        }
      ]
    },
    {
      "cell_type": "code",
      "metadata": {
        "id": "k3lHapNndKLE"
      },
      "source": [
        ""
      ],
      "execution_count": 311,
      "outputs": []
    },
    {
      "cell_type": "markdown",
      "metadata": {
        "id": "CZGFrjEbzS-M"
      },
      "source": [
        "**3.9 Handling outlier and feature transformation for numeric columns**"
      ]
    },
    {
      "cell_type": "code",
      "metadata": {
        "colab": {
          "base_uri": "https://localhost:8080/"
        },
        "id": "-rp35PJSzJ-L",
        "outputId": "8bf6eb2c-c687-4d18-9c1e-68e2ac2d1fea"
      },
      "source": [
        "not_bool_df.columns"
      ],
      "execution_count": 312,
      "outputs": [
        {
          "output_type": "execute_result",
          "data": {
            "text/plain": [
              "Index(['REGION_RATING_CLIENT_W_CITY', 'AMT_GOODS_PRICE', 'AMT_ANNUITY',\n",
              "       'EXT_SOURCE_3', 'DEF_30_CNT_SOCIAL_CIRCLE', 'AMT_INCOME_TOTAL',\n",
              "       'DAYS_LAST_PHONE_CHANGE', 'AMT_REQ_CREDIT_BUREAU_WEEK',\n",
              "       'REGION_POPULATION_RELATIVE', 'AMT_REQ_CREDIT_BUREAU_YEAR',\n",
              "       'CNT_CHILDREN', 'AMT_CREDIT', 'HOUR_APPR_PROCESS_START', 'EXT_SOURCE_2',\n",
              "       'REGION_RATING_CLIENT', 'SK_ID_CURR', 'DAYS_EMPLOYED', 'DAYS_BIRTH',\n",
              "       'DAYS_REGISTRATION', 'OBS_60_CNT_SOCIAL_CIRCLE', 'CNT_FAM_MEMBERS',\n",
              "       'DAYS_ID_PUBLISH', 'TARGET'],\n",
              "      dtype='object')"
            ]
          },
          "metadata": {
            "tags": []
          },
          "execution_count": 312
        }
      ]
    },
    {
      "cell_type": "code",
      "metadata": {
        "id": "Wxf9MVbNzKBf"
      },
      "source": [
        "not_bool_df['AGE'] = not_bool_df['DAYS_BIRTH']/(-365)\n",
        "not_bool_df['YEAR_EMPLOYED'] = not_bool_df['DAYS_EMPLOYED']/(-365)"
      ],
      "execution_count": 313,
      "outputs": []
    },
    {
      "cell_type": "code",
      "metadata": {
        "colab": {
          "base_uri": "https://localhost:8080/"
        },
        "id": "NOr-oCgjzKFO",
        "outputId": "f50d7e68-37eb-46ff-8462-dd46a4deed99"
      },
      "source": [
        "not_bool_df.drop(['DAYS_BIRTH','DAYS_EMPLOYED'], axis=1)\n",
        "not_bool_df['AGE'].head()"
      ],
      "execution_count": 314,
      "outputs": [
        {
          "output_type": "execute_result",
          "data": {
            "text/plain": [
              "0    25.920548\n",
              "1    45.931507\n",
              "2    52.180822\n",
              "3    52.068493\n",
              "4    54.608219\n",
              "Name: AGE, dtype: float64"
            ]
          },
          "metadata": {
            "tags": []
          },
          "execution_count": 314
        }
      ]
    },
    {
      "cell_type": "code",
      "metadata": {
        "colab": {
          "base_uri": "https://localhost:8080/",
          "height": 575
        },
        "id": "C91cdrqNzKI1",
        "outputId": "537300f5-9c91-4173-c033-e5825bfb1972"
      },
      "source": [
        "df.drop(['DAYS_BIRTH','DAYS_EMPLOYED'], axis=1)"
      ],
      "execution_count": 315,
      "outputs": [
        {
          "output_type": "execute_result",
          "data": {
            "text/html": [
              "<div>\n",
              "<style scoped>\n",
              "    .dataframe tbody tr th:only-of-type {\n",
              "        vertical-align: middle;\n",
              "    }\n",
              "\n",
              "    .dataframe tbody tr th {\n",
              "        vertical-align: top;\n",
              "    }\n",
              "\n",
              "    .dataframe thead th {\n",
              "        text-align: right;\n",
              "    }\n",
              "</style>\n",
              "<table border=\"1\" class=\"dataframe\">\n",
              "  <thead>\n",
              "    <tr style=\"text-align: right;\">\n",
              "      <th></th>\n",
              "      <th>SK_ID_CURR</th>\n",
              "      <th>TARGET</th>\n",
              "      <th>NAME_CONTRACT_TYPE</th>\n",
              "      <th>CODE_GENDER</th>\n",
              "      <th>FLAG_OWN_CAR</th>\n",
              "      <th>FLAG_OWN_REALTY</th>\n",
              "      <th>CNT_CHILDREN</th>\n",
              "      <th>AMT_INCOME_TOTAL</th>\n",
              "      <th>AMT_CREDIT</th>\n",
              "      <th>AMT_ANNUITY</th>\n",
              "      <th>AMT_GOODS_PRICE</th>\n",
              "      <th>NAME_TYPE_SUITE</th>\n",
              "      <th>NAME_INCOME_TYPE</th>\n",
              "      <th>NAME_EDUCATION_TYPE</th>\n",
              "      <th>NAME_FAMILY_STATUS</th>\n",
              "      <th>NAME_HOUSING_TYPE</th>\n",
              "      <th>REGION_POPULATION_RELATIVE</th>\n",
              "      <th>DAYS_REGISTRATION</th>\n",
              "      <th>DAYS_ID_PUBLISH</th>\n",
              "      <th>FLAG_MOBIL</th>\n",
              "      <th>FLAG_EMP_PHONE</th>\n",
              "      <th>FLAG_WORK_PHONE</th>\n",
              "      <th>FLAG_CONT_MOBILE</th>\n",
              "      <th>FLAG_PHONE</th>\n",
              "      <th>FLAG_EMAIL</th>\n",
              "      <th>OCCUPATION_TYPE</th>\n",
              "      <th>CNT_FAM_MEMBERS</th>\n",
              "      <th>REGION_RATING_CLIENT</th>\n",
              "      <th>REGION_RATING_CLIENT_W_CITY</th>\n",
              "      <th>WEEKDAY_APPR_PROCESS_START</th>\n",
              "      <th>HOUR_APPR_PROCESS_START</th>\n",
              "      <th>REG_REGION_NOT_LIVE_REGION</th>\n",
              "      <th>REG_REGION_NOT_WORK_REGION</th>\n",
              "      <th>LIVE_REGION_NOT_WORK_REGION</th>\n",
              "      <th>REG_CITY_NOT_LIVE_CITY</th>\n",
              "      <th>REG_CITY_NOT_WORK_CITY</th>\n",
              "      <th>LIVE_CITY_NOT_WORK_CITY</th>\n",
              "      <th>ORGANIZATION_TYPE</th>\n",
              "      <th>EXT_SOURCE_2</th>\n",
              "      <th>EXT_SOURCE_3</th>\n",
              "      <th>EMERGENCYSTATE_MODE</th>\n",
              "      <th>DEF_30_CNT_SOCIAL_CIRCLE</th>\n",
              "      <th>OBS_60_CNT_SOCIAL_CIRCLE</th>\n",
              "      <th>DAYS_LAST_PHONE_CHANGE</th>\n",
              "      <th>FLAG_DOCUMENT_2</th>\n",
              "      <th>FLAG_DOCUMENT_3</th>\n",
              "      <th>FLAG_DOCUMENT_4</th>\n",
              "      <th>FLAG_DOCUMENT_5</th>\n",
              "      <th>FLAG_DOCUMENT_6</th>\n",
              "      <th>FLAG_DOCUMENT_7</th>\n",
              "      <th>FLAG_DOCUMENT_8</th>\n",
              "      <th>FLAG_DOCUMENT_9</th>\n",
              "      <th>FLAG_DOCUMENT_10</th>\n",
              "      <th>FLAG_DOCUMENT_11</th>\n",
              "      <th>FLAG_DOCUMENT_12</th>\n",
              "      <th>FLAG_DOCUMENT_13</th>\n",
              "      <th>FLAG_DOCUMENT_14</th>\n",
              "      <th>FLAG_DOCUMENT_15</th>\n",
              "      <th>FLAG_DOCUMENT_16</th>\n",
              "      <th>FLAG_DOCUMENT_17</th>\n",
              "      <th>FLAG_DOCUMENT_18</th>\n",
              "      <th>FLAG_DOCUMENT_19</th>\n",
              "      <th>FLAG_DOCUMENT_20</th>\n",
              "      <th>FLAG_DOCUMENT_21</th>\n",
              "      <th>AMT_REQ_CREDIT_BUREAU_WEEK</th>\n",
              "      <th>AMT_REQ_CREDIT_BUREAU_YEAR</th>\n",
              "    </tr>\n",
              "  </thead>\n",
              "  <tbody>\n",
              "    <tr>\n",
              "      <th>0</th>\n",
              "      <td>100002</td>\n",
              "      <td>1</td>\n",
              "      <td>Cash loans</td>\n",
              "      <td>M</td>\n",
              "      <td>N</td>\n",
              "      <td>Y</td>\n",
              "      <td>0</td>\n",
              "      <td>202500.0</td>\n",
              "      <td>406597.5</td>\n",
              "      <td>24700.5</td>\n",
              "      <td>351000.0</td>\n",
              "      <td>Unaccompanied</td>\n",
              "      <td>Working</td>\n",
              "      <td>Secondary / secondary special</td>\n",
              "      <td>Single / not married</td>\n",
              "      <td>House / apartment</td>\n",
              "      <td>0.018801</td>\n",
              "      <td>-3648.0</td>\n",
              "      <td>-2120</td>\n",
              "      <td>1</td>\n",
              "      <td>1</td>\n",
              "      <td>0</td>\n",
              "      <td>1</td>\n",
              "      <td>1</td>\n",
              "      <td>0</td>\n",
              "      <td>Laborers</td>\n",
              "      <td>1.0</td>\n",
              "      <td>2</td>\n",
              "      <td>2</td>\n",
              "      <td>WEDNESDAY</td>\n",
              "      <td>10</td>\n",
              "      <td>0</td>\n",
              "      <td>0</td>\n",
              "      <td>0</td>\n",
              "      <td>0</td>\n",
              "      <td>0</td>\n",
              "      <td>0</td>\n",
              "      <td>Business Entity Type 3</td>\n",
              "      <td>0.262949</td>\n",
              "      <td>0.139376</td>\n",
              "      <td>No</td>\n",
              "      <td>2.0</td>\n",
              "      <td>2.0</td>\n",
              "      <td>-1134.0</td>\n",
              "      <td>0</td>\n",
              "      <td>1</td>\n",
              "      <td>0</td>\n",
              "      <td>0</td>\n",
              "      <td>0</td>\n",
              "      <td>0</td>\n",
              "      <td>0</td>\n",
              "      <td>0</td>\n",
              "      <td>0</td>\n",
              "      <td>0</td>\n",
              "      <td>0</td>\n",
              "      <td>0</td>\n",
              "      <td>0</td>\n",
              "      <td>0</td>\n",
              "      <td>0</td>\n",
              "      <td>0</td>\n",
              "      <td>0</td>\n",
              "      <td>0</td>\n",
              "      <td>0</td>\n",
              "      <td>0</td>\n",
              "      <td>0.0</td>\n",
              "      <td>1.0</td>\n",
              "    </tr>\n",
              "    <tr>\n",
              "      <th>1</th>\n",
              "      <td>100003</td>\n",
              "      <td>0</td>\n",
              "      <td>Cash loans</td>\n",
              "      <td>F</td>\n",
              "      <td>N</td>\n",
              "      <td>N</td>\n",
              "      <td>0</td>\n",
              "      <td>270000.0</td>\n",
              "      <td>1293502.5</td>\n",
              "      <td>35698.5</td>\n",
              "      <td>1129500.0</td>\n",
              "      <td>Family</td>\n",
              "      <td>State servant</td>\n",
              "      <td>Higher education</td>\n",
              "      <td>Married</td>\n",
              "      <td>House / apartment</td>\n",
              "      <td>0.003541</td>\n",
              "      <td>-1186.0</td>\n",
              "      <td>-291</td>\n",
              "      <td>1</td>\n",
              "      <td>1</td>\n",
              "      <td>0</td>\n",
              "      <td>1</td>\n",
              "      <td>1</td>\n",
              "      <td>0</td>\n",
              "      <td>Core staff</td>\n",
              "      <td>2.0</td>\n",
              "      <td>1</td>\n",
              "      <td>1</td>\n",
              "      <td>MONDAY</td>\n",
              "      <td>11</td>\n",
              "      <td>0</td>\n",
              "      <td>0</td>\n",
              "      <td>0</td>\n",
              "      <td>0</td>\n",
              "      <td>0</td>\n",
              "      <td>0</td>\n",
              "      <td>School</td>\n",
              "      <td>0.622246</td>\n",
              "      <td>NaN</td>\n",
              "      <td>No</td>\n",
              "      <td>0.0</td>\n",
              "      <td>1.0</td>\n",
              "      <td>-828.0</td>\n",
              "      <td>0</td>\n",
              "      <td>1</td>\n",
              "      <td>0</td>\n",
              "      <td>0</td>\n",
              "      <td>0</td>\n",
              "      <td>0</td>\n",
              "      <td>0</td>\n",
              "      <td>0</td>\n",
              "      <td>0</td>\n",
              "      <td>0</td>\n",
              "      <td>0</td>\n",
              "      <td>0</td>\n",
              "      <td>0</td>\n",
              "      <td>0</td>\n",
              "      <td>0</td>\n",
              "      <td>0</td>\n",
              "      <td>0</td>\n",
              "      <td>0</td>\n",
              "      <td>0</td>\n",
              "      <td>0</td>\n",
              "      <td>0.0</td>\n",
              "      <td>0.0</td>\n",
              "    </tr>\n",
              "    <tr>\n",
              "      <th>2</th>\n",
              "      <td>100004</td>\n",
              "      <td>0</td>\n",
              "      <td>Revolving loans</td>\n",
              "      <td>M</td>\n",
              "      <td>Y</td>\n",
              "      <td>Y</td>\n",
              "      <td>0</td>\n",
              "      <td>67500.0</td>\n",
              "      <td>135000.0</td>\n",
              "      <td>6750.0</td>\n",
              "      <td>135000.0</td>\n",
              "      <td>Unaccompanied</td>\n",
              "      <td>Working</td>\n",
              "      <td>Secondary / secondary special</td>\n",
              "      <td>Single / not married</td>\n",
              "      <td>House / apartment</td>\n",
              "      <td>0.010032</td>\n",
              "      <td>-4260.0</td>\n",
              "      <td>-2531</td>\n",
              "      <td>1</td>\n",
              "      <td>1</td>\n",
              "      <td>1</td>\n",
              "      <td>1</td>\n",
              "      <td>1</td>\n",
              "      <td>0</td>\n",
              "      <td>Laborers</td>\n",
              "      <td>1.0</td>\n",
              "      <td>2</td>\n",
              "      <td>2</td>\n",
              "      <td>MONDAY</td>\n",
              "      <td>9</td>\n",
              "      <td>0</td>\n",
              "      <td>0</td>\n",
              "      <td>0</td>\n",
              "      <td>0</td>\n",
              "      <td>0</td>\n",
              "      <td>0</td>\n",
              "      <td>Government</td>\n",
              "      <td>0.555912</td>\n",
              "      <td>0.729567</td>\n",
              "      <td>NaN</td>\n",
              "      <td>0.0</td>\n",
              "      <td>0.0</td>\n",
              "      <td>-815.0</td>\n",
              "      <td>0</td>\n",
              "      <td>0</td>\n",
              "      <td>0</td>\n",
              "      <td>0</td>\n",
              "      <td>0</td>\n",
              "      <td>0</td>\n",
              "      <td>0</td>\n",
              "      <td>0</td>\n",
              "      <td>0</td>\n",
              "      <td>0</td>\n",
              "      <td>0</td>\n",
              "      <td>0</td>\n",
              "      <td>0</td>\n",
              "      <td>0</td>\n",
              "      <td>0</td>\n",
              "      <td>0</td>\n",
              "      <td>0</td>\n",
              "      <td>0</td>\n",
              "      <td>0</td>\n",
              "      <td>0</td>\n",
              "      <td>0.0</td>\n",
              "      <td>0.0</td>\n",
              "    </tr>\n",
              "    <tr>\n",
              "      <th>3</th>\n",
              "      <td>100006</td>\n",
              "      <td>0</td>\n",
              "      <td>Cash loans</td>\n",
              "      <td>F</td>\n",
              "      <td>N</td>\n",
              "      <td>Y</td>\n",
              "      <td>0</td>\n",
              "      <td>135000.0</td>\n",
              "      <td>312682.5</td>\n",
              "      <td>29686.5</td>\n",
              "      <td>297000.0</td>\n",
              "      <td>Unaccompanied</td>\n",
              "      <td>Working</td>\n",
              "      <td>Secondary / secondary special</td>\n",
              "      <td>Civil marriage</td>\n",
              "      <td>House / apartment</td>\n",
              "      <td>0.008019</td>\n",
              "      <td>-9833.0</td>\n",
              "      <td>-2437</td>\n",
              "      <td>1</td>\n",
              "      <td>1</td>\n",
              "      <td>0</td>\n",
              "      <td>1</td>\n",
              "      <td>0</td>\n",
              "      <td>0</td>\n",
              "      <td>Laborers</td>\n",
              "      <td>2.0</td>\n",
              "      <td>2</td>\n",
              "      <td>2</td>\n",
              "      <td>WEDNESDAY</td>\n",
              "      <td>17</td>\n",
              "      <td>0</td>\n",
              "      <td>0</td>\n",
              "      <td>0</td>\n",
              "      <td>0</td>\n",
              "      <td>0</td>\n",
              "      <td>0</td>\n",
              "      <td>Business Entity Type 3</td>\n",
              "      <td>0.650442</td>\n",
              "      <td>NaN</td>\n",
              "      <td>NaN</td>\n",
              "      <td>0.0</td>\n",
              "      <td>2.0</td>\n",
              "      <td>-617.0</td>\n",
              "      <td>0</td>\n",
              "      <td>1</td>\n",
              "      <td>0</td>\n",
              "      <td>0</td>\n",
              "      <td>0</td>\n",
              "      <td>0</td>\n",
              "      <td>0</td>\n",
              "      <td>0</td>\n",
              "      <td>0</td>\n",
              "      <td>0</td>\n",
              "      <td>0</td>\n",
              "      <td>0</td>\n",
              "      <td>0</td>\n",
              "      <td>0</td>\n",
              "      <td>0</td>\n",
              "      <td>0</td>\n",
              "      <td>0</td>\n",
              "      <td>0</td>\n",
              "      <td>0</td>\n",
              "      <td>0</td>\n",
              "      <td>NaN</td>\n",
              "      <td>NaN</td>\n",
              "    </tr>\n",
              "    <tr>\n",
              "      <th>4</th>\n",
              "      <td>100007</td>\n",
              "      <td>0</td>\n",
              "      <td>Cash loans</td>\n",
              "      <td>M</td>\n",
              "      <td>N</td>\n",
              "      <td>Y</td>\n",
              "      <td>0</td>\n",
              "      <td>121500.0</td>\n",
              "      <td>513000.0</td>\n",
              "      <td>21865.5</td>\n",
              "      <td>513000.0</td>\n",
              "      <td>Unaccompanied</td>\n",
              "      <td>Working</td>\n",
              "      <td>Secondary / secondary special</td>\n",
              "      <td>Single / not married</td>\n",
              "      <td>House / apartment</td>\n",
              "      <td>0.028663</td>\n",
              "      <td>-4311.0</td>\n",
              "      <td>-3458</td>\n",
              "      <td>1</td>\n",
              "      <td>1</td>\n",
              "      <td>0</td>\n",
              "      <td>1</td>\n",
              "      <td>0</td>\n",
              "      <td>0</td>\n",
              "      <td>Core staff</td>\n",
              "      <td>1.0</td>\n",
              "      <td>2</td>\n",
              "      <td>2</td>\n",
              "      <td>THURSDAY</td>\n",
              "      <td>11</td>\n",
              "      <td>0</td>\n",
              "      <td>0</td>\n",
              "      <td>0</td>\n",
              "      <td>0</td>\n",
              "      <td>1</td>\n",
              "      <td>1</td>\n",
              "      <td>Religion</td>\n",
              "      <td>0.322738</td>\n",
              "      <td>NaN</td>\n",
              "      <td>NaN</td>\n",
              "      <td>0.0</td>\n",
              "      <td>0.0</td>\n",
              "      <td>-1106.0</td>\n",
              "      <td>0</td>\n",
              "      <td>0</td>\n",
              "      <td>0</td>\n",
              "      <td>0</td>\n",
              "      <td>0</td>\n",
              "      <td>0</td>\n",
              "      <td>1</td>\n",
              "      <td>0</td>\n",
              "      <td>0</td>\n",
              "      <td>0</td>\n",
              "      <td>0</td>\n",
              "      <td>0</td>\n",
              "      <td>0</td>\n",
              "      <td>0</td>\n",
              "      <td>0</td>\n",
              "      <td>0</td>\n",
              "      <td>0</td>\n",
              "      <td>0</td>\n",
              "      <td>0</td>\n",
              "      <td>0</td>\n",
              "      <td>0.0</td>\n",
              "      <td>0.0</td>\n",
              "    </tr>\n",
              "    <tr>\n",
              "      <th>...</th>\n",
              "      <td>...</td>\n",
              "      <td>...</td>\n",
              "      <td>...</td>\n",
              "      <td>...</td>\n",
              "      <td>...</td>\n",
              "      <td>...</td>\n",
              "      <td>...</td>\n",
              "      <td>...</td>\n",
              "      <td>...</td>\n",
              "      <td>...</td>\n",
              "      <td>...</td>\n",
              "      <td>...</td>\n",
              "      <td>...</td>\n",
              "      <td>...</td>\n",
              "      <td>...</td>\n",
              "      <td>...</td>\n",
              "      <td>...</td>\n",
              "      <td>...</td>\n",
              "      <td>...</td>\n",
              "      <td>...</td>\n",
              "      <td>...</td>\n",
              "      <td>...</td>\n",
              "      <td>...</td>\n",
              "      <td>...</td>\n",
              "      <td>...</td>\n",
              "      <td>...</td>\n",
              "      <td>...</td>\n",
              "      <td>...</td>\n",
              "      <td>...</td>\n",
              "      <td>...</td>\n",
              "      <td>...</td>\n",
              "      <td>...</td>\n",
              "      <td>...</td>\n",
              "      <td>...</td>\n",
              "      <td>...</td>\n",
              "      <td>...</td>\n",
              "      <td>...</td>\n",
              "      <td>...</td>\n",
              "      <td>...</td>\n",
              "      <td>...</td>\n",
              "      <td>...</td>\n",
              "      <td>...</td>\n",
              "      <td>...</td>\n",
              "      <td>...</td>\n",
              "      <td>...</td>\n",
              "      <td>...</td>\n",
              "      <td>...</td>\n",
              "      <td>...</td>\n",
              "      <td>...</td>\n",
              "      <td>...</td>\n",
              "      <td>...</td>\n",
              "      <td>...</td>\n",
              "      <td>...</td>\n",
              "      <td>...</td>\n",
              "      <td>...</td>\n",
              "      <td>...</td>\n",
              "      <td>...</td>\n",
              "      <td>...</td>\n",
              "      <td>...</td>\n",
              "      <td>...</td>\n",
              "      <td>...</td>\n",
              "      <td>...</td>\n",
              "      <td>...</td>\n",
              "      <td>...</td>\n",
              "      <td>...</td>\n",
              "      <td>...</td>\n",
              "    </tr>\n",
              "    <tr>\n",
              "      <th>307506</th>\n",
              "      <td>456251</td>\n",
              "      <td>0</td>\n",
              "      <td>Cash loans</td>\n",
              "      <td>M</td>\n",
              "      <td>N</td>\n",
              "      <td>N</td>\n",
              "      <td>0</td>\n",
              "      <td>157500.0</td>\n",
              "      <td>254700.0</td>\n",
              "      <td>27558.0</td>\n",
              "      <td>225000.0</td>\n",
              "      <td>Unaccompanied</td>\n",
              "      <td>Working</td>\n",
              "      <td>Secondary / secondary special</td>\n",
              "      <td>Separated</td>\n",
              "      <td>With parents</td>\n",
              "      <td>0.032561</td>\n",
              "      <td>-8456.0</td>\n",
              "      <td>-1982</td>\n",
              "      <td>1</td>\n",
              "      <td>1</td>\n",
              "      <td>0</td>\n",
              "      <td>1</td>\n",
              "      <td>0</td>\n",
              "      <td>0</td>\n",
              "      <td>Sales staff</td>\n",
              "      <td>1.0</td>\n",
              "      <td>1</td>\n",
              "      <td>1</td>\n",
              "      <td>THURSDAY</td>\n",
              "      <td>15</td>\n",
              "      <td>0</td>\n",
              "      <td>0</td>\n",
              "      <td>0</td>\n",
              "      <td>0</td>\n",
              "      <td>0</td>\n",
              "      <td>0</td>\n",
              "      <td>Services</td>\n",
              "      <td>0.681632</td>\n",
              "      <td>NaN</td>\n",
              "      <td>No</td>\n",
              "      <td>0.0</td>\n",
              "      <td>0.0</td>\n",
              "      <td>-273.0</td>\n",
              "      <td>0</td>\n",
              "      <td>0</td>\n",
              "      <td>0</td>\n",
              "      <td>0</td>\n",
              "      <td>0</td>\n",
              "      <td>0</td>\n",
              "      <td>1</td>\n",
              "      <td>0</td>\n",
              "      <td>0</td>\n",
              "      <td>0</td>\n",
              "      <td>0</td>\n",
              "      <td>0</td>\n",
              "      <td>0</td>\n",
              "      <td>0</td>\n",
              "      <td>0</td>\n",
              "      <td>0</td>\n",
              "      <td>0</td>\n",
              "      <td>0</td>\n",
              "      <td>0</td>\n",
              "      <td>0</td>\n",
              "      <td>NaN</td>\n",
              "      <td>NaN</td>\n",
              "    </tr>\n",
              "    <tr>\n",
              "      <th>307507</th>\n",
              "      <td>456252</td>\n",
              "      <td>0</td>\n",
              "      <td>Cash loans</td>\n",
              "      <td>F</td>\n",
              "      <td>N</td>\n",
              "      <td>Y</td>\n",
              "      <td>0</td>\n",
              "      <td>72000.0</td>\n",
              "      <td>269550.0</td>\n",
              "      <td>12001.5</td>\n",
              "      <td>225000.0</td>\n",
              "      <td>Unaccompanied</td>\n",
              "      <td>Pensioner</td>\n",
              "      <td>Secondary / secondary special</td>\n",
              "      <td>Widow</td>\n",
              "      <td>House / apartment</td>\n",
              "      <td>0.025164</td>\n",
              "      <td>-4388.0</td>\n",
              "      <td>-4090</td>\n",
              "      <td>1</td>\n",
              "      <td>0</td>\n",
              "      <td>0</td>\n",
              "      <td>1</td>\n",
              "      <td>1</td>\n",
              "      <td>0</td>\n",
              "      <td>NaN</td>\n",
              "      <td>1.0</td>\n",
              "      <td>2</td>\n",
              "      <td>2</td>\n",
              "      <td>MONDAY</td>\n",
              "      <td>8</td>\n",
              "      <td>0</td>\n",
              "      <td>0</td>\n",
              "      <td>0</td>\n",
              "      <td>0</td>\n",
              "      <td>0</td>\n",
              "      <td>0</td>\n",
              "      <td>XNA</td>\n",
              "      <td>0.115992</td>\n",
              "      <td>NaN</td>\n",
              "      <td>No</td>\n",
              "      <td>0.0</td>\n",
              "      <td>0.0</td>\n",
              "      <td>0.0</td>\n",
              "      <td>0</td>\n",
              "      <td>1</td>\n",
              "      <td>0</td>\n",
              "      <td>0</td>\n",
              "      <td>0</td>\n",
              "      <td>0</td>\n",
              "      <td>0</td>\n",
              "      <td>0</td>\n",
              "      <td>0</td>\n",
              "      <td>0</td>\n",
              "      <td>0</td>\n",
              "      <td>0</td>\n",
              "      <td>0</td>\n",
              "      <td>0</td>\n",
              "      <td>0</td>\n",
              "      <td>0</td>\n",
              "      <td>0</td>\n",
              "      <td>0</td>\n",
              "      <td>0</td>\n",
              "      <td>0</td>\n",
              "      <td>NaN</td>\n",
              "      <td>NaN</td>\n",
              "    </tr>\n",
              "    <tr>\n",
              "      <th>307508</th>\n",
              "      <td>456253</td>\n",
              "      <td>0</td>\n",
              "      <td>Cash loans</td>\n",
              "      <td>F</td>\n",
              "      <td>N</td>\n",
              "      <td>Y</td>\n",
              "      <td>0</td>\n",
              "      <td>153000.0</td>\n",
              "      <td>677664.0</td>\n",
              "      <td>29979.0</td>\n",
              "      <td>585000.0</td>\n",
              "      <td>Unaccompanied</td>\n",
              "      <td>Working</td>\n",
              "      <td>Higher education</td>\n",
              "      <td>Separated</td>\n",
              "      <td>House / apartment</td>\n",
              "      <td>0.005002</td>\n",
              "      <td>-6737.0</td>\n",
              "      <td>-5150</td>\n",
              "      <td>1</td>\n",
              "      <td>1</td>\n",
              "      <td>0</td>\n",
              "      <td>1</td>\n",
              "      <td>0</td>\n",
              "      <td>1</td>\n",
              "      <td>Managers</td>\n",
              "      <td>1.0</td>\n",
              "      <td>3</td>\n",
              "      <td>3</td>\n",
              "      <td>THURSDAY</td>\n",
              "      <td>9</td>\n",
              "      <td>0</td>\n",
              "      <td>0</td>\n",
              "      <td>0</td>\n",
              "      <td>0</td>\n",
              "      <td>1</td>\n",
              "      <td>1</td>\n",
              "      <td>School</td>\n",
              "      <td>0.535722</td>\n",
              "      <td>0.218859</td>\n",
              "      <td>No</td>\n",
              "      <td>0.0</td>\n",
              "      <td>6.0</td>\n",
              "      <td>-1909.0</td>\n",
              "      <td>0</td>\n",
              "      <td>1</td>\n",
              "      <td>0</td>\n",
              "      <td>0</td>\n",
              "      <td>0</td>\n",
              "      <td>0</td>\n",
              "      <td>0</td>\n",
              "      <td>0</td>\n",
              "      <td>0</td>\n",
              "      <td>0</td>\n",
              "      <td>0</td>\n",
              "      <td>0</td>\n",
              "      <td>0</td>\n",
              "      <td>0</td>\n",
              "      <td>0</td>\n",
              "      <td>0</td>\n",
              "      <td>0</td>\n",
              "      <td>0</td>\n",
              "      <td>0</td>\n",
              "      <td>0</td>\n",
              "      <td>0.0</td>\n",
              "      <td>1.0</td>\n",
              "    </tr>\n",
              "    <tr>\n",
              "      <th>307509</th>\n",
              "      <td>456254</td>\n",
              "      <td>1</td>\n",
              "      <td>Cash loans</td>\n",
              "      <td>F</td>\n",
              "      <td>N</td>\n",
              "      <td>Y</td>\n",
              "      <td>0</td>\n",
              "      <td>171000.0</td>\n",
              "      <td>370107.0</td>\n",
              "      <td>20205.0</td>\n",
              "      <td>319500.0</td>\n",
              "      <td>Unaccompanied</td>\n",
              "      <td>Commercial associate</td>\n",
              "      <td>Secondary / secondary special</td>\n",
              "      <td>Married</td>\n",
              "      <td>House / apartment</td>\n",
              "      <td>0.005313</td>\n",
              "      <td>-2562.0</td>\n",
              "      <td>-931</td>\n",
              "      <td>1</td>\n",
              "      <td>1</td>\n",
              "      <td>0</td>\n",
              "      <td>1</td>\n",
              "      <td>0</td>\n",
              "      <td>0</td>\n",
              "      <td>Laborers</td>\n",
              "      <td>2.0</td>\n",
              "      <td>2</td>\n",
              "      <td>2</td>\n",
              "      <td>WEDNESDAY</td>\n",
              "      <td>9</td>\n",
              "      <td>0</td>\n",
              "      <td>0</td>\n",
              "      <td>0</td>\n",
              "      <td>1</td>\n",
              "      <td>1</td>\n",
              "      <td>0</td>\n",
              "      <td>Business Entity Type 1</td>\n",
              "      <td>0.514163</td>\n",
              "      <td>0.661024</td>\n",
              "      <td>No</td>\n",
              "      <td>0.0</td>\n",
              "      <td>0.0</td>\n",
              "      <td>-322.0</td>\n",
              "      <td>0</td>\n",
              "      <td>1</td>\n",
              "      <td>0</td>\n",
              "      <td>0</td>\n",
              "      <td>0</td>\n",
              "      <td>0</td>\n",
              "      <td>0</td>\n",
              "      <td>0</td>\n",
              "      <td>0</td>\n",
              "      <td>0</td>\n",
              "      <td>0</td>\n",
              "      <td>0</td>\n",
              "      <td>0</td>\n",
              "      <td>0</td>\n",
              "      <td>0</td>\n",
              "      <td>0</td>\n",
              "      <td>0</td>\n",
              "      <td>0</td>\n",
              "      <td>0</td>\n",
              "      <td>0</td>\n",
              "      <td>0.0</td>\n",
              "      <td>0.0</td>\n",
              "    </tr>\n",
              "    <tr>\n",
              "      <th>307510</th>\n",
              "      <td>456255</td>\n",
              "      <td>0</td>\n",
              "      <td>Cash loans</td>\n",
              "      <td>F</td>\n",
              "      <td>N</td>\n",
              "      <td>N</td>\n",
              "      <td>0</td>\n",
              "      <td>157500.0</td>\n",
              "      <td>675000.0</td>\n",
              "      <td>49117.5</td>\n",
              "      <td>675000.0</td>\n",
              "      <td>Unaccompanied</td>\n",
              "      <td>Commercial associate</td>\n",
              "      <td>Higher education</td>\n",
              "      <td>Married</td>\n",
              "      <td>House / apartment</td>\n",
              "      <td>0.046220</td>\n",
              "      <td>-5128.0</td>\n",
              "      <td>-410</td>\n",
              "      <td>1</td>\n",
              "      <td>1</td>\n",
              "      <td>1</td>\n",
              "      <td>1</td>\n",
              "      <td>1</td>\n",
              "      <td>0</td>\n",
              "      <td>Laborers</td>\n",
              "      <td>2.0</td>\n",
              "      <td>1</td>\n",
              "      <td>1</td>\n",
              "      <td>THURSDAY</td>\n",
              "      <td>20</td>\n",
              "      <td>0</td>\n",
              "      <td>0</td>\n",
              "      <td>0</td>\n",
              "      <td>0</td>\n",
              "      <td>1</td>\n",
              "      <td>1</td>\n",
              "      <td>Business Entity Type 3</td>\n",
              "      <td>0.708569</td>\n",
              "      <td>0.113922</td>\n",
              "      <td>No</td>\n",
              "      <td>0.0</td>\n",
              "      <td>0.0</td>\n",
              "      <td>-787.0</td>\n",
              "      <td>0</td>\n",
              "      <td>1</td>\n",
              "      <td>0</td>\n",
              "      <td>0</td>\n",
              "      <td>0</td>\n",
              "      <td>0</td>\n",
              "      <td>0</td>\n",
              "      <td>0</td>\n",
              "      <td>0</td>\n",
              "      <td>0</td>\n",
              "      <td>0</td>\n",
              "      <td>0</td>\n",
              "      <td>0</td>\n",
              "      <td>0</td>\n",
              "      <td>0</td>\n",
              "      <td>0</td>\n",
              "      <td>0</td>\n",
              "      <td>0</td>\n",
              "      <td>0</td>\n",
              "      <td>0</td>\n",
              "      <td>0.0</td>\n",
              "      <td>1.0</td>\n",
              "    </tr>\n",
              "  </tbody>\n",
              "</table>\n",
              "<p>307511 rows × 66 columns</p>\n",
              "</div>"
            ],
            "text/plain": [
              "        SK_ID_CURR  ...  AMT_REQ_CREDIT_BUREAU_YEAR\n",
              "0           100002  ...                         1.0\n",
              "1           100003  ...                         0.0\n",
              "2           100004  ...                         0.0\n",
              "3           100006  ...                         NaN\n",
              "4           100007  ...                         0.0\n",
              "...            ...  ...                         ...\n",
              "307506      456251  ...                         NaN\n",
              "307507      456252  ...                         NaN\n",
              "307508      456253  ...                         1.0\n",
              "307509      456254  ...                         0.0\n",
              "307510      456255  ...                         1.0\n",
              "\n",
              "[307511 rows x 66 columns]"
            ]
          },
          "metadata": {
            "tags": []
          },
          "execution_count": 315
        }
      ]
    },
    {
      "cell_type": "code",
      "metadata": {
        "id": "5ok21OLNzKSr"
      },
      "source": [
        "df[['AGE', 'DAYS_EMPLOYED']] = not_bool_df[['AGE', 'DAYS_EMPLOYED']]"
      ],
      "execution_count": 316,
      "outputs": []
    },
    {
      "cell_type": "code",
      "metadata": {
        "colab": {
          "base_uri": "https://localhost:8080/",
          "height": 518
        },
        "id": "4WDm1Mb5zKbS",
        "outputId": "3c48dbcf-6d38-4864-a9f9-77c7c9607ce5"
      },
      "source": [
        "plt.figure(figsize=(10,8))\n",
        "\n",
        "sns.kdeplot(df.loc[not_bool_df['TARGET']==0,'AGE'],label='target==0')\n",
        "\n",
        "sns.kdeplot(df.loc[not_bool_df['TARGET']==1,'AGE'],label='target==1')\n",
        "\n",
        "plt.xlabel('year');\n",
        "plt.ylabel('Density');\n",
        "plt.title('Distribution of age');\n",
        "plt.legend()\n",
        "plt.show()"
      ],
      "execution_count": 317,
      "outputs": [
        {
          "output_type": "display_data",
          "data": {
            "image/png": "[encoded data removed]",
            "text/plain": [
              "<Figure size 720x576 with 1 Axes>"
            ]
          },
          "metadata": {
            "tags": []
          }
        }
      ]
    },
    {
      "cell_type": "markdown",
      "metadata": {
        "id": "OYhLH1Po2U0G"
      },
      "source": [
        "People having age 30 is most likely to have target value 1"
      ]
    },
    {
      "cell_type": "markdown",
      "metadata": {
        "id": "nL0PoAuMwopE"
      },
      "source": [
        "**4.HANDLING BOOLEAN CATEGORICAL COLUMNS**"
      ]
    },
    {
      "cell_type": "code",
      "metadata": {
        "colab": {
          "base_uri": "https://localhost:8080/"
        },
        "id": "BaMzEIU_wnhI",
        "outputId": "5d3b64ce-59fc-4153-a358-90ef57930771"
      },
      "source": [
        "bool_df.shape"
      ],
      "execution_count": 318,
      "outputs": [
        {
          "output_type": "execute_result",
          "data": {
            "text/plain": [
              "(307511, 33)"
            ]
          },
          "metadata": {
            "tags": []
          },
          "execution_count": 318
        }
      ]
    },
    {
      "cell_type": "code",
      "metadata": {
        "colab": {
          "base_uri": "https://localhost:8080/"
        },
        "id": "uOBc4ih8wnxA",
        "outputId": "c58a1123-349d-4282-a8b7-678cbc5677e3"
      },
      "source": [
        "correlation_bool = bool_df.corr()\n",
        "correlation_bool.sort_values([\"TARGET\"], ascending = False, inplace = True)\n",
        "correlation_bool.TARGET"
      ],
      "execution_count": 319,
      "outputs": [
        {
          "output_type": "execute_result",
          "data": {
            "text/plain": [
              "TARGET                         1.000000\n",
              "REG_CITY_NOT_WORK_CITY         0.050994\n",
              "FLAG_EMP_PHONE                 0.045982\n",
              "REG_CITY_NOT_LIVE_CITY         0.044395\n",
              "FLAG_DOCUMENT_3                0.044346\n",
              "LIVE_CITY_NOT_WORK_CITY        0.032518\n",
              "FLAG_WORK_PHONE                0.028524\n",
              "REG_REGION_NOT_WORK_REGION     0.006942\n",
              "REG_REGION_NOT_LIVE_REGION     0.005576\n",
              "FLAG_DOCUMENT_2                0.005417\n",
              "FLAG_DOCUMENT_21               0.003709\n",
              "LIVE_REGION_NOT_WORK_REGION    0.002819\n",
              "FLAG_MOBIL                     0.000534\n",
              "FLAG_CONT_MOBILE               0.000370\n",
              "FLAG_DOCUMENT_20               0.000215\n",
              "FLAG_DOCUMENT_5               -0.000316\n",
              "FLAG_DOCUMENT_12              -0.000756\n",
              "FLAG_DOCUMENT_19              -0.001358\n",
              "FLAG_DOCUMENT_10              -0.001414\n",
              "FLAG_DOCUMENT_7               -0.001520\n",
              "FLAG_EMAIL                    -0.001758\n",
              "FLAG_DOCUMENT_4               -0.002672\n",
              "FLAG_DOCUMENT_17              -0.003378\n",
              "FLAG_DOCUMENT_11              -0.004229\n",
              "FLAG_DOCUMENT_9               -0.004352\n",
              "FLAG_DOCUMENT_15              -0.006536\n",
              "FLAG_DOCUMENT_18              -0.007952\n",
              "FLAG_DOCUMENT_8               -0.008040\n",
              "FLAG_DOCUMENT_14              -0.009464\n",
              "FLAG_DOCUMENT_13              -0.011583\n",
              "FLAG_DOCUMENT_16              -0.011615\n",
              "FLAG_PHONE                    -0.023806\n",
              "FLAG_DOCUMENT_6               -0.028602\n",
              "Name: TARGET, dtype: float64"
            ]
          },
          "metadata": {
            "tags": []
          },
          "execution_count": 319
        }
      ]
    },
    {
      "cell_type": "code",
      "metadata": {
        "colab": {
          "base_uri": "https://localhost:8080/",
          "height": 464
        },
        "id": "wScTIJKqwn0s",
        "outputId": "e4458bf3-b567-4afe-d692-070fdbfb7884"
      },
      "source": [
        "figsize = (14, 18)\n",
        "correlation_bool.TARGET.plot.bar()\n",
        "plt.title(\"Feature importance of categorical columns\");\n",
        "plt.show()"
      ],
      "execution_count": 320,
      "outputs": [
        {
          "output_type": "display_data",
          "data": {
            "image/png": "[encoded data removed]",
            "text/plain": [
              "<Figure size 432x288 with 1 Axes>"
            ]
          },
          "metadata": {
            "tags": []
          }
        }
      ]
    },
    {
      "cell_type": "code",
      "metadata": {
        "colab": {
          "base_uri": "https://localhost:8080/"
        },
        "id": "gum4j7vcyIbW",
        "outputId": "8b42a668-928f-4287-b666-b4ba3e93741b"
      },
      "source": [
        "bool_df.columns"
      ],
      "execution_count": 321,
      "outputs": [
        {
          "output_type": "execute_result",
          "data": {
            "text/plain": [
              "Index(['TARGET', 'FLAG_MOBIL', 'FLAG_EMP_PHONE', 'FLAG_WORK_PHONE',\n",
              "       'FLAG_CONT_MOBILE', 'FLAG_PHONE', 'FLAG_EMAIL',\n",
              "       'REG_REGION_NOT_LIVE_REGION', 'REG_REGION_NOT_WORK_REGION',\n",
              "       'LIVE_REGION_NOT_WORK_REGION', 'REG_CITY_NOT_LIVE_CITY',\n",
              "       'REG_CITY_NOT_WORK_CITY', 'LIVE_CITY_NOT_WORK_CITY', 'FLAG_DOCUMENT_2',\n",
              "       'FLAG_DOCUMENT_3', 'FLAG_DOCUMENT_4', 'FLAG_DOCUMENT_5',\n",
              "       'FLAG_DOCUMENT_6', 'FLAG_DOCUMENT_7', 'FLAG_DOCUMENT_8',\n",
              "       'FLAG_DOCUMENT_9', 'FLAG_DOCUMENT_10', 'FLAG_DOCUMENT_11',\n",
              "       'FLAG_DOCUMENT_12', 'FLAG_DOCUMENT_13', 'FLAG_DOCUMENT_14',\n",
              "       'FLAG_DOCUMENT_15', 'FLAG_DOCUMENT_16', 'FLAG_DOCUMENT_17',\n",
              "       'FLAG_DOCUMENT_18', 'FLAG_DOCUMENT_19', 'FLAG_DOCUMENT_20',\n",
              "       'FLAG_DOCUMENT_21'],\n",
              "      dtype='object')"
            ]
          },
          "metadata": {
            "tags": []
          },
          "execution_count": 321
        }
      ]
    },
    {
      "cell_type": "markdown",
      "metadata": {
        "id": "kTznOHnpx2-Q"
      },
      "source": [
        "MOST OF THE COLUMNS HAVE NO CORRELATION WITH TARGET VARIABLE SO WE NEED TO DROP THESE COLUMNS"
      ]
    },
    {
      "cell_type": "code",
      "metadata": {
        "id": "A1ord3oawn3_"
      },
      "source": [
        "dropping_cols = set(bool_df.columns)- set(['REG_CITY_NOT_WORK_CITY','FLAG_EMP_PHONE','REG_CITY_NOT_LIVE_CITY',\n",
        "                                           'FLAG_DOCUMENT_3','LIVE_CITY_NOT_WORK_CITY','FLAG_WORK_PHONE'])\n",
        "\n",
        "bool_df.drop(dropping_cols, axis=1, inplace=True)"
      ],
      "execution_count": 322,
      "outputs": []
    },
    {
      "cell_type": "code",
      "metadata": {
        "colab": {
          "base_uri": "https://localhost:8080/"
        },
        "id": "48USpKVndKXa",
        "outputId": "80629a74-9106-40e6-e735-fda8125d9e7a"
      },
      "source": [
        "bool_df.shape"
      ],
      "execution_count": 323,
      "outputs": [
        {
          "output_type": "execute_result",
          "data": {
            "text/plain": [
              "(307511, 6)"
            ]
          },
          "metadata": {
            "tags": []
          },
          "execution_count": 323
        }
      ]
    },
    {
      "cell_type": "code",
      "metadata": {
        "colab": {
          "base_uri": "https://localhost:8080/"
        },
        "id": "eyFu-rIqdKar",
        "outputId": "bb6ed487-849f-4498-e999-aa3053b299ae"
      },
      "source": [
        "bool_df.isnull().sum()"
      ],
      "execution_count": 324,
      "outputs": [
        {
          "output_type": "execute_result",
          "data": {
            "text/plain": [
              "FLAG_EMP_PHONE             0\n",
              "FLAG_WORK_PHONE            0\n",
              "REG_CITY_NOT_LIVE_CITY     0\n",
              "REG_CITY_NOT_WORK_CITY     0\n",
              "LIVE_CITY_NOT_WORK_CITY    0\n",
              "FLAG_DOCUMENT_3            0\n",
              "dtype: int64"
            ]
          },
          "metadata": {
            "tags": []
          },
          "execution_count": 324
        }
      ]
    },
    {
      "cell_type": "code",
      "metadata": {
        "id": "1-h2P-XFdKhY"
      },
      "source": [
        ""
      ],
      "execution_count": 324,
      "outputs": []
    },
    {
      "cell_type": "code",
      "metadata": {
        "id": "Sb107KdhrM1m"
      },
      "source": [
        ""
      ],
      "execution_count": null,
      "outputs": []
    }
  ]
}